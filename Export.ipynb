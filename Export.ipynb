{
 "cells": [
  {
   "cell_type": "code",
   "execution_count": null,
   "metadata": {},
   "outputs": [],
   "source": [
    "from datetime import datetime\n",
    "import os\n",
    "import pandas\n",
    "import re"
   ]
  },
  {
   "cell_type": "code",
   "execution_count": null,
   "metadata": {},
   "outputs": [],
   "source": [
    "EX_RUNTIME = 300 # seconds"
   ]
  },
  {
   "cell_type": "code",
   "execution_count": null,
   "metadata": {},
   "outputs": [],
   "source": [
    "dir = os.scandir('raw/')\n",
    "experiments = list(filter(lambda x: x.is_dir() and x.name[0] != '.', dir))\n"
   ]
  },
  {
   "cell_type": "code",
   "execution_count": null,
   "metadata": {},
   "outputs": [],
   "source": [
    "def experiment_to_csv(path):\n",
    "    jobs = pandas.read_csv(f'{experiment.path}/design.csv')\n",
    "    jobs.columns.values[0] = 'Index'\n",
    "    jobs = jobs[jobs.Index >= 0]\n",
    "    \n",
    "    jobs['accuracy'] = 0.0\n",
    "    jobs['epochs'] = 0\n",
    "    pat = re.compile(\"accuracy: (\\d+\\.\\d+)\")\n",
    "    for idx, row in jobs.iterrows():\n",
    "    #     {int(row.num_nodes)}\n",
    "        row.failure_rate = 0.0\n",
    "        row.failure_duration = 0.0\n",
    "        filename = f\"{int(row.Index)}-nodes{int(row.num_nodes)}-batch{int(row.batch_size)}-epochs50-frate{int(row.failure_rate)}-duration{int(row.failure_duration)}-time{EX_RUNTIME}.log\"\n",
    "\n",
    "\n",
    "        try:\n",
    "            with open(f'{experiment.path}/{filename}', 'r') as file:\n",
    "                content = file.read()\n",
    "                result = pat.findall(content)\n",
    "                jobs.at[idx, 'accuracy'] = result[-1] if len(result) > 0 else 0\n",
    "                jobs.loc[idx, 'epochs'] = len(result)\n",
    "        except FileNotFoundError as e:\n",
    "            print(e)\n",
    "            jobs.at[idx, 'accuracy'] = -1\n",
    "            jobs.loc[idx, 'epochs'] = -1\n",
    "    \n",
    "    time = os.stat(f'{experiment.path}/design.csv').st_mtime\n",
    "    dt = datetime.fromtimestamp(time)\n",
    "    jobs.to_csv(f'ex-{dt.strftime(\"%Y-%m-%d_%H:%M\")}.csv')\n",
    "    jobs"
   ]
  },
  {
   "cell_type": "code",
   "execution_count": null,
   "metadata": {},
   "outputs": [],
   "source": [
    "for experiment in experiments:\n",
    "    if os.path.exists(f'{experiment.path}/design.csv'):\n",
    "        experiment_to_csv(experiment.path)"
   ]
  }
 ],
 "metadata": {
  "kernelspec": {
   "display_name": "Python 3",
   "language": "python",
   "name": "python3"
  },
  "language_info": {
   "codemirror_mode": {
    "name": "ipython",
    "version": 3
   },
   "file_extension": ".py",
   "mimetype": "text/x-python",
   "name": "python",
   "nbconvert_exporter": "python",
   "pygments_lexer": "ipython3",
   "version": "3.7.3"
  }
 },
 "nbformat": 4,
 "nbformat_minor": 2
}
