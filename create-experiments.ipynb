{
 "cells": [
  {
   "cell_type": "markdown",
   "metadata": {
    "collapsed": true,
    "pycharm": {
     "name": "#%% md\n"
    }
   },
   "source": [
    "## Create the 2k and full factorial experiments\n",
    "\n",
    "With the help of pyDOE create all the combinations needed and save them to csv format\n",
    "so they are easy to read and launch from the testing notebook"
   ]
  },
  {
   "cell_type": "code",
   "execution_count": 1,
   "metadata": {
    "pycharm": {
     "name": "#%%\n",
     "is_executing": false
    }
   },
   "outputs": [],
   "source": [
    "import numpy as np\n",
    "import pandas as pd\n",
    "import csv\n",
    "import pyDOE2 as doe\n"
   ]
  },
  {
   "cell_type": "markdown",
   "metadata": {
    "pycharm": {
     "name": "#%% md\n"
    }
   },
   "source": [
    "### Create the 2k factorial\n",
    "\n",
    "The factors are:\n",
    "\n",
    "- Number of CPUs (or machines, we need to talk about that)\n",
    "- Batch size\n",
    "- Number of jobs"
   ]
  },
  {
   "cell_type": "code",
   "execution_count": 2,
   "metadata": {
    "pycharm": {
     "name": "#%%\n",
     "is_executing": false
    }
   },
   "outputs": [],
   "source": [
    "# Declare the levels\n",
    "cpu_levels = [1, 2, 4, 8]\n",
    "batch_levels = [64, 128, 256, 512]\n",
    "njobs_levels = [1, 3, 5]\n",
    "network_levels = ['lenet5', 'simplenet']\n",
    "\n",
    "# Declare the columns for the output file\n",
    "columns=['cpu', 'batch', 'njobs', 'network']"
   ]
  },
  {
   "cell_type": "code",
   "execution_count": 22,
   "metadata": {
    "pycharm": {
     "name": "#%%\n",
     "is_executing": false
    }
   },
   "outputs": [
    {
     "name": "stdout",
     "text": [
      "0\n1\n2\n3\n4\n5\n6\n7\n8\n9\n10\n11\n12\n13\n14\n15\n"
     ],
     "output_type": "stream"
    }
   ],
   "source": [
    "# take the extremes for the 2k factorial design\n",
    "cpu = {-1:cpu_levels[0], 1:cpu_levels[-1]}\n",
    "batch = {-1:batch_levels[0], 1:batch_levels[-1]}\n",
    "jobs = {-1:njobs_levels[0], 1:njobs_levels[-1]}\n",
    "networks = {-1:network_levels[0], 1:network_levels[-1]}\n",
    "\n",
    "\n",
    "design = doe.ff2n(4)\n",
    "df = pd.DataFrame(design, columns=columns)\n",
    "\n",
    "experiments = pd.DataFrame(columns=columns)\n",
    "for idx, row in df.iterrows():\n",
    "    print(idx)\n",
    "    experiments.loc[idx] = (cpu[row.cpu], batch[row.batch], jobs[row.njobs], networks[row.network])\n",
    "\n",
    "experiments.to_csv('./experiment_designs/2k_design.csv')"
   ]
  },
  {
   "cell_type": "markdown",
   "metadata": {
    "pycharm": {
     "name": "#%% md\n"
    }
   },
   "source": [
    "### Create the Full Factorial Design with all the levels and stuff"
   ]
  },
  {
   "cell_type": "code",
   "execution_count": 28,
   "metadata": {
    "pycharm": {
     "name": "#%%\n",
     "is_executing": false
    }
   },
   "outputs": [],
   "source": [
    "# Create the full factorial design\n",
    "ff = doe.fullfact([len(cpu_levels), len(batch_levels), len(njobs_levels), len(network_levels)])\n",
    "ff_df = pd.DataFrame(ff, columns=columns)\n",
    "\n",
    "experiments = pd.DataFrame(columns=columns)\n",
    "for idx, row in ff_df.iterrows():\n",
    "    experiments.loc[idx] = (cpu_levels[int(row.cpu)], batch_levels[int(row.batch)], njobs_levels[int(row.njobs)], \n",
    "                            network_levels[int(row.network)])\n",
    "\n",
    "# save to csv file\n",
    "experiments.to_csv('experiment_designs/fullfact.csv')\n"
   ]
  }
 ],
 "metadata": {
  "kernelspec": {
   "display_name": "Python 3",
   "language": "python",
   "name": "python3"
  },
  "language_info": {
   "codemirror_mode": {
    "name": "ipython",
    "version": 3
   },
   "file_extension": ".py",
   "mimetype": "text/x-python",
   "name": "python",
   "nbconvert_exporter": "python",
   "pygments_lexer": "ipython3",
   "version": "3.6.8"
  },
  "pycharm": {
   "stem_cell": {
    "cell_type": "raw",
    "source": [],
    "metadata": {
     "collapsed": false
    }
   }
  }
 },
 "nbformat": 4,
 "nbformat_minor": 1
}