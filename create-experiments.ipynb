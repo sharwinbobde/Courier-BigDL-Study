{
 "cells": [
  {
   "cell_type": "markdown",
   "metadata": {
    "collapsed": true,
    "pycharm": {
     "name": "#%% md\n"
    }
   },
   "source": [
    "## Create the 2k and full factorial experiments\n",
    "\n",
    "With the help of pyDOE create all the combinations needed and save them to csv format\n",
    "so they are easy to read and launch from the testing notebook"
   ]
  },
  {
   "cell_type": "code",
   "execution_count": 2,
   "outputs": [],
   "source": [
    "import numpy as np\n",
    "import pandas as pd\n",
    "import csv\n",
    "import pyDOE2 as doe\n"
   ],
   "metadata": {
    "collapsed": false,
    "pycharm": {
     "name": "#%%\n"
    }
   }
  },
  {
   "cell_type": "markdown",
   "source": [
    "### Create the 2k factorial\n",
    "\n",
    "The factors are:\n",
    "\n",
    "- Number of CPUs (or machines, we need to talk about that)\n",
    "- Batch size\n",
    "- Number of jobs"
   ],
   "metadata": {
    "collapsed": false,
    "pycharm": {
     "name": "#%% md\n"
    }
   }
  },
  {
   "cell_type": "code",
   "execution_count": 25,
   "outputs": [],
   "source": [
    "# declare the levels we will use for the factorial design\n",
    "cpu = {-1:2, 1:16}\n",
    "batch = {-1:32, 1:512}\n",
    "jobs = {-1: 1, 1:10}\n",
    "columns=['cpu', 'batch', 'njobs']\n",
    "\n",
    "\n",
    "design = doe.ff2n(3)\n",
    "df = pd.DataFrame(design, columns=columns)\n",
    "\n",
    "# Change the numbers so we get the actual values\n",
    "values = np.zeros(design.shape)\n",
    "for idx, row in df.iterrows():\n",
    "    values[idx][0] = cpu[row.cpu]\n",
    "    values[idx][1] = batch[row.batch]\n",
    "    values[idx][2] = jobs[row.njobs]\n",
    "\n",
    "\n",
    "# Save the experiments to a csv file\n",
    "experiments = pd.DataFrame(values, columns=columns)\n",
    "\n",
    "experiments.to_csv('./experiment_designs/2k_design.csv')\n"
   ],
   "metadata": {
    "collapsed": false,
    "pycharm": {
     "name": "#%%\n"
    }
   }
  },
  {
   "cell_type": "markdown",
   "source": [
    "### Create the Full Factorial Design with all the levels and stuff"
   ],
   "metadata": {
    "collapsed": false,
    "pycharm": {
     "name": "#%% md\n"
    }
   }
  },
  {
   "cell_type": "code",
   "execution_count": 26,
   "outputs": [],
   "source": [
    "# Declare the levels\n",
    "cpu_levels = [2, 4, 8, 16]\n",
    "batch_levels = [32, 64, 128, 256, 512]\n",
    "njobs_levels = [1, 5, 10]\n",
    "# todo add networks when we know they work\n",
    "\n",
    "\n",
    "# Create the full factorial design\n",
    "ff = doe.fullfact([len(cpu_levels), len(batch_levels), len(njobs_levels)])\n",
    "ff_df = pd.DataFrame(ff, columns=columns)\n",
    "\n",
    "values = np.zeros(ff.shape)\n",
    "# Change the values for the actual number\n",
    "for idx, row in ff_df.iterrows():\n",
    "    values[idx][0] = cpu_levels[int(row.cpu)]\n",
    "    values[idx][1] = batch_levels[int(row.batch)]\n",
    "    values[idx][2] = njobs_levels[int(row.njobs)]\n",
    "\n",
    "\n",
    "experiments = pd.DataFrame(values, columns=columns)\n",
    "\n",
    "# save to csv file\n",
    "experiments.to_csv('experiment_designs/fullfact.csv')\n",
    "\n",
    "\n",
    "\n",
    "\n",
    "\n",
    "\n",
    "\n",
    "\n"
   ],
   "metadata": {
    "collapsed": false,
    "pycharm": {
     "name": "#%%\n"
    }
   }
  }
 ],
 "metadata": {
  "kernelspec": {
   "display_name": "Python 3",
   "language": "python",
   "name": "python3"
  },
  "language_info": {
   "codemirror_mode": {
    "name": "ipython",
    "version": 2
   },
   "file_extension": ".py",
   "mimetype": "text/x-python",
   "name": "python",
   "nbconvert_exporter": "python",
   "pygments_lexer": "ipython2",
   "version": "2.7.6"
  }
 },
 "nbformat": 4,
 "nbformat_minor": 0
}