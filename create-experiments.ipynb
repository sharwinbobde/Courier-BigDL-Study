{
 "cells": [
  {
   "cell_type": "markdown",
   "metadata": {
    "collapsed": true,
    "pycharm": {
     "name": "#%% md\n"
    }
   },
   "source": [
    "## Create the 2k and full factorial experiments\n",
    "\n",
    "With the help of pyDOE create all the combinations needed and save them to csv format\n",
    "so they are easy to read and launch from the testing notebook"
   ]
  },
  {
   "cell_type": "code",
   "execution_count": 2,
   "metadata": {
    "pycharm": {
     "is_executing": false,
     "name": "#%%\n"
    }
   },
   "outputs": [],
   "source": [
    "import numpy as np\n",
    "import pandas as pd\n",
    "import csv\n",
    "import pyDOE2 as doe\n"
   ]
  },
  {
   "cell_type": "markdown",
   "metadata": {
    "pycharm": {
     "name": "#%% md\n"
    }
   },
   "source": [
    "### Create the 2k factorial\n",
    "\n",
    "The factors are:\n",
    "\n",
    "- Number of CPUs (or machines, we need to talk about that)\n",
    "- Batch size\n",
    "- Number of jobs"
   ]
  },
  {
   "cell_type": "code",
   "execution_count": 4,
   "metadata": {
    "pycharm": {
     "is_executing": false,
     "name": "#%%\n"
    }
   },
   "outputs": [],
   "source": [
    "# Declare the levels\n",
    "cpu_levels = [1, 2, 4, 8]\n",
    "batch_levels = [64, 128, 256, 512]\n",
    "njobs_levels = [1, 3, 5]\n",
    "network_levels = ['lenet5', 'simplenet']\n",
    "\n",
    "# Declare the columns for the output file\n",
    "columns=['cpu', 'batch', 'njobs', 'network']"
   ]
  },
  {
   "cell_type": "code",
   "execution_count": null,
   "metadata": {
    "pycharm": {
     "is_executing": false,
     "name": "#%%\n"
    }
   },
   "outputs": [],
   "source": [
    "# take the extremes for the 2k factorial design\n",
    "cpu = {-1:cpu_levels[0], 1:cpu_levels[-1]}\n",
    "batch = {-1:batch_levels[0], 1:batch_levels[-1]}\n",
    "jobs = {-1:njobs_levels[0], 1:njobs_levels[-1]}\n",
    "networks = {-1:network_levels[0], 1:network_levels[-1]}\n",
    "\n",
    "\n",
    "design = doe.ff2n(4)\n",
    "df = pd.DataFrame(design, columns=columns)\n",
    "\n",
    "experiments = pd.DataFrame(columns=columns)\n",
    "for idx, row in df.iterrows():\n",
    "    print(idx)\n",
    "    experiments.loc[idx] = (cpu[row.cpu], batch[row.batch], jobs[row.njobs], networks[row.network])\n",
    "\n",
    "experiments.to_csv('./experiment_designs/2k_design.csv')"
   ]
  },
  {
   "cell_type": "markdown",
   "metadata": {
    "pycharm": {
     "name": "#%% md\n"
    }
   },
   "source": [
    "### Create the Full Factorial Design with all the levels and stuff"
   ]
  },
  {
   "cell_type": "code",
   "execution_count": null,
   "metadata": {
    "pycharm": {
     "is_executing": false,
     "name": "#%%\n"
    }
   },
   "outputs": [],
   "source": [
    "# Create the full factorial design\n",
    "ff = doe.fullfact([len(cpu_levels), len(batch_levels), len(njobs_levels), len(network_levels)])\n",
    "ff_df = pd.DataFrame(ff, columns=columns)\n",
    "\n",
    "experiments = pd.DataFrame(columns=columns)\n",
    "for idx, row in ff_df.iterrows():\n",
    "    experiments.loc[idx] = (cpu_levels[int(row.cpu)], batch_levels[int(row.batch)], njobs_levels[int(row.njobs)], \n",
    "                            network_levels[int(row.network)])\n",
    "\n",
    "# save to csv file\n",
    "experiments.to_csv('experiment_designs/fullfact.csv')\n"
   ]
  },
  {
   "cell_type": "markdown",
   "metadata": {},
   "source": [
    "## Create the final experiments to test Courier\n",
    "\n",
    "We will have a dataframe with interarrival times for 10 jobs sampled from an exponential distrbution.\n",
    "We couple that with a random sample of the levels and the number of cpus. We compare Courier with a Random batch choice.\n",
    "\n"
   ]
  },
  {
   "cell_type": "code",
   "execution_count": 10,
   "metadata": {},
   "outputs": [
    {
     "data": {
      "text/html": [
       "<div>\n",
       "<style scoped>\n",
       "    .dataframe tbody tr th:only-of-type {\n",
       "        vertical-align: middle;\n",
       "    }\n",
       "\n",
       "    .dataframe tbody tr th {\n",
       "        vertical-align: top;\n",
       "    }\n",
       "\n",
       "    .dataframe thead th {\n",
       "        text-align: right;\n",
       "    }\n",
       "</style>\n",
       "<table border=\"1\" class=\"dataframe\">\n",
       "  <thead>\n",
       "    <tr style=\"text-align: right;\">\n",
       "      <th></th>\n",
       "      <th>inter_arrival</th>\n",
       "      <th>cpu</th>\n",
       "      <th>njobs</th>\n",
       "      <th>network</th>\n",
       "      <th>latency</th>\n",
       "    </tr>\n",
       "  </thead>\n",
       "  <tbody>\n",
       "    <tr>\n",
       "      <th>0</th>\n",
       "      <td>15.917490</td>\n",
       "      <td>4</td>\n",
       "      <td>2</td>\n",
       "      <td>simplenet</td>\n",
       "      <td>666</td>\n",
       "    </tr>\n",
       "    <tr>\n",
       "      <th>1</th>\n",
       "      <td>25.118615</td>\n",
       "      <td>8</td>\n",
       "      <td>5</td>\n",
       "      <td>simplenet</td>\n",
       "      <td>413</td>\n",
       "    </tr>\n",
       "    <tr>\n",
       "      <th>2</th>\n",
       "      <td>18.464463</td>\n",
       "      <td>8</td>\n",
       "      <td>4</td>\n",
       "      <td>simplenet</td>\n",
       "      <td>348</td>\n",
       "    </tr>\n",
       "    <tr>\n",
       "      <th>3</th>\n",
       "      <td>15.744023</td>\n",
       "      <td>4</td>\n",
       "      <td>1</td>\n",
       "      <td>simplenet</td>\n",
       "      <td>258</td>\n",
       "    </tr>\n",
       "    <tr>\n",
       "      <th>4</th>\n",
       "      <td>11.020970</td>\n",
       "      <td>1</td>\n",
       "      <td>4</td>\n",
       "      <td>lenet5</td>\n",
       "      <td>564</td>\n",
       "    </tr>\n",
       "    <tr>\n",
       "      <th>5</th>\n",
       "      <td>20.763186</td>\n",
       "      <td>2</td>\n",
       "      <td>1</td>\n",
       "      <td>simplenet</td>\n",
       "      <td>373</td>\n",
       "    </tr>\n",
       "    <tr>\n",
       "      <th>6</th>\n",
       "      <td>11.510384</td>\n",
       "      <td>2</td>\n",
       "      <td>3</td>\n",
       "      <td>lenet5</td>\n",
       "      <td>441</td>\n",
       "    </tr>\n",
       "    <tr>\n",
       "      <th>7</th>\n",
       "      <td>44.470488</td>\n",
       "      <td>2</td>\n",
       "      <td>4</td>\n",
       "      <td>simplenet</td>\n",
       "      <td>111</td>\n",
       "    </tr>\n",
       "    <tr>\n",
       "      <th>8</th>\n",
       "      <td>66.298244</td>\n",
       "      <td>2</td>\n",
       "      <td>1</td>\n",
       "      <td>simplenet</td>\n",
       "      <td>470</td>\n",
       "    </tr>\n",
       "    <tr>\n",
       "      <th>9</th>\n",
       "      <td>9.672042</td>\n",
       "      <td>1</td>\n",
       "      <td>2</td>\n",
       "      <td>simplenet</td>\n",
       "      <td>467</td>\n",
       "    </tr>\n",
       "  </tbody>\n",
       "</table>\n",
       "</div>"
      ],
      "text/plain": [
       "   inter_arrival  cpu  njobs    network  latency\n",
       "0      15.917490    4      2  simplenet      666\n",
       "1      25.118615    8      5  simplenet      413\n",
       "2      18.464463    8      4  simplenet      348\n",
       "3      15.744023    4      1  simplenet      258\n",
       "4      11.020970    1      4     lenet5      564\n",
       "5      20.763186    2      1  simplenet      373\n",
       "6      11.510384    2      3     lenet5      441\n",
       "7      44.470488    2      4  simplenet      111\n",
       "8      66.298244    2      1  simplenet      470\n",
       "9       9.672042    1      2  simplenet      467"
      ]
     },
     "execution_count": 10,
     "metadata": {},
     "output_type": "execute_result"
    }
   ],
   "source": [
    "np.random.seed(0)\n",
    "\n",
    "NUM_TASKS = 10\n",
    "\n",
    "inter_arrival = np.random.exponential(scale=20, size=NUM_TASKS)\n",
    "cpus = np.random.choice([1,2,4,8], NUM_TASKS)\n",
    "njobs = np.random.choice(range(1, 6), NUM_TASKS)\n",
    "network = np.random.choice(network_levels, NUM_TASKS)\n",
    "latency = np.random.uniform(100, 700, size=NUM_TASKS).astype(int)\n",
    "\n",
    "exp = {\n",
    "    'inter_arrival':inter_arrival,\n",
    "    'cpu':cpus,\n",
    "    'njobs':njobs,\n",
    "    'network':network,\n",
    "    'latency':latency\n",
    "}\n",
    "\n",
    "final_exp = pd.DataFrame(exp)\n",
    "final_exp.to_csv('./experiment_designs/courier_exp2.csv')\n",
    "final_exp"
   ]
  }
 ],
 "metadata": {
  "kernelspec": {
   "display_name": "Python 3",
   "language": "python",
   "name": "python3"
  },
  "language_info": {
   "codemirror_mode": {
    "name": "ipython",
    "version": 3
   },
   "file_extension": ".py",
   "mimetype": "text/x-python",
   "name": "python",
   "nbconvert_exporter": "python",
   "pygments_lexer": "ipython3",
   "version": "3.6.8"
  },
  "pycharm": {
   "stem_cell": {
    "cell_type": "raw",
    "metadata": {
     "collapsed": false
    },
    "source": []
   }
  }
 },
 "nbformat": 4,
 "nbformat_minor": 1
}
