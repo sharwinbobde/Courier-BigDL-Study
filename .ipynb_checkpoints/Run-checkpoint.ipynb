{
 "cells": [
  {
   "cell_type": "code",
   "execution_count": 1,
   "metadata": {},
   "outputs": [],
   "source": [
    "import mechanize\n",
    "import numpy\n",
    "import os\n",
    "import queue\n",
    "import random\n",
    "import shutil\n",
    "import socket\n",
    "import string\n",
    "import threading\n",
    "import time\n",
    "import urllib.request\n",
    "from abc import ABC, abstractmethod\n",
    "import pandas\n",
    "import libcloud\n",
    "import paramiko\n",
    "from dataclasses import dataclass\n",
    "from libcloud.compute.providers import get_driver\n",
    "from libcloud.compute.types import Provider\n",
    "from paramiko.buffered_pipe import PipeTimeout"
   ]
  },
  {
   "cell_type": "code",
   "execution_count": 15,
   "metadata": {
    "pycharm": {
     "name": "#%%\n"
    }
   },
   "outputs": [
    {
     "ename": "SSHException",
     "evalue": "No authentication methods available",
     "output_type": "error",
     "traceback": [
      "\u001b[1;31m---------------------------------------------------------------------------\u001b[0m",
      "\u001b[1;31mSSHException\u001b[0m                              Traceback (most recent call last)",
      "\u001b[1;32m<ipython-input-15-a516874883ea>\u001b[0m in \u001b[0;36m<module>\u001b[1;34m\u001b[0m\n\u001b[0;32m      1\u001b[0m \u001b[0mc\u001b[0m \u001b[1;33m=\u001b[0m \u001b[0mparamiko\u001b[0m\u001b[1;33m.\u001b[0m\u001b[0mSSHClient\u001b[0m\u001b[1;33m(\u001b[0m\u001b[1;33m)\u001b[0m\u001b[1;33m\u001b[0m\u001b[1;33m\u001b[0m\u001b[0m\n\u001b[0;32m      2\u001b[0m \u001b[0mc\u001b[0m\u001b[1;33m.\u001b[0m\u001b[0mset_missing_host_key_policy\u001b[0m\u001b[1;33m(\u001b[0m\u001b[0mparamiko\u001b[0m\u001b[1;33m.\u001b[0m\u001b[0mAutoAddPolicy\u001b[0m\u001b[1;33m)\u001b[0m\u001b[1;33m\u001b[0m\u001b[1;33m\u001b[0m\u001b[0m\n\u001b[1;32m----> 3\u001b[1;33m \u001b[0mc\u001b[0m\u001b[1;33m.\u001b[0m\u001b[0mconnect\u001b[0m\u001b[1;33m(\u001b[0m\u001b[0mhostname\u001b[0m\u001b[1;33m=\u001b[0m\u001b[1;34m'34.122.201.129'\u001b[0m\u001b[1;33m,\u001b[0m \u001b[0mport\u001b[0m\u001b[1;33m=\u001b[0m\u001b[1;36m22\u001b[0m\u001b[1;33m)\u001b[0m\u001b[1;33m\u001b[0m\u001b[1;33m\u001b[0m\u001b[0m\n\u001b[0m\u001b[0;32m      4\u001b[0m \u001b[1;33m\u001b[0m\u001b[0m\n",
      "\u001b[1;32mc:\\users\\diego\\cs\\qpe\\venv\\lib\\site-packages\\paramiko\\client.py\u001b[0m in \u001b[0;36mconnect\u001b[1;34m(self, hostname, port, username, password, pkey, key_filename, timeout, allow_agent, look_for_keys, compress, sock, gss_auth, gss_kex, gss_deleg_creds, gss_host, banner_timeout, auth_timeout, gss_trust_dns, passphrase, disabled_algorithms)\u001b[0m\n\u001b[0;32m    444\u001b[0m             \u001b[0mgss_deleg_creds\u001b[0m\u001b[1;33m,\u001b[0m\u001b[1;33m\u001b[0m\u001b[1;33m\u001b[0m\u001b[0m\n\u001b[0;32m    445\u001b[0m             \u001b[0mt\u001b[0m\u001b[1;33m.\u001b[0m\u001b[0mgss_host\u001b[0m\u001b[1;33m,\u001b[0m\u001b[1;33m\u001b[0m\u001b[1;33m\u001b[0m\u001b[0m\n\u001b[1;32m--> 446\u001b[1;33m             \u001b[0mpassphrase\u001b[0m\u001b[1;33m,\u001b[0m\u001b[1;33m\u001b[0m\u001b[1;33m\u001b[0m\u001b[0m\n\u001b[0m\u001b[0;32m    447\u001b[0m         )\n\u001b[0;32m    448\u001b[0m \u001b[1;33m\u001b[0m\u001b[0m\n",
      "\u001b[1;32mc:\\users\\diego\\cs\\qpe\\venv\\lib\\site-packages\\paramiko\\client.py\u001b[0m in \u001b[0;36m_auth\u001b[1;34m(self, username, password, pkey, key_filenames, allow_agent, look_for_keys, gss_auth, gss_kex, gss_deleg_creds, gss_host, passphrase)\u001b[0m\n\u001b[0;32m    763\u001b[0m         \u001b[1;32mif\u001b[0m \u001b[0msaved_exception\u001b[0m \u001b[1;32mis\u001b[0m \u001b[1;32mnot\u001b[0m \u001b[1;32mNone\u001b[0m\u001b[1;33m:\u001b[0m\u001b[1;33m\u001b[0m\u001b[1;33m\u001b[0m\u001b[0m\n\u001b[0;32m    764\u001b[0m             \u001b[1;32mraise\u001b[0m \u001b[0msaved_exception\u001b[0m\u001b[1;33m\u001b[0m\u001b[1;33m\u001b[0m\u001b[0m\n\u001b[1;32m--> 765\u001b[1;33m         \u001b[1;32mraise\u001b[0m \u001b[0mSSHException\u001b[0m\u001b[1;33m(\u001b[0m\u001b[1;34m\"No authentication methods available\"\u001b[0m\u001b[1;33m)\u001b[0m\u001b[1;33m\u001b[0m\u001b[1;33m\u001b[0m\u001b[0m\n\u001b[0m\u001b[0;32m    766\u001b[0m \u001b[1;33m\u001b[0m\u001b[0m\n\u001b[0;32m    767\u001b[0m     \u001b[1;32mdef\u001b[0m \u001b[0m_log\u001b[0m\u001b[1;33m(\u001b[0m\u001b[0mself\u001b[0m\u001b[1;33m,\u001b[0m \u001b[0mlevel\u001b[0m\u001b[1;33m,\u001b[0m \u001b[0mmsg\u001b[0m\u001b[1;33m)\u001b[0m\u001b[1;33m:\u001b[0m\u001b[1;33m\u001b[0m\u001b[1;33m\u001b[0m\u001b[0m\n",
      "\u001b[1;31mSSHException\u001b[0m: No authentication methods available"
     ]
    }
   ],
   "source": [
    "c = paramiko.SSHClient()\n",
    "c.set_missing_host_key_policy(paramiko.AutoAddPolicy)\n",
    "c.connect(hostname='34.122.201.129', port=22)"
   ]
  },
  {
   "cell_type": "code",
   "execution_count": 2,
   "metadata": {},
   "outputs": [],
   "source": [
    "SSH_USER = 'am72ghiassi'\n",
    "GCLOUD_ACCOUNT = 'libcloud@qpe-big-dl.iam.gserviceaccount.com'\n",
    "GCLOUD_KEY_PATH = './qpe.json'  # The path to the Service Account Key (a JSON file)\n",
    "GCLOUD_PROJECT = 'qpe-big-dl'  # GCloud project id\n",
    "DESIGN_CSV = ''  # The CSV with the experiment design"
   ]
  },
  {
   "cell_type": "code",
   "execution_count": 4,
   "metadata": {
    "tags": []
   },
   "outputs": [
    {
     "name": "stdout",
     "output_type": "stream",
     "text": [
      "Experiment ID: glkywlxq\n"
     ]
    }
   ],
   "source": [
    "ComputeEngine = get_driver(Provider.GCE)\n",
    "\n",
    "driver = ComputeEngine(GCLOUD_ACCOUNT, GCLOUD_KEY_PATH, project=GCLOUD_PROJECT)\n",
    "location = [l for l in driver.list_locations() if l.id == '2000'][0]\n",
    "# network = [n for n in driver.ex_list_networks() if n.id ==\n",
    "#            '6096184313360012863'][0]\n",
    "\n",
    "try:\n",
    "    # To prevent problems with GCloud reusing IP addresses\n",
    "    os.remove(f'/home/{SSH_USER}/.ssh/known_hosts')\n",
    "except:\n",
    "    pass\n",
    "\n",
    "ex_id = ''.join(random.choice(string.ascii_lowercase)\n",
    "                for i in range(8))  # Generate a random project id\n",
    "EX_RUNTIME = 300  # seconds\n",
    "print(f\"Experiment ID: {ex_id}\")"
   ]
  },
  {
   "cell_type": "code",
   "execution_count": 10,
   "metadata": {
    "pycharm": {
     "name": "#%%\n"
    }
   },
   "outputs": [
    {
     "data": {
      "text/plain": [
       "[<NodeImage: id=851979208552691380, name=bigdl-instance, driver=Google Compute Engine  ...>,\n",
       " <NodeImage: id=1125434965928436263, name=centos-6-v20200910, driver=Google Compute Engine  ...>,\n",
       " <NodeImage: id=628617501591724439, name=centos-7-v20200910, driver=Google Compute Engine  ...>,\n",
       " <NodeImage: id=2154869091259113601, name=centos-8-v20200910, driver=Google Compute Engine  ...>,\n",
       " <NodeImage: id=5824586417083390574, name=cos-77-12371-1086-0, driver=Google Compute Engine  ...>,\n",
       " <NodeImage: id=7804332952016525924, name=cos-81-12871-1207-0, driver=Google Compute Engine  ...>,\n",
       " <NodeImage: id=7386126123774646910, name=cos-85-13310-1041-14, driver=Google Compute Engine  ...>,\n",
       " <NodeImage: id=7752550549962666513, name=cos-beta-85-13310-1041-1, driver=Google Compute Engine  ...>,\n",
       " <NodeImage: id=6919582226050063354, name=cos-dev-86-15217-0-0, driver=Google Compute Engine  ...>,\n",
       " <NodeImage: id=245554651271257278, name=debian-10-buster-v20200910, driver=Google Compute Engine  ...>,\n",
       " <NodeImage: id=5026968560236748687, name=debian-9-stretch-v20200910, driver=Google Compute Engine  ...>,\n",
       " <NodeImage: id=4106340190063488113, name=opensuse-leap-15-1-v20190618, driver=Google Compute Engine  ...>,\n",
       " <NodeImage: id=2039058592334851170, name=opensuse-leap-15-2-v20200702, driver=Google Compute Engine  ...>,\n",
       " <NodeImage: id=7264235420124159262, name=opensuse-leap-15-v20181106, driver=Google Compute Engine  ...>,\n",
       " <NodeImage: id=2942448664644677114, name=rhel-6-v20200910, driver=Google Compute Engine  ...>,\n",
       " <NodeImage: id=9047702417725451067, name=rhel-7-v20200910, driver=Google Compute Engine  ...>,\n",
       " <NodeImage: id=1491719247334206069, name=rhel-8-v20200910, driver=Google Compute Engine  ...>,\n",
       " <NodeImage: id=7084770422055479648, name=sles-12-sp5-v20200916, driver=Google Compute Engine  ...>,\n",
       " <NodeImage: id=8396591925473925510, name=sles-15-sp2-v20200918, driver=Google Compute Engine  ...>,\n",
       " <NodeImage: id=1970513486975711875, name=sles-11-sp4-byos-v20200609, driver=Google Compute Engine  ...>,\n",
       " <NodeImage: id=235602924255610542, name=sles-12-sp2-byos-v20200610, driver=Google Compute Engine  ...>,\n",
       " <NodeImage: id=5022135077028267728, name=sles-12-sp2-sap-byos-v20200610, driver=Google Compute Engine  ...>,\n",
       " <NodeImage: id=2534035899407960386, name=sles-12-sp3-byos-v20200610, driver=Google Compute Engine  ...>,\n",
       " <NodeImage: id=6253452147242600173, name=sles-12-sp3-sap-byos-v20200610, driver=Google Compute Engine  ...>,\n",
       " <NodeImage: id=2128743634123597112, name=sles-12-sp4-byos-v20200916, driver=Google Compute Engine  ...>,\n",
       " <NodeImage: id=132620766847935204, name=sles-12-sp4-sap-byos-v20200916, driver=Google Compute Engine  ...>,\n",
       " <NodeImage: id=2634844111924865372, name=sles-12-sp5-byos-v20200916, driver=Google Compute Engine  ...>,\n",
       " <NodeImage: id=948800682076383228, name=sles-12-sp5-sap-byos-v20200916, driver=Google Compute Engine  ...>,\n",
       " <NodeImage: id=1168549458255785285, name=sles-15-byos-v20200916, driver=Google Compute Engine  ...>,\n",
       " <NodeImage: id=2781180614136539779, name=sles-15-sap-byos-v20200916, driver=Google Compute Engine  ...>,\n",
       " <NodeImage: id=8226413870823807000, name=sles-15-sp1-byos-v20200915, driver=Google Compute Engine  ...>,\n",
       " <NodeImage: id=368893136913007887, name=sles-15-sp1-chost-byos-v20200922, driver=Google Compute Engine  ...>,\n",
       " <NodeImage: id=8818293280841963829, name=sles-15-sp1-sap-byos-v20200915, driver=Google Compute Engine  ...>,\n",
       " <NodeImage: id=183721025014943897, name=sles-15-sp2-byos-v20200918, driver=Google Compute Engine  ...>,\n",
       " <NodeImage: id=8206039984785294023, name=sles-15-sp2-chost-byos-v20200922, driver=Google Compute Engine  ...>,\n",
       " <NodeImage: id=6836204141896355850, name=sles-15-sp2-sap-byos-v20200918, driver=Google Compute Engine  ...>,\n",
       " <NodeImage: id=2366760619905959912, name=suse-cap-deploy-byos-v20200828, driver=Google Compute Engine  ...>,\n",
       " <NodeImage: id=2801467677410827228, name=suse-manager-4-0-proxy-byos-v20200916, driver=Google Compute Engine  ...>,\n",
       " <NodeImage: id=8220022676019517112, name=suse-manager-4-0-server-byos-v20200915, driver=Google Compute Engine  ...>,\n",
       " <NodeImage: id=4551646788738137598, name=suse-manager-4-1-proxy-byos-v20200918, driver=Google Compute Engine  ...>,\n",
       " <NodeImage: id=7682283884272729441, name=suse-manager-4-1-server-byos-v20200918, driver=Google Compute Engine  ...>,\n",
       " <NodeImage: id=2400263946063611607, name=sles-12-sp2-sap-v20200610, driver=Google Compute Engine  ...>,\n",
       " <NodeImage: id=2004784409714919157, name=sles-12-sp3-sap-v20200610, driver=Google Compute Engine  ...>,\n",
       " <NodeImage: id=4568039510676316927, name=sles-12-sp4-sap-v20200916, driver=Google Compute Engine  ...>,\n",
       " <NodeImage: id=1838355144279828752, name=sles-12-sp5-sap-v20200916, driver=Google Compute Engine  ...>,\n",
       " <NodeImage: id=3943584002078648965, name=sles-15-sap-v20200916, driver=Google Compute Engine  ...>,\n",
       " <NodeImage: id=2941800322148839709, name=sles-15-sp1-sap-v20200916, driver=Google Compute Engine  ...>,\n",
       " <NodeImage: id=6606255432569278517, name=sles-15-sp2-sap-v20200918, driver=Google Compute Engine  ...>,\n",
       " <NodeImage: id=4989673658394955089, name=ubuntu-1604-xenial-v20200923, driver=Google Compute Engine  ...>,\n",
       " <NodeImage: id=8817184741192189349, name=ubuntu-1804-bionic-v20200923, driver=Google Compute Engine  ...>,\n",
       " <NodeImage: id=3132403695060109675, name=ubuntu-2004-focal-v20201008, driver=Google Compute Engine  ...>,\n",
       " <NodeImage: id=7326402735215416496, name=windows-server-1809-dc-core-for-containers-v20200908, driver=Google Compute Engine  ...>,\n",
       " <NodeImage: id=421202673190507660, name=windows-server-1809-dc-core-v20200908, driver=Google Compute Engine  ...>,\n",
       " <NodeImage: id=2428996710366123184, name=windows-server-1903-dc-core-for-containers-v20200908, driver=Google Compute Engine  ...>,\n",
       " <NodeImage: id=8618249105949791372, name=windows-server-1903-dc-core-v20200908, driver=Google Compute Engine  ...>,\n",
       " <NodeImage: id=7965015723036054704, name=windows-server-1909-dc-core-for-containers-v20200908, driver=Google Compute Engine  ...>,\n",
       " <NodeImage: id=5053374401424594060, name=windows-server-1909-dc-core-v20200908, driver=Google Compute Engine  ...>,\n",
       " <NodeImage: id=5844000609861571724, name=windows-server-2004-dc-core-v20200908, driver=Google Compute Engine  ...>,\n",
       " <NodeImage: id=1806956274763895948, name=windows-server-2012-r2-dc-core-v20200908, driver=Google Compute Engine  ...>,\n",
       " <NodeImage: id=3091147128286155916, name=windows-server-2012-r2-dc-v20200908, driver=Google Compute Engine  ...>,\n",
       " <NodeImage: id=6413483479123039372, name=windows-server-2016-dc-core-v20200908, driver=Google Compute Engine  ...>,\n",
       " <NodeImage: id=8426783724501669004, name=windows-server-2016-dc-v20200908, driver=Google Compute Engine  ...>,\n",
       " <NodeImage: id=6319743979641836720, name=windows-server-2019-dc-core-for-containers-v20200908, driver=Google Compute Engine  ...>,\n",
       " <NodeImage: id=1939576008641809196, name=sql-2012-enterprise-windows-2012-r2-dc-v20200908, driver=Google Compute Engine  ...>,\n",
       " <NodeImage: id=4165839213800393516, name=sql-2012-standard-windows-2012-r2-dc-v20200908, driver=Google Compute Engine  ...>,\n",
       " <NodeImage: id=4663663809313311531, name=sql-2012-web-windows-2012-r2-dc-v20200908, driver=Google Compute Engine  ...>,\n",
       " <NodeImage: id=7012436760407247660, name=sql-2014-enterprise-windows-2012-r2-dc-v20200908, driver=Google Compute Engine  ...>,\n",
       " <NodeImage: id=9193414496116738860, name=sql-2014-enterprise-windows-2016-dc-v20200908, driver=Google Compute Engine  ...>,\n",
       " <NodeImage: id=679180261781867308, name=sql-2014-standard-windows-2012-r2-dc-v20200908, driver=Google Compute Engine  ...>,\n",
       " <NodeImage: id=5880856488732724012, name=sql-2014-web-windows-2012-r2-dc-v20200908, driver=Google Compute Engine  ...>,\n",
       " <NodeImage: id=5884291672295541548, name=sql-2016-enterprise-windows-2012-r2-dc-v20200908, driver=Google Compute Engine  ...>,\n",
       " <NodeImage: id=6124029754551503660, name=sql-2016-enterprise-windows-2016-dc-v20200908, driver=Google Compute Engine  ...>,\n",
       " <NodeImage: id=3732339398586862380, name=sql-2016-enterprise-windows-2019-dc-v20200908, driver=Google Compute Engine  ...>]"
      ]
     },
     "execution_count": 10,
     "metadata": {},
     "output_type": "execute_result"
    }
   ],
   "source": [
    "driver.list_images()"
   ]
  },
  {
   "cell_type": "code",
   "execution_count": 11,
   "metadata": {},
   "outputs": [],
   "source": [
    "\n",
    "\n",
    "class Node(ABC):\n",
    "    def __init__(self, driver, name, master=False, masterNode=None):\n",
    "        self.driver = driver\n",
    "        self.name = name\n",
    "        if not master and masterNode == None:\n",
    "            raise ValueError(\"Slave nodes need a master\")\n",
    "        self.master = masterNode\n",
    "        self.disk = self.driver.create_volume(40, f\"boot-{self.name}\", image='bigdl-instance', location=location)\n",
    "        self.node = self.driver.create_node(\n",
    "            name, 'n1-standard-1', None, location=location, ex_boot_disk=self.disk)\n",
    "        self.driver.wait_until_running([self.node])\n",
    "        self.pubip = self.node.public_ips[0]\n",
    "        self.privip = self.node.private_ips[0]\n",
    "        self.connected = False\n",
    "\n",
    "        for i in range(5):  # Try 5 times\n",
    "            try:\n",
    "                self.open_ssh()\n",
    "                break\n",
    "            except Exception as e:\n",
    "                print(e)\n",
    "                time.sleep(5)\n",
    "        if not self.connected:\n",
    "            raise RuntimeError(f\"Can't connect to node {self.name}\")\n",
    "        self.start_type()\n",
    "\n",
    "    def __del__(self):\n",
    "        self.close_ssh()\n",
    "\n",
    "    def open_ssh(self):\n",
    "        self.ssh = paramiko.SSHClient()\n",
    "        self.ssh.load_system_host_keys()\n",
    "        self.ssh.set_missing_host_key_policy(paramiko.WarningPolicy())\n",
    "        self.ssh.connect(self.pubip, port=22, username=SSH_USER)\n",
    "        self.connected = True\n",
    "\n",
    "    def close_ssh(self):\n",
    "        self.connected = False\n",
    "        self.ssh.close()\n",
    "\n",
    "    @abstractmethod\n",
    "    def start_type(self):\n",
    "        pass\n",
    "\n",
    "\n",
    "@dataclass\n",
    "class JobOptions:\n",
    "    batch_size: int\n",
    "    max_epochs: int\n",
    "\n",
    "\n",
    "class MasterNode(Node):\n",
    "    def start_type(self):\n",
    "        stdin, stdout, stderr = self.ssh.exec_command(f'echo \"SPARK_MASTER_HOST=\\'{self.privip}\\'\" >> /home/{SSH_USER}/bd/spark/conf/spark-env.sh')\n",
    "        if (len(stderr.read()) > 0):\n",
    "            print(stdout.read())\n",
    "            print(stderr.read())\n",
    "\n",
    "        stdin, stdout, stderr = self.ssh.exec_command(\n",
    "            '/home/{SSH_USER}/bd/spark/sbin/start-master.sh')\n",
    "        if (len(stderr.read()) > 0):\n",
    "            print(stdout.read())\n",
    "            print(stderr.read())\n",
    "\n",
    "    def submit(self, options: JobOptions):\n",
    "\n",
    "        stdin, stdout, stderr = self.ssh.exec_command(f\"/home/{SSH_USER}/bd/spark/bin/spark-submit --master {self.privip} --driver-cores 1 \"\n",
    "                                                      f\"--driver-memory 1G --total-executor-cores 1 --executor-cores 1 --executor-memory 1G \"\n",
    "                                                      f\"--py-files \\\"/home/{SSH_USER}/bd/spark/lib/bigdl-0.8.0-python-api,/home/{SSH_USER}/bd/codes/bi-rnn.py\\\" \"\n",
    "                                                      f\"--properties-file \\\"/home/{SSH_USER}/bd/spark/conf/spark-bigdl.conf\\\" \"\n",
    "                                                      f\"--jars \\\"/home/{SSH_USER}/bd/spark/lib/bigdl-SPARK_2.3-0.11.0-jar-with-dependencies.jar\\\" \"\n",
    "                                                      f\"--conf \\\"spark.driver.extraClassPath=/home/{SSH_USER}/bd/spark/lib/bigdl-SPARK_2.3-0.11.0-jar-with-dependencies.jar\\\" \"\n",
    "                                                      f\"--conf \\\"spark.executer.extraClassPath=bigdl-SPARK_2.3-0.11.0-jar-with-dependencies.jar /home/{SSH_USER}/bd/codes/bi-rnn.py\\\" \"\n",
    "                                                      f\"--action train --dataPath \\\"/tmp/mnist\\\" --batchSize {options.batch_size} --endTriggerNum {options.max_epochs} \"\n",
    "                                                      f\"--learningRate 0.01 --learningrateDecay 0.0002\")\n",
    "        if (len(stderr.read()) > 0):\n",
    "            print(stdout.read())\n",
    "            print(stderr.read())\n",
    "\n",
    "    def cancel(self):\n",
    "        br = mechanize.Browser()\n",
    "        br.open(f\"http://{self.pubip}:8080\")\n",
    "\n",
    "        def select_form(form):\n",
    "            return form.attrs.get('action', None) == 'app/kill/'\n",
    "        try:\n",
    "            br.select_form(predicate=select_form)\n",
    "        except mechanize._mechanize.FormNotFoundError:\n",
    "            print(\"FormNotFoundError\")\n",
    "        except Exception as e:\n",
    "            print(\"An error occurred during cancelloing.\")\n",
    "            print(e)\n",
    "        br.submit()\n",
    "\n",
    "\n",
    "class SlaveNode(Node):\n",
    "    def start_type(self):\n",
    "        stdin, stdout, stderr = self.ssh.exec_command(f'/home/{SSH_USER}/bd/spark/sbin/start-slave.sh spark://{self.master.privip}:7077')\n",
    "        if (len(stderr.read()) > 0):\n",
    "            print(stdout.read())\n",
    "            print(stderr.read())"
   ]
  },
  {
   "cell_type": "code",
   "execution_count": 13,
   "metadata": {},
   "outputs": [
    {
     "name": "stderr",
     "output_type": "stream",
     "text": [
      "Exception ignored in: <bound method Node.__del__ of <__main__.MasterNode object at 0x000001812E37A5F8>>\n",
      "Traceback (most recent call last):\n",
      "  File \"<ipython-input-5-333676c16247>\", line 28, in __del__\n",
      "  File \"<ipython-input-5-333676c16247>\", line 39, in close_ssh\n",
      "AttributeError: 'MasterNode' object has no attribute 'ssh'\n"
     ]
    },
    {
     "ename": "ResourceExistsError",
     "evalue": "{'message': \"The resource 'projects/qpe-big-dl/zones/us-central1-a/instances/bigdl' already exists\", 'domain': 'global', 'reason': 'alreadyExists'}",
     "output_type": "error",
     "traceback": [
      "\u001b[1;31m---------------------------------------------------------------------------\u001b[0m",
      "\u001b[1;31mResourceExistsError\u001b[0m                       Traceback (most recent call last)",
      "\u001b[1;32m<ipython-input-13-e4e99251439b>\u001b[0m in \u001b[0;36m<module>\u001b[1;34m\u001b[0m\n\u001b[1;32m----> 1\u001b[1;33m \u001b[0mmaster\u001b[0m \u001b[1;33m=\u001b[0m \u001b[0mMasterNode\u001b[0m\u001b[1;33m(\u001b[0m\u001b[0mdriver\u001b[0m\u001b[1;33m,\u001b[0m \u001b[1;34mf\"bigdl\"\u001b[0m\u001b[1;33m,\u001b[0m \u001b[0mmaster\u001b[0m\u001b[1;33m=\u001b[0m\u001b[1;32mTrue\u001b[0m\u001b[1;33m)\u001b[0m\u001b[1;33m\u001b[0m\u001b[1;33m\u001b[0m\u001b[0m\n\u001b[0m\u001b[0;32m      2\u001b[0m \u001b[1;33m\u001b[0m\u001b[0m\n",
      "\u001b[1;32m<ipython-input-11-f875c3b95027>\u001b[0m in \u001b[0;36m__init__\u001b[1;34m(self, driver, name, master, masterNode)\u001b[0m\n\u001b[0;32m      8\u001b[0m         \u001b[0mself\u001b[0m\u001b[1;33m.\u001b[0m\u001b[0mdisk\u001b[0m \u001b[1;33m=\u001b[0m \u001b[0mself\u001b[0m\u001b[1;33m.\u001b[0m\u001b[0mdriver\u001b[0m\u001b[1;33m.\u001b[0m\u001b[0mcreate_volume\u001b[0m\u001b[1;33m(\u001b[0m\u001b[1;36m40\u001b[0m\u001b[1;33m,\u001b[0m \u001b[1;34mf\"boot-{self.name}\"\u001b[0m\u001b[1;33m,\u001b[0m \u001b[0mimage\u001b[0m\u001b[1;33m=\u001b[0m\u001b[1;34m'bigdl-instance'\u001b[0m\u001b[1;33m,\u001b[0m \u001b[0mlocation\u001b[0m\u001b[1;33m=\u001b[0m\u001b[0mlocation\u001b[0m\u001b[1;33m)\u001b[0m\u001b[1;33m\u001b[0m\u001b[1;33m\u001b[0m\u001b[0m\n\u001b[0;32m      9\u001b[0m         self.node = self.driver.create_node(\n\u001b[1;32m---> 10\u001b[1;33m             name, 'n1-standard-1', None, location=location, ex_boot_disk=self.disk)\n\u001b[0m\u001b[0;32m     11\u001b[0m         \u001b[0mself\u001b[0m\u001b[1;33m.\u001b[0m\u001b[0mdriver\u001b[0m\u001b[1;33m.\u001b[0m\u001b[0mwait_until_running\u001b[0m\u001b[1;33m(\u001b[0m\u001b[1;33m[\u001b[0m\u001b[0mself\u001b[0m\u001b[1;33m.\u001b[0m\u001b[0mnode\u001b[0m\u001b[1;33m]\u001b[0m\u001b[1;33m)\u001b[0m\u001b[1;33m\u001b[0m\u001b[1;33m\u001b[0m\u001b[0m\n\u001b[0;32m     12\u001b[0m         \u001b[0mself\u001b[0m\u001b[1;33m.\u001b[0m\u001b[0mpubip\u001b[0m \u001b[1;33m=\u001b[0m \u001b[0mself\u001b[0m\u001b[1;33m.\u001b[0m\u001b[0mnode\u001b[0m\u001b[1;33m.\u001b[0m\u001b[0mpublic_ips\u001b[0m\u001b[1;33m[\u001b[0m\u001b[1;36m0\u001b[0m\u001b[1;33m]\u001b[0m\u001b[1;33m\u001b[0m\u001b[1;33m\u001b[0m\u001b[0m\n",
      "\u001b[1;32mc:\\users\\diego\\cs\\qpe\\venv\\lib\\site-packages\\libcloud\\compute\\drivers\\gce.py\u001b[0m in \u001b[0;36mcreate_node\u001b[1;34m(self, name, size, image, location, ex_network, ex_subnetwork, ex_tags, ex_metadata, ex_boot_disk, use_existing_disk, external_ip, internal_ip, ex_disk_type, ex_disk_auto_delete, ex_service_accounts, description, ex_can_ip_forward, ex_disks_gce_struct, ex_nic_gce_struct, ex_on_host_maintenance, ex_automatic_restart, ex_preemptible, ex_image_family, ex_labels, ex_accelerator_type, ex_accelerator_count, ex_disk_size)\u001b[0m\n\u001b[0;32m   4244\u001b[0m             \u001b[0mex_labels\u001b[0m\u001b[1;33m=\u001b[0m\u001b[0mex_labels\u001b[0m\u001b[1;33m,\u001b[0m \u001b[0mex_accelerator_type\u001b[0m\u001b[1;33m=\u001b[0m\u001b[0mex_accelerator_type\u001b[0m\u001b[1;33m,\u001b[0m\u001b[1;33m\u001b[0m\u001b[1;33m\u001b[0m\u001b[0m\n\u001b[0;32m   4245\u001b[0m             ex_accelerator_count=ex_accelerator_count)\n\u001b[1;32m-> 4246\u001b[1;33m         \u001b[0mself\u001b[0m\u001b[1;33m.\u001b[0m\u001b[0mconnection\u001b[0m\u001b[1;33m.\u001b[0m\u001b[0masync_request\u001b[0m\u001b[1;33m(\u001b[0m\u001b[0mrequest\u001b[0m\u001b[1;33m,\u001b[0m \u001b[0mmethod\u001b[0m\u001b[1;33m=\u001b[0m\u001b[1;34m'POST'\u001b[0m\u001b[1;33m,\u001b[0m \u001b[0mdata\u001b[0m\u001b[1;33m=\u001b[0m\u001b[0mnode_data\u001b[0m\u001b[1;33m)\u001b[0m\u001b[1;33m\u001b[0m\u001b[1;33m\u001b[0m\u001b[0m\n\u001b[0m\u001b[0;32m   4247\u001b[0m         \u001b[1;32mreturn\u001b[0m \u001b[0mself\u001b[0m\u001b[1;33m.\u001b[0m\u001b[0mex_get_node\u001b[0m\u001b[1;33m(\u001b[0m\u001b[0mname\u001b[0m\u001b[1;33m,\u001b[0m \u001b[0mlocation\u001b[0m\u001b[1;33m.\u001b[0m\u001b[0mname\u001b[0m\u001b[1;33m)\u001b[0m\u001b[1;33m\u001b[0m\u001b[1;33m\u001b[0m\u001b[0m\n\u001b[0;32m   4248\u001b[0m \u001b[1;33m\u001b[0m\u001b[0m\n",
      "\u001b[1;32mc:\\users\\diego\\cs\\qpe\\venv\\lib\\site-packages\\libcloud\\common\\base.py\u001b[0m in \u001b[0;36masync_request\u001b[1;34m(self, action, params, data, headers, method, context)\u001b[0m\n\u001b[0;32m    781\u001b[0m                                          \u001b[0mmethod\u001b[0m\u001b[1;33m=\u001b[0m\u001b[0mmethod\u001b[0m\u001b[1;33m,\u001b[0m\u001b[1;33m\u001b[0m\u001b[1;33m\u001b[0m\u001b[0m\n\u001b[0;32m    782\u001b[0m                                          context=context)\n\u001b[1;32m--> 783\u001b[1;33m         \u001b[0mresponse\u001b[0m \u001b[1;33m=\u001b[0m \u001b[0mrequest\u001b[0m\u001b[1;33m(\u001b[0m\u001b[1;33m**\u001b[0m\u001b[0mkwargs\u001b[0m\u001b[1;33m)\u001b[0m\u001b[1;33m\u001b[0m\u001b[1;33m\u001b[0m\u001b[0m\n\u001b[0m\u001b[0;32m    784\u001b[0m         kwargs = self.get_poll_request_kwargs(response=response,\n\u001b[0;32m    785\u001b[0m                                               \u001b[0mcontext\u001b[0m\u001b[1;33m=\u001b[0m\u001b[0mcontext\u001b[0m\u001b[1;33m,\u001b[0m\u001b[1;33m\u001b[0m\u001b[1;33m\u001b[0m\u001b[0m\n",
      "\u001b[1;32mc:\\users\\diego\\cs\\qpe\\venv\\lib\\site-packages\\libcloud\\compute\\drivers\\gce.py\u001b[0m in \u001b[0;36mrequest\u001b[1;34m(self, *args, **kwargs)\u001b[0m\n\u001b[0;32m    124\u001b[0m         \u001b[1;33m@\u001b[0m\u001b[0minherits\u001b[0m\u001b[1;33m:\u001b[0m \u001b[1;33m:\u001b[0m\u001b[1;32mclass\u001b[0m\u001b[1;33m:\u001b[0m\u001b[0;31m`\u001b[0m\u001b[0mGoogleBaseConnection\u001b[0m\u001b[1;33m.\u001b[0m\u001b[0mrequest\u001b[0m\u001b[0;31m`\u001b[0m\u001b[1;33m\u001b[0m\u001b[1;33m\u001b[0m\u001b[0m\n\u001b[0;32m    125\u001b[0m         \"\"\"\n\u001b[1;32m--> 126\u001b[1;33m         \u001b[0mresponse\u001b[0m \u001b[1;33m=\u001b[0m \u001b[0msuper\u001b[0m\u001b[1;33m(\u001b[0m\u001b[0mGCEConnection\u001b[0m\u001b[1;33m,\u001b[0m \u001b[0mself\u001b[0m\u001b[1;33m)\u001b[0m\u001b[1;33m.\u001b[0m\u001b[0mrequest\u001b[0m\u001b[1;33m(\u001b[0m\u001b[1;33m*\u001b[0m\u001b[0margs\u001b[0m\u001b[1;33m,\u001b[0m \u001b[1;33m**\u001b[0m\u001b[0mkwargs\u001b[0m\u001b[1;33m)\u001b[0m\u001b[1;33m\u001b[0m\u001b[1;33m\u001b[0m\u001b[0m\n\u001b[0m\u001b[0;32m    127\u001b[0m \u001b[1;33m\u001b[0m\u001b[0m\n\u001b[0;32m    128\u001b[0m         \u001b[1;31m# If gce_params has been set, then update the pageToken with the\u001b[0m\u001b[1;33m\u001b[0m\u001b[1;33m\u001b[0m\u001b[1;33m\u001b[0m\u001b[0m\n",
      "\u001b[1;32mc:\\users\\diego\\cs\\qpe\\venv\\lib\\site-packages\\libcloud\\common\\google.py\u001b[0m in \u001b[0;36mrequest\u001b[1;34m(self, *args, **kwargs)\u001b[0m\n\u001b[0;32m    810\u001b[0m             \u001b[1;32mtry\u001b[0m\u001b[1;33m:\u001b[0m\u001b[1;33m\u001b[0m\u001b[1;33m\u001b[0m\u001b[0m\n\u001b[0;32m    811\u001b[0m                 return super(GoogleBaseConnection, self).request(\n\u001b[1;32m--> 812\u001b[1;33m                     *args, **kwargs)\n\u001b[0m\u001b[0;32m    813\u001b[0m             \u001b[1;32mexcept\u001b[0m \u001b[0msocket\u001b[0m\u001b[1;33m.\u001b[0m\u001b[0merror\u001b[0m \u001b[1;32mas\u001b[0m \u001b[0me\u001b[0m\u001b[1;33m:\u001b[0m\u001b[1;33m\u001b[0m\u001b[1;33m\u001b[0m\u001b[0m\n\u001b[0;32m    814\u001b[0m                 \u001b[1;32mif\u001b[0m \u001b[0me\u001b[0m\u001b[1;33m.\u001b[0m\u001b[0merrno\u001b[0m \u001b[1;33m==\u001b[0m \u001b[0merrno\u001b[0m\u001b[1;33m.\u001b[0m\u001b[0mECONNRESET\u001b[0m\u001b[1;33m:\u001b[0m\u001b[1;33m\u001b[0m\u001b[1;33m\u001b[0m\u001b[0m\n",
      "\u001b[1;32mc:\\users\\diego\\cs\\qpe\\venv\\lib\\site-packages\\libcloud\\common\\base.py\u001b[0m in \u001b[0;36mrequest\u001b[1;34m(self, action, params, data, headers, method, raw, stream, json)\u001b[0m\n\u001b[0;32m    646\u001b[0m \u001b[1;33m\u001b[0m\u001b[0m\n\u001b[0;32m    647\u001b[0m         \u001b[1;32mtry\u001b[0m\u001b[1;33m:\u001b[0m\u001b[1;33m\u001b[0m\u001b[1;33m\u001b[0m\u001b[0m\n\u001b[1;32m--> 648\u001b[1;33m             \u001b[0mresponse\u001b[0m \u001b[1;33m=\u001b[0m \u001b[0mresponseCls\u001b[0m\u001b[1;33m(\u001b[0m\u001b[1;33m**\u001b[0m\u001b[0mkwargs\u001b[0m\u001b[1;33m)\u001b[0m\u001b[1;33m\u001b[0m\u001b[1;33m\u001b[0m\u001b[0m\n\u001b[0m\u001b[0;32m    649\u001b[0m         \u001b[1;32mfinally\u001b[0m\u001b[1;33m:\u001b[0m\u001b[1;33m\u001b[0m\u001b[1;33m\u001b[0m\u001b[0m\n\u001b[0;32m    650\u001b[0m             \u001b[1;31m# Always reset the context after the request has completed\u001b[0m\u001b[1;33m\u001b[0m\u001b[1;33m\u001b[0m\u001b[1;33m\u001b[0m\u001b[0m\n",
      "\u001b[1;32mc:\\users\\diego\\cs\\qpe\\venv\\lib\\site-packages\\libcloud\\common\\base.py\u001b[0m in \u001b[0;36m__init__\u001b[1;34m(self, response, connection)\u001b[0m\n\u001b[0;32m    160\u001b[0m                                          headers=self.headers)\n\u001b[0;32m    161\u001b[0m \u001b[1;33m\u001b[0m\u001b[0m\n\u001b[1;32m--> 162\u001b[1;33m         \u001b[0mself\u001b[0m\u001b[1;33m.\u001b[0m\u001b[0mobject\u001b[0m \u001b[1;33m=\u001b[0m \u001b[0mself\u001b[0m\u001b[1;33m.\u001b[0m\u001b[0mparse_body\u001b[0m\u001b[1;33m(\u001b[0m\u001b[1;33m)\u001b[0m\u001b[1;33m\u001b[0m\u001b[1;33m\u001b[0m\u001b[0m\n\u001b[0m\u001b[0;32m    163\u001b[0m \u001b[1;33m\u001b[0m\u001b[0m\n\u001b[0;32m    164\u001b[0m     \u001b[1;32mdef\u001b[0m \u001b[0mparse_body\u001b[0m\u001b[1;33m(\u001b[0m\u001b[0mself\u001b[0m\u001b[1;33m)\u001b[0m\u001b[1;33m:\u001b[0m\u001b[1;33m\u001b[0m\u001b[1;33m\u001b[0m\u001b[0m\n",
      "\u001b[1;32mc:\\users\\diego\\cs\\qpe\\venv\\lib\\site-packages\\libcloud\\common\\google.py\u001b[0m in \u001b[0;36mparse_body\u001b[1;34m(self)\u001b[0m\n\u001b[0;32m    262\u001b[0m                     \u001b[1;32mraise\u001b[0m \u001b[0mResourceExistsError\u001b[0m\u001b[1;33m(\u001b[0m\u001b[0mmessage\u001b[0m\u001b[1;33m,\u001b[0m \u001b[0mself\u001b[0m\u001b[1;33m.\u001b[0m\u001b[0mstatus\u001b[0m\u001b[1;33m,\u001b[0m \u001b[0mcode\u001b[0m\u001b[1;33m)\u001b[0m\u001b[1;33m\u001b[0m\u001b[1;33m\u001b[0m\u001b[0m\n\u001b[0;32m    263\u001b[0m                 \u001b[1;32melif\u001b[0m \u001b[0mcode\u001b[0m \u001b[1;33m==\u001b[0m \u001b[1;34m'alreadyExists'\u001b[0m\u001b[1;33m:\u001b[0m\u001b[1;33m\u001b[0m\u001b[1;33m\u001b[0m\u001b[0m\n\u001b[1;32m--> 264\u001b[1;33m                     \u001b[1;32mraise\u001b[0m \u001b[0mResourceExistsError\u001b[0m\u001b[1;33m(\u001b[0m\u001b[0mmessage\u001b[0m\u001b[1;33m,\u001b[0m \u001b[0mself\u001b[0m\u001b[1;33m.\u001b[0m\u001b[0mstatus\u001b[0m\u001b[1;33m,\u001b[0m \u001b[0mcode\u001b[0m\u001b[1;33m)\u001b[0m\u001b[1;33m\u001b[0m\u001b[1;33m\u001b[0m\u001b[0m\n\u001b[0m\u001b[0;32m    265\u001b[0m                 \u001b[1;32melif\u001b[0m \u001b[0mcode\u001b[0m\u001b[1;33m.\u001b[0m\u001b[0mstartswith\u001b[0m\u001b[1;33m(\u001b[0m\u001b[1;34m'RESOURCE_IN_USE'\u001b[0m\u001b[1;33m)\u001b[0m\u001b[1;33m:\u001b[0m\u001b[1;33m\u001b[0m\u001b[1;33m\u001b[0m\u001b[0m\n\u001b[0;32m    266\u001b[0m                     \u001b[1;32mraise\u001b[0m \u001b[0mResourceInUseError\u001b[0m\u001b[1;33m(\u001b[0m\u001b[0mmessage\u001b[0m\u001b[1;33m,\u001b[0m \u001b[0mself\u001b[0m\u001b[1;33m.\u001b[0m\u001b[0mstatus\u001b[0m\u001b[1;33m,\u001b[0m \u001b[0mcode\u001b[0m\u001b[1;33m)\u001b[0m\u001b[1;33m\u001b[0m\u001b[1;33m\u001b[0m\u001b[0m\n",
      "\u001b[1;31mResourceExistsError\u001b[0m: {'message': \"The resource 'projects/qpe-big-dl/zones/us-central1-a/instances/bigdl' already exists\", 'domain': 'global', 'reason': 'alreadyExists'}"
     ]
    }
   ],
   "source": [
    "master = MasterNode(driver, f\"bigdl\", master=True)"
   ]
  },
  {
   "cell_type": "code",
   "execution_count": null,
   "metadata": {},
   "outputs": [],
   "source": [
    "experiments = pandas.read_csv(DESIGN_CSV)\n",
    "experiments.columns.values[0] = 'Index'\n",
    "experiments.set_index('Index')\n",
    "\n",
    "if 'failure_rate' not in experiments:\n",
    "    experiments['failure_rate'] = 0\n",
    "if 'failure_duration' not in experiments:\n",
    "    experiments['failure_duration'] = 0\n",
    "\n",
    "print(experiments)\n",
    "num_slaves = max(experiments['num_nodes'])\n",
    "print(f\"Number of slaves: {num_slaves}\")\n",
    "\n",
    "os.makedirs(f\"raw/{ex_id}\", exist_ok=True)\n",
    "shutil.copyfile(DESIGN_CSV, f\"raw/{ex_id}/design.csv\")"
   ]
  },
  {
   "cell_type": "code",
   "execution_count": null,
   "metadata": {
    "lines_to_next_cell": 2
   },
   "outputs": [],
   "source": [
    "slaves = [SlaveNode(driver, f\"slave-{ex_id}-{i}\", masterNode=master) for i in range(1, int(num_slaves)+1)]"
   ]
  },
  {
   "cell_type": "code",
   "execution_count": null,
   "metadata": {},
   "outputs": [],
   "source": [
    "for idx, row in experiments.iterrows():\n",
    "    print(f\"Experiment {row['Index']}\")\n",
    "    options = JobOptions(int(row['batch_size']), 50)\n",
    "\n",
    "    for slave in slaves:\n",
    "        slave.start_failure_worker(\n",
    "            row['failure_rate'], row['failure_duration'])\n",
    "\n",
    "    filename = f\"{int(row.Index)}-nodes{int(row.num_nodes)}-batch{options.batch_size}-epochs{options.max_epochs}-frate{row.failure_rate}-duration{row.failure_duration}-time{EX_RUNTIME}.log\"\n",
    "\n",
    "    stdin, stdout, stderr = master.ssh.exec_command(f\"/home/{SSH_USER}/bd/spark/bin/spark-submit --master spark://{master.privip}:7077 --driver-cores 1 \"\n",
    "                                                    f\"--driver-memory 1G --total-executor-cores {int(row.num_nodes)} --executor-cores 1 --executor-memory {int(row.memory_size)}M \"\n",
    "                                                    f\"--py-files /home/{SSH_USER}/bd/spark/lib/bigdl-0.11.0-python-api,/home/{SSH_USER}/bd/codes/bi-rnn.py \"\n",
    "                                                    f\"--properties-file /home/{SSH_USER}/bd/spark/conf/spark-bigdl.conf \"\n",
    "                                                    f\"--jars /home/{SSH_USER}/bd/spark/lib/bigdl-SPARK_2.3-0.11.0-jar-with-dependencies.jar \"\n",
    "                                                    f\"--conf spark.driver.extraClassPath=/home/{SSH_USER}/bd/spark/lib/bigdl-SPARK_2.3-0.11.0-jar-with-dependencies.jar \"\n",
    "                                                    f\"--conf spark.executer.extraClassPath=bigdl-SPARK_2.3-0.11.0-jar-with-dependencies.jar /home/{SSH_USER}/bd/codes/bi-rnn.py \"\n",
    "                                                    f\"--action train --dataPath /tmp/mnist --batchSize {options.batch_size} --endTriggerNum {options.max_epochs} \"\n",
    "                                                    f\"--learningRate 0.01 --learningrateDecay 0.0002 > {ex_id}-{filename}\", timeout=EX_RUNTIME)\n",
    "\n",
    "    try:\n",
    "        print(stdout.read())\n",
    "        print(stderr.read())\n",
    "    except PipeTimeout:\n",
    "        print(\"PipeTimeout\")\n",
    "    except socket.timeout:\n",
    "        print(\"Socket timeout\")\n",
    "    master.cancel()\n",
    "    sftp = master.ssh.open_sftp()\n",
    "    sftp.get(f'{ex_id}-{filename}', f'raw/{ex_id}/{filename}')\n",
    "\n",
    "    for slave in slaves:\n",
    "        slave.stop_failure_worker()"
   ]
  }
 ],
 "metadata": {
  "kernelspec": {
   "display_name": "Python 3",
   "language": "python",
   "name": "python3"
  },
  "language_info": {
   "codemirror_mode": {
    "name": "ipython",
    "version": 3
   },
   "file_extension": ".py",
   "mimetype": "text/x-python",
   "name": "python",
   "nbconvert_exporter": "python",
   "pygments_lexer": "ipython3",
   "version": "3.6.8"
  }
 },
 "nbformat": 4,
 "nbformat_minor": 2
}
