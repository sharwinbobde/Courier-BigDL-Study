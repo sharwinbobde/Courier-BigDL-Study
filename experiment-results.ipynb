{
 "cells": [
  {
   "cell_type": "markdown",
   "metadata": {
    "collapsed": true,
    "pycharm": {
     "name": "#%% md\n"
    }
   },
   "source": [
    "# Interpret the results obtained from each of the experiments\n",
    "\n",
    "The results from the experiments involve interpreting and plotting several quantities\n",
    "- CPU Utilization of the slaves during the experiments\n",
    "- IO Wait of the slaves during the experiments\n",
    "- Accuracy of the final model after 10 epochs\n",
    "- Response time of the model after 10 epochs\n",
    "\n",
    "(Possible other result to see)\n",
    "- Throughput of the model"
   ]
  },
  {
   "cell_type": "code",
   "execution_count": 34,
   "outputs": [],
   "source": [
    "import math\n",
    "import numpy as np\n",
    "import pandas as pd\n",
    "from collections import defaultdict\n",
    "import glob\n",
    "import os\n",
    "import pickle\n",
    "\n",
    "# For the ANOVA test\n",
    "import researchpy as rp\n",
    "import statsmodels.api as sm\n",
    "from statsmodels.formula.api import ols\n"
   ],
   "metadata": {
    "collapsed": false,
    "pycharm": {
     "name": "#%%\n"
    }
   }
  },
  {
   "cell_type": "markdown",
   "source": [
    "## Extract from the log files the Accuracy and the Response Time\n",
    "\n",
    "The files are in the folder from the master server, and we get a final line in the files with\n",
    "the total wall clock time and the final accuracy\n",
    "\n",
    "The folder structure taken into consideration is the following, from the root folder for the set\n",
    "of experiments in question (2k or full) we get 4 folders, 1 for the master and 1 for each slave,\n",
    "and inside these folders we get 1 folder for each of the replications. Inside we should find the\n",
    "pickle files and the log files in case of the master\n",
    "\n"
   ],
   "metadata": {
    "collapsed": false,
    "pycharm": {
     "name": "#%% md\n"
    }
   }
  },
  {
   "cell_type": "code",
   "execution_count": 45,
   "outputs": [
    {
     "name": "stdout",
     "output_type": "stream",
     "text": [
      "Extracting the data from 8 files\n"
     ]
    },
    {
     "data": {
      "text/plain": "                                        cpu1-batch64-njobs1  \\\naccuracy  [0.8599, 0.903, 0.9259, 0.9361, 0.9424, 0.9481...   \ntime                                                494.061   \n\n                                        cpu8-batch64-njobs1  \\\naccuracy  [0.8637, 0.9091, 0.9246, 0.9361, 0.9429, 0.948...   \ntime                                                508.238   \n\n                                       cpu1-batch512-njobs1  \\\naccuracy  [0.5593, 0.676, 0.7608, 0.7994, 0.821, 0.8393,...   \ntime                                                178.125   \n\n                                       cpu8-batch512-njobs1  \\\naccuracy  [0.4959, 0.6507, 0.7305, 0.7918, 0.8258, 0.849...   \ntime                                                89.6031   \n\n                                        cpu1-batch64-njobs5  \\\naccuracy  [0.8599, 0.8986, 0.9168, 0.9307, 0.9397, 0.946...   \ntime                                                552.378   \n\n                                        cpu8-batch64-njobs5  \\\naccuracy  [0.888, 0.9217, 0.9337, 0.9402, 0.9459, 0.9498...   \ntime                                                905.821   \n\n                                       cpu1-batch512-njobs5  \\\naccuracy  [0.4623, 0.6467, 0.7415, 0.7884, 0.8222, 0.846...   \ntime                                                187.054   \n\n                                       cpu8-batch512-njobs5  \naccuracy  [0.57, 0.68, 0.7516, 0.8102, 0.8397, 0.8587, 0...  \ntime                                                98.4803  ",
      "text/html": "<div>\n<style scoped>\n    .dataframe tbody tr th:only-of-type {\n        vertical-align: middle;\n    }\n\n    .dataframe tbody tr th {\n        vertical-align: top;\n    }\n\n    .dataframe thead th {\n        text-align: right;\n    }\n</style>\n<table border=\"1\" class=\"dataframe\">\n  <thead>\n    <tr style=\"text-align: right;\">\n      <th></th>\n      <th>cpu1-batch64-njobs1</th>\n      <th>cpu8-batch64-njobs1</th>\n      <th>cpu1-batch512-njobs1</th>\n      <th>cpu8-batch512-njobs1</th>\n      <th>cpu1-batch64-njobs5</th>\n      <th>cpu8-batch64-njobs5</th>\n      <th>cpu1-batch512-njobs5</th>\n      <th>cpu8-batch512-njobs5</th>\n    </tr>\n  </thead>\n  <tbody>\n    <tr>\n      <th>accuracy</th>\n      <td>[0.8599, 0.903, 0.9259, 0.9361, 0.9424, 0.9481...</td>\n      <td>[0.8637, 0.9091, 0.9246, 0.9361, 0.9429, 0.948...</td>\n      <td>[0.5593, 0.676, 0.7608, 0.7994, 0.821, 0.8393,...</td>\n      <td>[0.4959, 0.6507, 0.7305, 0.7918, 0.8258, 0.849...</td>\n      <td>[0.8599, 0.8986, 0.9168, 0.9307, 0.9397, 0.946...</td>\n      <td>[0.888, 0.9217, 0.9337, 0.9402, 0.9459, 0.9498...</td>\n      <td>[0.4623, 0.6467, 0.7415, 0.7884, 0.8222, 0.846...</td>\n      <td>[0.57, 0.68, 0.7516, 0.8102, 0.8397, 0.8587, 0...</td>\n    </tr>\n    <tr>\n      <th>time</th>\n      <td>494.061</td>\n      <td>508.238</td>\n      <td>178.125</td>\n      <td>89.6031</td>\n      <td>552.378</td>\n      <td>905.821</td>\n      <td>187.054</td>\n      <td>98.4803</td>\n    </tr>\n  </tbody>\n</table>\n</div>"
     },
     "execution_count": 45,
     "metadata": {},
     "output_type": "execute_result"
    }
   ],
   "source": [
    "# Read the folder os the master and search for the accuracy to build the dictionary\n",
    "# Right now for testing it just has one replication\n",
    "\n",
    "# This is the path we should change to either analyze the 2k or the full factorial\n",
    "path_root_master = './experiments/master/'\n",
    "\n",
    "# get the log files\n",
    "logs = glob.glob(os.path.join(path_root_master, '*.log'))\n",
    "\n",
    "# Extract the accuracy and the time\n",
    "results = defaultdict(dict)\n",
    "# Just take the final valuie for the ANOVA test\n",
    "res_final = defaultdict(dict)\n",
    "\n",
    "\n",
    "print(f'Extracting the data from {len(logs)} files')\n",
    "for log in logs:\n",
    "    acc = []\n",
    "    with open(log, 'r') as f:\n",
    "        for line in f:\n",
    "            if 'Top1Accuracy is Accuracy' in line:\n",
    "                _accuracy = line.strip().split(']')[-1].split(',')[-1].split(':')[-1].replace(')', '')\n",
    "                acc.append(float(_accuracy.strip()))\n",
    "                if len(acc) == 10:\n",
    "                    # Then save the time here\n",
    "                    time = float(line.strip().split(']')[-2].split('[')[-1].split(' ')[-1].replace('s', ''))\n",
    "\n",
    "    # Add the results to the dictionary\n",
    "    variables = log.split('-')[1:]\n",
    "    name = '-'.join(variables).replace('.log', '')\n",
    "    results[name]['accuracy'] = acc\n",
    "    results[name]['time'] = time\n",
    "\n",
    "    # Fill in the anova dictionary too\n",
    "    res_final[name]['time'] = time\n",
    "    res_final[name]['accuracy'] = acc[-1]\n",
    "\n",
    "df = pd.DataFrame(results)\n",
    "\n",
    "# We should get the last accuracy to run ANOVA but to plot this is better\n",
    "df\n"
   ],
   "metadata": {
    "collapsed": false,
    "pycharm": {
     "name": "#%%\n"
    }
   }
  },
  {
   "cell_type": "markdown",
   "source": [
    "# Extract the CPU and IO wait from the pickle files\n",
    "\n",
    "In this case we need the slave folders (we will check that the folder contains the word slave to analyze the files)\n",
    "and we will extract the pickle files from where we will get the CPU load and the IO wait percentage\n",
    "\n",
    "There is a thing to take in mind. The experiment runs for a default of 5 minutes, so if the experiment lasted\n",
    "less than 300 seconds, which we can get from the results dictionary from before, we should trim the vectors taking\n",
    "into account that each measurement is taken every 2 seconds so it just comprises that experiment and doesn't\n",
    "introduce noise from the next"
   ],
   "metadata": {
    "collapsed": false,
    "pycharm": {
     "name": "#%% md\n"
    }
   }
  },
  {
   "cell_type": "code",
   "execution_count": 37,
   "outputs": [
    {
     "name": "stdout",
     "output_type": "stream",
     "text": [
      "Processing files for the slave1\n",
      "Exp length was 178.124531698, so max list positions are 95\n",
      "Exp length was 89.60311073, so max list positions are 50\n",
      "Exp length was 187.05435665, so max list positions are 99\n",
      "Exp length was 98.48028244, so max list positions are 55\n",
      "Processing files for the slave2\n",
      "Exp length was 178.124531698, so max list positions are 95\n",
      "Exp length was 89.60311073, so max list positions are 50\n",
      "Exp length was 187.05435665, so max list positions are 99\n",
      "Exp length was 98.48028244, so max list positions are 55\n",
      "Processing files for the slave3\n",
      "Exp length was 178.124531698, so max list positions are 95\n",
      "Exp length was 89.60311073, so max list positions are 50\n",
      "Exp length was 187.05435665, so max list positions are 99\n",
      "Exp length was 98.48028244, so max list positions are 55\n"
     ]
    }
   ],
   "source": [
    "\n",
    "\n",
    "root_folder_slaves = './experiments/'\n",
    "\n",
    "dirs = os.listdir(root_folder_slaves)\n",
    "slave_dirs = [f for f in dirs if 'slave' in f]\n",
    "\n",
    "\n",
    "loads = defaultdict(dict)\n",
    "# The shape of the results is\n",
    "# name of the file:\n",
    "#     - slave 1:\n",
    "#         - cpu: list\n",
    "#         - iowait: list\n",
    "#     - slave 2:\n",
    "#         ...\n",
    "\n",
    "# Do the same in all the folders\n",
    "for folder in slave_dirs:\n",
    "    print('Processing files for the', folder)\n",
    "    # get just the pickle files\n",
    "    files = glob.glob(os.path.join(root_folder_slaves, folder, '*.pkl'))\n",
    "\n",
    "    # Extract the dictionary from each file\n",
    "    for f in files:\n",
    "\n",
    "        # Get the name of the experiment to index the other dict\n",
    "        variables = f.split('-')[1:]\n",
    "        exp_name = '-'.join(variables).replace('.pkl', '')\n",
    "        # print(exp_name)\n",
    "\n",
    "        with open(f, 'rb') as pickle_file:\n",
    "            metrics = pickle.load(pickle_file)\n",
    "\n",
    "        # Now we need to check to just get the metrics concerning the experiment\n",
    "        # And not the following. We leave a margin of 10 seconds or 5 list positions just in case\n",
    "        # to not cut too tightly\n",
    "        exp_length = results[exp_name]['time']\n",
    "        if exp_length < 300:\n",
    "            max_list_length = math.ceil(exp_length/2) + 5\n",
    "            print(f'Exp length was {exp_length}, so max list positions are {max_list_length}')\n",
    "            if max_list_length < len(metrics['cpu']):\n",
    "                loads[exp_name][folder] = dict()\n",
    "                loads[exp_name][folder]['cpu'] = metrics['cpu'][:max_list_length]\n",
    "                loads[exp_name][folder]['iowait'] = metrics['iowait'][:max_list_length]\n",
    "                continue\n",
    "        loads[exp_name][folder] = metrics\n"
   ],
   "metadata": {
    "collapsed": false,
    "pycharm": {
     "name": "#%%\n"
    }
   }
  },
  {
   "cell_type": "markdown",
   "source": [
    "## Plot the loads for each of the slaves for each of the experiments\n",
    "\n",
    "In some experiments some of the slaves have zero load cause they are not used, in those cases\n",
    "we should filter out the lists whose average is too close to zero. In other cases, we can just average the\n",
    "load among all of the slaves."
   ],
   "metadata": {
    "collapsed": false,
    "pycharm": {
     "name": "#%% md\n"
    }
   }
  },
  {
   "cell_type": "code",
   "execution_count": 43,
   "outputs": [
    {
     "data": {
      "text/plain": "dict_items([('cpu1-batch64-njobs1', {'accuracy': [0.8599, 0.903, 0.9259, 0.9361, 0.9424, 0.9481, 0.9511, 0.9548, 0.9572, 0.9588], 'time': 494.060797193}), ('cpu8-batch64-njobs1', {'accuracy': [0.8637, 0.9091, 0.9246, 0.9361, 0.9429, 0.9484, 0.9524, 0.955, 0.9578, 0.9601], 'time': 508.23787919}), ('cpu1-batch512-njobs1', {'accuracy': [0.5593, 0.676, 0.7608, 0.7994, 0.821, 0.8393, 0.8569, 0.8681, 0.8772, 0.8843], 'time': 178.124531698}), ('cpu8-batch512-njobs1', {'accuracy': [0.4959, 0.6507, 0.7305, 0.7918, 0.8258, 0.8494, 0.864, 0.8735, 0.884, 0.8903], 'time': 89.60311073}), ('cpu1-batch64-njobs5', {'accuracy': [0.8599, 0.8986, 0.9168, 0.9307, 0.9397, 0.9466, 0.9517, 0.9561, 0.9584, 0.9612, 0.9648], 'time': 552.377511198}), ('cpu8-batch64-njobs5', {'accuracy': [0.888, 0.9217, 0.9337, 0.9402, 0.9459, 0.9498, 0.9537, 0.9564, 0.9577, 0.9596], 'time': 905.821335593}), ('cpu1-batch512-njobs5', {'accuracy': [0.4623, 0.6467, 0.7415, 0.7884, 0.8222, 0.8468, 0.8634, 0.8751, 0.8839, 0.8908], 'time': 187.05435665}), ('cpu8-batch512-njobs5', {'accuracy': [0.57, 0.68, 0.7516, 0.8102, 0.8397, 0.8587, 0.8712, 0.8791, 0.8878, 0.8934], 'time': 98.48028244})])"
     },
     "execution_count": 43,
     "metadata": {},
     "output_type": "execute_result"
    }
   ],
   "source": [
    "results.items()\n"
   ],
   "metadata": {
    "collapsed": false,
    "pycharm": {
     "name": "#%%\n"
    }
   }
  },
  {
   "cell_type": "markdown",
   "source": [
    "## Run the ANOVA test with all of the results\n"
   ],
   "metadata": {
    "collapsed": false,
    "pycharm": {
     "name": "#%% md\n"
    }
   }
  },
  {
   "cell_type": "code",
   "execution_count": 46,
   "outputs": [
    {
     "data": {
      "text/plain": "          cpu1-batch64-njobs1  cpu8-batch64-njobs1  cpu1-batch512-njobs1  \\\ntime               494.060797           508.237879            178.124532   \naccuracy             0.958800             0.960100              0.884300   \n\n          cpu8-batch512-njobs1  cpu1-batch64-njobs5  cpu8-batch64-njobs5  \\\ntime                 89.603111           552.377511           905.821336   \naccuracy              0.890300             0.964800             0.959600   \n\n          cpu1-batch512-njobs5  cpu8-batch512-njobs5  \ntime                187.054357             98.480282  \naccuracy              0.890800              0.893400  ",
      "text/html": "<div>\n<style scoped>\n    .dataframe tbody tr th:only-of-type {\n        vertical-align: middle;\n    }\n\n    .dataframe tbody tr th {\n        vertical-align: top;\n    }\n\n    .dataframe thead th {\n        text-align: right;\n    }\n</style>\n<table border=\"1\" class=\"dataframe\">\n  <thead>\n    <tr style=\"text-align: right;\">\n      <th></th>\n      <th>cpu1-batch64-njobs1</th>\n      <th>cpu8-batch64-njobs1</th>\n      <th>cpu1-batch512-njobs1</th>\n      <th>cpu8-batch512-njobs1</th>\n      <th>cpu1-batch64-njobs5</th>\n      <th>cpu8-batch64-njobs5</th>\n      <th>cpu1-batch512-njobs5</th>\n      <th>cpu8-batch512-njobs5</th>\n    </tr>\n  </thead>\n  <tbody>\n    <tr>\n      <th>time</th>\n      <td>494.060797</td>\n      <td>508.237879</td>\n      <td>178.124532</td>\n      <td>89.603111</td>\n      <td>552.377511</td>\n      <td>905.821336</td>\n      <td>187.054357</td>\n      <td>98.480282</td>\n    </tr>\n    <tr>\n      <th>accuracy</th>\n      <td>0.958800</td>\n      <td>0.960100</td>\n      <td>0.884300</td>\n      <td>0.890300</td>\n      <td>0.964800</td>\n      <td>0.959600</td>\n      <td>0.890800</td>\n      <td>0.893400</td>\n    </tr>\n  </tbody>\n</table>\n</div>"
     },
     "execution_count": 46,
     "metadata": {},
     "output_type": "execute_result"
    }
   ],
   "source": [
    "\n",
    "\n",
    "\n",
    "# Get the last accuracy instead of the list for the accuracy of each of the experiments\n",
    "\n",
    "df = pd.DataFrame(res_final)\n",
    "\n",
    "df"
   ],
   "metadata": {
    "collapsed": false,
    "pycharm": {
     "name": "#%%\n"
    }
   }
  }
 ],
 "metadata": {
  "kernelspec": {
   "display_name": "Python 3",
   "language": "python",
   "name": "python3"
  },
  "language_info": {
   "codemirror_mode": {
    "name": "ipython",
    "version": 2
   },
   "file_extension": ".py",
   "mimetype": "text/x-python",
   "name": "python",
   "nbconvert_exporter": "python",
   "pygments_lexer": "ipython2",
   "version": "2.7.6"
  }
 },
 "nbformat": 4,
 "nbformat_minor": 0
}