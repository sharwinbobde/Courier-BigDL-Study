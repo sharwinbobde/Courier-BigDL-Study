{
 "cells": [
  {
   "cell_type": "markdown",
   "metadata": {
    "collapsed": true,
    "pycharm": {
     "name": "#%% md\n"
    }
   },
   "source": [
    "# Interpret the results obtained from each of the experiments\n",
    "\n",
    "The results from the experiments involve interpreting and plotting several quantities\n",
    "- CPU Utilization of the slaves during the experiments\n",
    "- IO Wait of the slaves during the experiments\n",
    "- Accuracy of the final model after 10 epochs\n",
    "- Response time of the model after 10 epochs\n",
    "\n",
    "(Possible other result to see)\n",
    "- Throughput of the model"
   ]
  },
  {
   "cell_type": "code",
   "execution_count": 2,
   "metadata": {
    "pycharm": {
     "name": "#%%\n"
    }
   },
   "outputs": [],
   "source": [
    "import math\n",
    "import numpy as np\n",
    "import pandas as pd\n",
    "from collections import defaultdict\n",
    "import glob\n",
    "import os\n",
    "import pickle\n",
    "\n",
    "# For the ANOVA test\n",
    "import researchpy as rp\n",
    "import statsmodels.api as sm\n",
    "from statsmodels.formula.api import ols\n"
   ]
  },
  {
   "cell_type": "markdown",
   "metadata": {
    "pycharm": {
     "name": "#%% md\n"
    }
   },
   "source": [
    "## Extract from the log files the Accuracy and the Response Time\n",
    "\n",
    "The files are in the folder from the master server, and we get a final line in the files with\n",
    "the total wall clock time and the final accuracy\n",
    "\n",
    "The folder structure taken into consideration is the following, from the root folder for the set\n",
    "of experiments in question (2k or full) we get 4 folders, 1 for the master and 1 for each slave,\n",
    "and inside these folders we get 1 folder for each of the replications. Inside we should find the\n",
    "pickle files and the log files in case of the master\n"
   ]
  },
  {
   "cell_type": "code",
   "execution_count": null,
   "metadata": {
    "pycharm": {
     "name": "#%%\n"
    }
   },
   "outputs": [],
   "source": [
    "from typing import List, Dict\n",
    "\n",
    "\n",
    "# Create some class to comfortably save the experiments and their results\n",
    "class Experiment:\n",
    "    def __init__(self, name: str):\n",
    "        \"\"\"Given the name of the experiment, extract the number of cpu's\n",
    "        and so on\"\"\"\n",
    "        self._name = name\n",
    "\n",
    "        # Extract the cpu, batch and njobs by splitting\n",
    "        parts = name.split('-')\n",
    "        self.cpu = int(parts[0].replace('cpu', '').strip())\n",
    "        self.batch = int(parts[1].replace('batch', '').strip())\n",
    "        self.njobs = int(parts[2].replace('njobs', '').strip())\n",
    "\n",
    "    # Override the hash function so we can use it as\n",
    "    # key of the dictionary\n",
    "    def __hash__(self):\n",
    "        return self._name\n",
    "\n",
    "class ExperimentResults:\n",
    "\n",
    "    def __init__(self, time: float, accuracies: List[float]):\n",
    "        self.time = time\n",
    "        self.accuracies = accuracies\n",
    "        self.final_accuracy = accuracies[-1]\n"
   ]
  },
  {
   "cell_type": "code",
   "execution_count": 57,
   "metadata": {
    "pycharm": {
     "name": "#%%\n"
    }
   },
   "outputs": [
    {
     "name": "stdout",
     "output_type": "stream",
     "text": [
      "Extracting the data from 8 files\n"
     ]
    },
    {
     "data": {
      "text/html": [
       "<div>\n",
       "<style scoped>\n",
       "    .dataframe tbody tr th:only-of-type {\n",
       "        vertical-align: middle;\n",
       "    }\n",
       "\n",
       "    .dataframe tbody tr th {\n",
       "        vertical-align: top;\n",
       "    }\n",
       "\n",
       "    .dataframe thead th {\n",
       "        text-align: right;\n",
       "    }\n",
       "</style>\n",
       "<table border=\"1\" class=\"dataframe\">\n",
       "  <thead>\n",
       "    <tr style=\"text-align: right;\">\n",
       "      <th></th>\n",
       "      <th>cpu</th>\n",
       "      <th>batch</th>\n",
       "      <th>njobs</th>\n",
       "      <th>time</th>\n",
       "      <th>accuracies</th>\n",
       "      <th>final accuracy</th>\n",
       "    </tr>\n",
       "    <tr>\n",
       "      <th>exp_name</th>\n",
       "      <th></th>\n",
       "      <th></th>\n",
       "      <th></th>\n",
       "      <th></th>\n",
       "      <th></th>\n",
       "      <th></th>\n",
       "    </tr>\n",
       "  </thead>\n",
       "  <tbody>\n",
       "    <tr>\n",
       "      <th>cpu1-batch64-njobs1</th>\n",
       "      <td>1</td>\n",
       "      <td>64</td>\n",
       "      <td>1</td>\n",
       "      <td>494.060797</td>\n",
       "      <td>[0.8599, 0.903, 0.9259, 0.9361, 0.9424, 0.9481...</td>\n",
       "      <td>0.9588</td>\n",
       "    </tr>\n",
       "    <tr>\n",
       "      <th>cpu8-batch64-njobs1</th>\n",
       "      <td>8</td>\n",
       "      <td>64</td>\n",
       "      <td>1</td>\n",
       "      <td>508.237879</td>\n",
       "      <td>[0.8637, 0.9091, 0.9246, 0.9361, 0.9429, 0.948...</td>\n",
       "      <td>0.9601</td>\n",
       "    </tr>\n",
       "    <tr>\n",
       "      <th>cpu1-batch512-njobs1</th>\n",
       "      <td>1</td>\n",
       "      <td>512</td>\n",
       "      <td>1</td>\n",
       "      <td>178.124532</td>\n",
       "      <td>[0.5593, 0.676, 0.7608, 0.7994, 0.821, 0.8393,...</td>\n",
       "      <td>0.8843</td>\n",
       "    </tr>\n",
       "    <tr>\n",
       "      <th>cpu8-batch512-njobs1</th>\n",
       "      <td>8</td>\n",
       "      <td>512</td>\n",
       "      <td>1</td>\n",
       "      <td>89.603111</td>\n",
       "      <td>[0.4959, 0.6507, 0.7305, 0.7918, 0.8258, 0.849...</td>\n",
       "      <td>0.8903</td>\n",
       "    </tr>\n",
       "    <tr>\n",
       "      <th>cpu1-batch64-njobs5</th>\n",
       "      <td>1</td>\n",
       "      <td>64</td>\n",
       "      <td>5</td>\n",
       "      <td>552.377511</td>\n",
       "      <td>[0.8599, 0.8986, 0.9168, 0.9307, 0.9397, 0.946...</td>\n",
       "      <td>0.9612</td>\n",
       "    </tr>\n",
       "    <tr>\n",
       "      <th>cpu8-batch64-njobs5</th>\n",
       "      <td>8</td>\n",
       "      <td>64</td>\n",
       "      <td>5</td>\n",
       "      <td>905.821336</td>\n",
       "      <td>[0.888, 0.9217, 0.9337, 0.9402, 0.9459, 0.9498...</td>\n",
       "      <td>0.9596</td>\n",
       "    </tr>\n",
       "    <tr>\n",
       "      <th>cpu1-batch512-njobs5</th>\n",
       "      <td>1</td>\n",
       "      <td>512</td>\n",
       "      <td>5</td>\n",
       "      <td>187.054357</td>\n",
       "      <td>[0.4623, 0.6467, 0.7415, 0.7884, 0.8222, 0.846...</td>\n",
       "      <td>0.8908</td>\n",
       "    </tr>\n",
       "    <tr>\n",
       "      <th>cpu8-batch512-njobs5</th>\n",
       "      <td>8</td>\n",
       "      <td>512</td>\n",
       "      <td>5</td>\n",
       "      <td>98.480282</td>\n",
       "      <td>[0.57, 0.68, 0.7516, 0.8102, 0.8397, 0.8587, 0...</td>\n",
       "      <td>0.8934</td>\n",
       "    </tr>\n",
       "  </tbody>\n",
       "</table>\n",
       "</div>"
      ],
      "text/plain": [
       "                      cpu  batch  njobs        time  \\\n",
       "exp_name                                              \n",
       "cpu1-batch64-njobs1     1     64      1  494.060797   \n",
       "cpu8-batch64-njobs1     8     64      1  508.237879   \n",
       "cpu1-batch512-njobs1    1    512      1  178.124532   \n",
       "cpu8-batch512-njobs1    8    512      1   89.603111   \n",
       "cpu1-batch64-njobs5     1     64      5  552.377511   \n",
       "cpu8-batch64-njobs5     8     64      5  905.821336   \n",
       "cpu1-batch512-njobs5    1    512      5  187.054357   \n",
       "cpu8-batch512-njobs5    8    512      5   98.480282   \n",
       "\n",
       "                                                             accuracies  \\\n",
       "exp_name                                                                  \n",
       "cpu1-batch64-njobs1   [0.8599, 0.903, 0.9259, 0.9361, 0.9424, 0.9481...   \n",
       "cpu8-batch64-njobs1   [0.8637, 0.9091, 0.9246, 0.9361, 0.9429, 0.948...   \n",
       "cpu1-batch512-njobs1  [0.5593, 0.676, 0.7608, 0.7994, 0.821, 0.8393,...   \n",
       "cpu8-batch512-njobs1  [0.4959, 0.6507, 0.7305, 0.7918, 0.8258, 0.849...   \n",
       "cpu1-batch64-njobs5   [0.8599, 0.8986, 0.9168, 0.9307, 0.9397, 0.946...   \n",
       "cpu8-batch64-njobs5   [0.888, 0.9217, 0.9337, 0.9402, 0.9459, 0.9498...   \n",
       "cpu1-batch512-njobs5  [0.4623, 0.6467, 0.7415, 0.7884, 0.8222, 0.846...   \n",
       "cpu8-batch512-njobs5  [0.57, 0.68, 0.7516, 0.8102, 0.8397, 0.8587, 0...   \n",
       "\n",
       "                      final accuracy  \n",
       "exp_name                              \n",
       "cpu1-batch64-njobs1           0.9588  \n",
       "cpu8-batch64-njobs1           0.9601  \n",
       "cpu1-batch512-njobs1          0.8843  \n",
       "cpu8-batch512-njobs1          0.8903  \n",
       "cpu1-batch64-njobs5           0.9612  \n",
       "cpu8-batch64-njobs5           0.9596  \n",
       "cpu1-batch512-njobs5          0.8908  \n",
       "cpu8-batch512-njobs5          0.8934  "
      ]
     },
     "execution_count": 57,
     "metadata": {},
     "output_type": "execute_result"
    }
   ],
   "source": [
    "\n",
    "def split_name(exp_name: str) -> (int, int, int):\n",
    "    \"\"\"Given the name of the file give back the settings of the experiment\"\"\"\n",
    "    parts = exp_name.split('-')\n",
    "    cpu = int(parts[0].replace('cpu', '').strip())\n",
    "    batch = int(parts[1].replace('batch', '').strip())\n",
    "    njobs = int(parts[2].replace('njobs', '').strip())\n",
    "\n",
    "    return cpu, batch, njobs\n",
    "\n",
    "# Read the folder os the master and search for the accuracy to build the dictionary\n",
    "# Right now for testing it just has one replication\n",
    "\n",
    "# This is the path we should change to either analyze the 2k or the full factorial\n",
    "path_root_master = './experiments/master/'\n",
    "\n",
    "# get the log files\n",
    "logs = glob.glob(os.path.join(path_root_master, '*.log'))\n",
    "\n",
    "# Get a dict ready to transform into a dataframe for training of the\n",
    "# model and representation\n",
    "results = {\n",
    "    'exp_name': [],\n",
    "    'cpu': [],\n",
    "    'batch': [],\n",
    "    'njobs': [],\n",
    "    'time': [],\n",
    "    'accuracies':[],\n",
    "    'final accuracy': []\n",
    "}\n",
    "# Just take the final valuie for the ANOVA test\n",
    "# res_final = defaultdict(dict)\n",
    "\n",
    "\n",
    "\n",
    "print(f'Extracting the data from {len(logs)} files')\n",
    "for log in logs:\n",
    "    acc = []\n",
    "    with open(log, 'r') as f:\n",
    "        for line in f:\n",
    "            if 'Top1Accuracy is Accuracy' in line:\n",
    "                _accuracy = line.strip().split(']')[-1].split(',')[-1].split(':')[-1].replace(')', '')\n",
    "                acc.append(float(_accuracy.strip()))\n",
    "                if len(acc) == 10:\n",
    "                    # Then save the time here\n",
    "                    time = float(line.strip().split(']')[-2].split('[')[-1].split(' ')[-1].replace('s', ''))\n",
    "                    break\n",
    "    # Add the results to the dictionary\n",
    "    variables = log.split('-')[1:]\n",
    "    name = '-'.join(variables).replace('.log', '')\n",
    "    cpu, batch, njobs = split_name(name)\n",
    "    # set all the columns\n",
    "    results['cpu'].append(cpu)\n",
    "    results['batch'].append(batch)\n",
    "    results['njobs'].append(njobs)\n",
    "    results['accuracies'].append(acc)\n",
    "    results['time'].append(time)\n",
    "    results['final accuracy'].append(acc[-1])\n",
    "    results['exp_name'].append(name)\n",
    "\n",
    "    # # Fill in the anova dictionary too\n",
    "    # res_final[name]['time'] = time\n",
    "    # res_final[name]['accuracy'] = acc[-1]\n",
    "\n",
    "results_df = pd.DataFrame(results)\n",
    "results_df = results_df.set_index('exp_name')\n",
    "\n",
    "# We should get the last accuracy to run ANOVA but to plot this is better\n",
    "results_df"
   ]
  },
  {
   "cell_type": "code",
   "execution_count": 22,
   "metadata": {
    "pycharm": {
     "name": "#%%\n"
    }
   },
   "outputs": [
    {
     "data": {
      "text/plain": [
       "98.48028244"
      ]
     },
     "execution_count": 22,
     "metadata": {},
     "output_type": "execute_result"
    }
   ],
   "source": [
    "results_df.loc['cpu8-batch512-njobs5', 'time']"
   ]
  },
  {
   "cell_type": "markdown",
   "metadata": {
    "pycharm": {
     "name": "#%% md\n"
    }
   },
   "source": [
    "# Extract the CPU and IO wait from the pickle files\n",
    "\n",
    "In this case we need the slave folders (we will check that the folder contains the word slave to analyze the files)\n",
    "and we will extract the pickle files from where we will get the CPU load and the IO wait percentage\n",
    "\n",
    "There is a thing to take in mind. The experiment runs for a default of 5 minutes, so if the experiment lasted\n",
    "less than 300 seconds, which we can get from the results dictionary from before, we should trim the vectors taking\n",
    "into account that each measurement is taken every 2 seconds so it just comprises that experiment and doesn't\n",
    "introduce noise from the next"
   ]
  },
  {
   "cell_type": "code",
   "execution_count": 45,
   "metadata": {
    "pycharm": {
     "name": "#%%\n"
    }
   },
   "outputs": [],
   "source": [
    "def coalesce_metrics(loads, threshold = 0.1):\n",
    "    \"\"\"We have three slaves, and sometimes not all of them are working\n",
    "    if the numnber of cpus and jobs is just one\n",
    "\n",
    "    In these cases,  discard the lists with an average too close to zero,\n",
    "    if not, add the slaves together and calculate the mean at each point to\n",
    "    get the final vector.\"\n",
    "\n",
    "    :param: threshold: the threshold of utilization under which we conside\n",
    "                        that the server was not used in the experiment\"\"\"\n",
    "\n",
    "    avg_loads = {}\n",
    "    for exp, slaves in loads.items():\n",
    "        print(f'\\n{exp}')\n",
    "        for slave, metrics in slaves.items():\n",
    "            count = 0\n",
    "            c = np.zeros(len(metrics['cpu']))\n",
    "            io = np.zeros(len(metrics['iowait']))\n",
    "            # if the mean is too slow discard\n",
    "            cpu_mean = np.mean(metrics['cpu'])\n",
    "            if  cpu_mean <1:\n",
    "                print(f'Discarding {slave} with cpu mean =',cpu_mean)\n",
    "            else:\n",
    "                c += metrics['cpu']\n",
    "                io += metrics['iowait']\n",
    "                count =+ 1\n",
    "                # print(slave, np.mean(metrics['cpu']), np.mean(metrics['iowait']))\n",
    "                # print(metrics['cpu'])\n",
    "\n",
    "        avg_loads[exp] = {\n",
    "            'cpu': c / count,\n",
    "            'iowait': io/count\n",
    "        }\n",
    "\n",
    "    return avg_loads"
   ]
  },
  {
   "cell_type": "code",
   "execution_count": 46,
   "metadata": {
    "pycharm": {
     "name": "#%%\n"
    }
   },
   "outputs": [
    {
     "name": "stdout",
     "output_type": "stream",
     "text": [
      "Processing files for the slave1\n",
      "Exp length was 178.124531698, so max list positions are 95\n",
      "Exp length was 89.60311073, so max list positions are 50\n",
      "Exp length was 187.05435665, so max list positions are 99\n",
      "Exp length was 98.48028244, so max list positions are 55\n",
      "Processing files for the slave2\n",
      "Exp length was 178.124531698, so max list positions are 95\n",
      "Exp length was 89.60311073, so max list positions are 50\n",
      "Exp length was 187.05435665, so max list positions are 99\n",
      "Exp length was 98.48028244, so max list positions are 55\n",
      "Processing files for the slave3\n",
      "Exp length was 178.124531698, so max list positions are 95\n",
      "Exp length was 89.60311073, so max list positions are 50\n",
      "Exp length was 187.05435665, so max list positions are 99\n",
      "Exp length was 98.48028244, so max list positions are 55\n",
      "\n",
      "cpu1-batch64-njobs1\n",
      "Discarding slave1 with cpu mean = 0.008666666666666668\n",
      "Discarding slave2 with cpu mean = 0.22599999999999998\n",
      "\n",
      "cpu8-batch64-njobs1\n",
      "\n",
      "cpu1-batch512-njobs1\n",
      "Discarding slave1 with cpu mean = 0.004210526315789474\n",
      "Discarding slave2 with cpu mean = 0.0031578947368421056\n",
      "\n",
      "cpu8-batch512-njobs1\n",
      "\n",
      "cpu1-batch64-njobs5\n",
      "\n",
      "cpu8-batch64-njobs5\n",
      "\n",
      "cpu1-batch512-njobs5\n",
      "\n",
      "cpu8-batch512-njobs5\n"
     ]
    },
    {
     "data": {
      "text/plain": [
       "{'cpu1-batch64-njobs1': {'cpu': array([33.3,  0. ,  0. ,  0. ,  7.1,  6.3,  0. ,  0. ,  2.5,  2.6,  4.9,\n",
       "          3.9,  7.2, 21.2, 13.6, 11.1,  7.5,  6.3,  6.1,  6.3,  5.4,  4.1,\n",
       "          7.8,  3.3,  4.9,  3.4,  4. ,  4.2,  4.2,  4.9,  3.2,  5.1,  4.1,\n",
       "          3.8,  4.3,  4.9,  4.5,  3.6,  3.3,  4.1,  3.3,  3.9,  4.6,  4. ,\n",
       "          5.3,  3.2,  3.4,  3.5,  3.6,  3.1,  3.5,  3.3,  3.8,  3.2,  4.2,\n",
       "          3. ,  4.6,  3.3,  3.5,  3.3,  3. ,  3.9,  3.1,  4. ,  3.3,  3.3,\n",
       "          3.7,  3.4,  3.3,  5.3,  3.9,  3.1,  3.2,  3.2,  3.2,  3.3,  3.3,\n",
       "          3.2,  3.1,  3.3,  3.4,  3.1,  3.2,  2.9,  2.9,  3.3,  3.2,  4.2,\n",
       "          4.2,  3.8,  5.8,  3.6,  5.9,  3.1,  5.2,  3. ,  3.2,  3.2,  3.3,\n",
       "          3.2,  3.2,  3.1,  3. ,  3.1, 11.6,  5.9,  3.4,  3.2,  3. ,  2.7,\n",
       "          3. ,  2.9,  3. ,  3.1,  3.1,  3.1,  3.2,  3. ,  4.8,  2.7,  3.2,\n",
       "          2.9,  2.9,  2.6,  3. ,  2.9,  3.1,  3.3,  3.1,  3.5,  3.4,  2.9,\n",
       "          3.1,  3.2,  3.1,  3.1,  3.2,  3.3,  3.2,  3.1,  3.2,  2.9,  3.3,\n",
       "          4. ,  2.9,  3.2,  3.1,  3.2,  3.1,  3.2]),\n",
       "  'iowait': array([0. , 0. , 0. , 0. , 1.3, 1.3, 0. , 0. , 0. , 0.7, 0.5, 2.4, 3.5,\n",
       "         0.2, 0.8, 0. , 0. , 0. , 0. , 0. , 0. , 0. , 0. , 0.1, 0. , 0. ,\n",
       "         2.5, 0. , 0. , 0.5, 0. , 0. , 0.1, 0. , 0. , 0. , 0. , 0. , 0. ,\n",
       "         0. , 0. , 0. , 0. , 0.1, 0.1, 0. , 0. , 0. , 0. , 0. , 0. , 0. ,\n",
       "         0. , 0. , 0. , 0. , 0. , 0. , 0. , 0. , 0. , 0. , 0. , 0. , 0. ,\n",
       "         0.2, 0. , 0. , 0. , 0. , 0. , 0. , 0. , 0. , 0. , 0. , 0. , 0. ,\n",
       "         0. , 0. , 0. , 0. , 0. , 0. , 0. , 0.1, 0. , 0. , 0. , 0. , 0. ,\n",
       "         0. , 0. , 0. , 0. , 0. , 0. , 0. , 0. , 0. , 0. , 0. , 0. , 0. ,\n",
       "         0. , 0. , 0.1, 0. , 0. , 0. , 0. , 0. , 0. , 0. , 0. , 0. , 0. ,\n",
       "         0. , 0. , 0. , 0. , 0. , 0. , 0. , 0. , 0. , 0. , 0. , 0. , 0. ,\n",
       "         0. , 0. , 0. , 0. , 0. , 0. , 0. , 0. , 0. , 0. , 0. , 0. , 0. ,\n",
       "         0. , 0. , 0. , 0. , 0. , 0. , 0. ])},\n",
       " 'cpu8-batch64-njobs1': {'cpu': array([ 0. ,  0. , 12.4, 26. ,  0.1,  4.5,  6.6, 15.3, 24.1, 22.3, 22.4,\n",
       "          0. ,  0.2, 24.3, 32.4, 33. , 27.9, 22.4, 17.9, 18.3, 14.2, 20.3,\n",
       "         13.4, 15. , 15.7, 11.9, 21.1, 10.8, 16.5, 12.6, 11.9, 11. , 11.7,\n",
       "         10.1, 15.3, 13.3, 17.7, 13.4, 10.8, 11.7, 10.5, 10.9, 11.7, 11.3,\n",
       "         11.3,  9.5, 10.8, 10.5,  9.7, 10. , 11.6,  9.6, 12.9, 10.1,  9.9,\n",
       "          9.6, 12.2, 15.8,  9.6, 10. ,  9.9, 10. ,  9.7, 10.8, 10.8, 11.4,\n",
       "         10.8, 10.2, 10.9, 12.3, 10.8, 10.3, 11.8, 10.4, 10.7, 10.7, 10.7,\n",
       "         10.4, 10.6, 10. , 10. , 10.5,  9.7,  9.5,  9.6,  9.5, 10.1,  9.6,\n",
       "         10.7, 10.2, 10.2, 10.2,  9.5, 30.1, 10. , 17.7,  9.7, 13.8,  9.6,\n",
       "          9.5,  8.9,  9.4,  9.7, 10.2,  9.6, 10.1,  9.9, 12.6, 11.9, 10.3,\n",
       "         13.2,  9.7,  9. ,  9.2,  8.3,  9.1,  9.8,  9.8,  9.5, 10.3, 10.1,\n",
       "         10.7, 10. , 10. ,  9.3, 10.1, 10.6,  9.5, 10.7, 10.2, 10. , 10. ,\n",
       "         10. , 10. , 10.1,  9.9,  9.6,  9.2,  9.6, 10.6,  9.9,  9.8,  9. ,\n",
       "          9.2,  9.2,  9.6, 10.7, 10. , 10.4, 10.2]),\n",
       "  'iowait': array([0. , 0. , 0. , 0. , 0. , 0. , 6.6, 4.2, 5.5, 9.3, 0. , 0. , 0. ,\n",
       "         0. , 0. , 0.1, 0. , 0. , 0. , 0. , 0. , 0. , 0. , 2.1, 5.1, 0. ,\n",
       "         0. , 0.1, 0. , 0. , 0. , 0. , 0. , 0. , 0. , 0. , 0. , 0. , 0. ,\n",
       "         0. , 0. , 0. , 0. , 0.1, 0. , 0. , 0. , 0. , 0. , 0. , 0. , 0. ,\n",
       "         0. , 0. , 0. , 0.1, 0. , 0. , 0. , 0. , 0. , 0. , 0. , 0. , 0. ,\n",
       "         0. , 0. , 0. , 0. , 0. , 0. , 0. , 0. , 0. , 0. , 0. , 0. , 0. ,\n",
       "         0. , 0. , 0. , 0. , 0. , 0.1, 0. , 0. , 0. , 0. , 0. , 0. , 0. ,\n",
       "         0. , 0. , 0. , 0. , 0. , 0. , 0. , 0. , 0. , 0. , 0. , 0. , 0. ,\n",
       "         0. , 0. , 0. , 0. , 0. , 0. , 0. , 0. , 0. , 0. , 0. , 0. , 0. ,\n",
       "         0. , 0. , 0. , 0. , 0. , 0. , 0. , 0. , 0. , 0. , 0. , 0. , 0. ,\n",
       "         0. , 0. , 0. , 0. , 0. , 0. , 0. , 0. , 0. , 0. , 0. , 0. , 0.1,\n",
       "         0. , 0. , 0. , 0. , 0. , 0. , 0. ])},\n",
       " 'cpu1-batch512-njobs1': {'cpu': array([ 0. ,  0. ,  4.6,  7.2,  0. ,  7.2, 11.7, 21.1, 14.4,  8.9,  8.4,\n",
       "          5.9,  6.4,  7.1,  5.9,  5.5,  6. ,  6.4,  5.9, 11.8,  5.3,  5.9,\n",
       "          5.7,  5.7,  6.2,  5.3,  5.2,  6.1,  6. ,  5.6,  5.7,  5.2,  5.8,\n",
       "          5.4,  5.2,  5.3,  5. ,  5.7,  5.6,  5.7,  5.9,  5.2,  5. ,  5.3,\n",
       "          5.2,  5.4,  5.6,  5.2,  4.9,  5.5,  5.2,  5.3,  5.1,  5.3,  6. ,\n",
       "          5.2,  4.9,  5.7,  6.1,  5.4,  6. ,  5.2,  5.3,  5.6,  5.2,  5.1,\n",
       "          5.4,  5.1,  5.2,  5.6,  5.6,  5.1,  5.9,  5.3,  5.2,  5.2,  6. ,\n",
       "          5.4,  5.1,  5.1,  5.6,  5.4,  5.3,  5.2,  5.2,  5.1,  5.4,  4.9,\n",
       "          5.3,  5.6,  5.3,  5.1,  5.1,  5.2,  5.1]),\n",
       "  'iowait': array([0. , 0. , 0. , 0. , 0. , 1.2, 2.6, 0. , 0. , 0. , 0. , 0. , 0. ,\n",
       "         0. , 0. , 0. , 0. , 0. , 0. , 0. , 0. , 1.8, 0. , 0. , 0.3, 0. ,\n",
       "         0. , 0. , 0. , 0. , 0. , 0. , 0. , 0. , 0. , 0. , 0. , 0. , 0. ,\n",
       "         0. , 0. , 0. , 0. , 0. , 0. , 0. , 0. , 0. , 0. , 0. , 0. , 0. ,\n",
       "         0. , 0. , 0. , 0. , 0. , 0. , 0. , 0. , 0. , 0. , 0. , 0. , 0. ,\n",
       "         0. , 0. , 0. , 0. , 0. , 0. , 0. , 0. , 0. , 0. , 0. , 0. , 0. ,\n",
       "         0. , 0. , 0. , 0. , 0. , 0. , 0. , 0. , 0. , 0. , 0. , 0. , 0. ,\n",
       "         0. , 0. , 0. , 0. ])},\n",
       " 'cpu8-batch512-njobs1': {'cpu': array([ 0. ,  0. , 12. , 29. ,  0.2, 10.6,  2. , 21.9, 14.9, 34.8, 36.3,\n",
       "         37. , 28.1, 25.4, 22.3, 20.6, 18.1, 16.2, 16.5, 16.7, 15.9, 17.6,\n",
       "         18.3, 14.3, 22.6, 20.2, 14.4, 13.7, 14.4, 13.2, 12.3, 14.7, 13.5,\n",
       "         11.5, 13.3, 11.7, 16. , 17.2, 12.8, 13.6, 12.7, 15.8, 14.8, 12.2,\n",
       "         12.3, 14.1, 13.6, 13. , 11.9, 11.7]),\n",
       "  'iowait': array([ 0. ,  0. ,  0. ,  0. ,  0. ,  2. , 11.2,  4.1,  5.7,  0.1,  0. ,\n",
       "          0.1,  0. ,  0. ,  0. ,  0. ,  0. ,  0. ,  0. ,  0. ,  0. ,  1.1,\n",
       "          1.1,  0. ,  1.2,  3.9,  0. ,  0. ,  0. ,  0. ,  0. ,  0. ,  0. ,\n",
       "          0. ,  0. ,  0. ,  0. ,  0. ,  0. ,  0. ,  0. ,  0. ,  0. ,  0. ,\n",
       "          0. ,  0. ,  0. ,  0. ,  0. ,  0. ])},\n",
       " 'cpu1-batch64-njobs5': {'cpu': array([ 0. ,  0. ,  0. ,  7. , 12.8,  4. ,  4. ,  8.3, 24.6, 21.1, 33.4,\n",
       "         20.8, 20.1, 10.3,  8.7,  6.8,  8.6,  6.8,  9.6,  7.8,  8.1,  7.7,\n",
       "          7.3,  9.3,  4.8,  8.5,  7.1,  7.9,  6.5,  6. ,  7.8, 16.3,  7.1,\n",
       "          6.5,  7.3,  5.5,  8.2,  7. ,  7.9,  9.1,  7. ,  8.2,  6.1,  7.6,\n",
       "          6.3,  6.3,  6.8,  7.1,  7.9,  7.2,  9.1,  6. ,  7.3,  6.2,  6.6,\n",
       "          6.4,  6. ,  6.4,  6.4,  7.1,  6.4,  9.4,  6.9,  6.7,  7.7,  5.7,\n",
       "          5.8,  5.9,  7.3,  6. ,  7. ,  6.6,  6.3,  6.2,  6.3,  6.5,  6.3,\n",
       "          9.5,  7.6,  7. ,  6.5,  6.3,  6.9,  5.9,  6.4,  6. ,  7. ,  5.8,\n",
       "          6.8,  5.8,  6.6,  6.1,  6.3,  6.3,  5.2,  6.2,  5.1,  7.4,  7.7,\n",
       "          6.8, 12.2,  7. , 11.6,  6.2,  9.1,  6.9,  8.3,  6.4,  6.3,  6.4,\n",
       "          6.3,  6.1,  5.9,  6.1,  6.2, 10.1,  6.8, 14.1,  6.8,  6.8,  6.4,\n",
       "          5.8,  6.3,  5.8,  5.6,  5.9,  5.6,  6.6,  6.1,  6.4,  6.2,  8.3,\n",
       "          6.6,  7.1,  6.4,  6. ,  6.5,  6.3,  7.8,  5.9,  6.2,  6.2,  6. ,\n",
       "          6.1,  6.1,  6.9,  5.8,  6.7,  5.8,  7. ]),\n",
       "  'iowait': array([0. , 0. , 0. , 0. , 0. , 0. , 1.1, 1. , 1.5, 2. , 2. , 0. , 0. ,\n",
       "         0. , 0. , 0. , 0. , 0. , 0. , 0. , 0. , 0. , 0. , 2.3, 0. , 0. ,\n",
       "         3.4, 0. , 0. , 0.3, 0. , 0. , 0. , 0. , 0. , 0. , 0. , 0. , 0. ,\n",
       "         0. , 0. , 0. , 0. , 0. , 0. , 0. , 0. , 0. , 0. , 0. , 0. , 0. ,\n",
       "         0. , 0. , 0. , 0. , 0. , 0.1, 0. , 0. , 0. , 0. , 0. , 0. , 0. ,\n",
       "         0. , 0. , 0. , 0. , 0. , 0. , 0. , 0. , 0. , 0. , 0.1, 0. , 0. ,\n",
       "         0. , 0. , 0. , 0. , 0. , 0. , 0. , 0. , 0. , 0. , 0. , 0. , 0. ,\n",
       "         0. , 0. , 0. , 0. , 0. , 0. , 0. , 0. , 0. , 0. , 0. , 0. , 0. ,\n",
       "         0. , 0. , 0. , 0. , 0. , 0. , 0. , 0. , 0. , 0. , 0. , 0. , 0. ,\n",
       "         0. , 0. , 0. , 0. , 0.1, 0. , 0. , 0. , 0. , 0. , 0. , 0. , 0. ,\n",
       "         0. , 0. , 0. , 0. , 0. , 0. , 0. , 0. , 0. , 0. , 0. , 0.1, 0. ,\n",
       "         0. , 0. , 0. , 0. , 0. , 0. , 0. ])},\n",
       " 'cpu8-batch64-njobs5': {'cpu': array([33.3,  0. ,  0. , 22.4, 76.8, 89.4, 43.5, 15.4, 10.6, 50.1, 16.7,\n",
       "          0.7,  0.4,  0.6,  0.7,  0.4,  0.3,  1.3, 32.7,  5.3, 10.5,  9.3,\n",
       "         18. , 75.2, 51. , 35.1, 24.6, 29.8, 86.3, 75. , 93.5, 94.5, 70.7,\n",
       "         56.2, 51.5, 47.6, 54.1, 42.8, 62. , 59.9, 49.6, 47.4, 48.5, 54.6,\n",
       "         49.9, 42.3, 48.6, 54.2, 41.9, 43.3, 45.6, 40.7, 41.1, 36.6, 44.3,\n",
       "         40.5, 36.9, 38.3, 38.2, 40.1, 34.9, 35.5, 32.9, 38.6, 33.5, 34.9,\n",
       "         42.6, 40.7, 31.1, 40.7, 32.9, 38.9, 39.2, 42.6, 38. , 32.4, 32.9,\n",
       "         40.3, 34.5, 46.7, 37.4, 38.1, 34.8, 35.4, 36.9, 34.3, 33.8, 36. ,\n",
       "         33.1, 36.5, 40.4, 34.2, 36.6, 34.1, 37.4, 34.7, 33.6, 34.9, 38.2,\n",
       "         38. , 38.1, 38.2, 37. , 36.4, 36. , 35.9, 38.2, 43.6, 42.3, 38.7,\n",
       "         33.8, 36. , 34.5, 34.5, 35.5, 36.7, 40.1, 34.8, 34.2, 34.2, 33.6,\n",
       "         35.8, 34.5, 35.1, 37.6, 39.1, 35.5, 35.8, 34.9, 33.3, 35.2, 34.1,\n",
       "         39.4, 35.4, 35.2, 35.5, 36.4, 35.6, 43.4, 35. , 36.9, 35.4, 35. ,\n",
       "         34. , 35.7, 36.3, 36.4, 35.6, 34.2, 34.8]),\n",
       "  'iowait': array([ 0. ,  0. ,  0. ,  0. ,  0. ,  0.1,  0. , 14.5, 34.4, 24.3, 48.3,\n",
       "         57.4, 60.1, 64.9, 61.8, 62.8, 59.4, 57.2, 38.1, 56.9, 54.6, 59.8,\n",
       "         53. , 10.2, 26.6, 39.6, 43.2, 40.5,  4.8,  8.7,  2.7,  0.5,  4. ,\n",
       "          3. ,  3.2,  6. ,  3. ,  4.8,  1.1,  0. ,  0.1,  0. ,  0. ,  0. ,\n",
       "          0. ,  0.1,  0. ,  0.2,  0. ,  0. ,  0. ,  0. ,  0. ,  0. ,  0. ,\n",
       "          0. ,  0. ,  0. ,  0. ,  0. ,  0.1,  0. ,  0. ,  0. ,  0. ,  0. ,\n",
       "          0. ,  0. ,  0. ,  0. ,  0. ,  0. ,  0. ,  0. ,  0. ,  0. ,  0. ,\n",
       "          0. ,  0. ,  0. ,  0. ,  0. ,  0. ,  0.1,  0. ,  0. ,  0. ,  0. ,\n",
       "          0. ,  0. ,  0. ,  0. ,  0. ,  0. ,  0. ,  0. ,  0. ,  0. ,  0. ,\n",
       "          0. ,  0. ,  0.1,  0. ,  0. ,  0. ,  0. ,  0. ,  0. ,  0. ,  0. ,\n",
       "          0. ,  0. ,  0. ,  0. ,  0. ,  0. ,  0. ,  0. ,  0. ,  0. ,  0. ,\n",
       "          0. ,  0. ,  0. ,  0. ,  0. ,  0. ,  0. ,  0. ,  0. ,  0. ,  0. ,\n",
       "          0. ,  0. ,  0. ,  0. ,  0. ,  0. ,  0. ,  0. ,  0. ,  0. ,  0. ,\n",
       "          0. ,  0. ,  0. ,  0. ,  0. ,  0. ,  0. ])},\n",
       " 'cpu1-batch512-njobs5': {'cpu': array([ 0. ,  0. ,  0. ,  8.2, 15.7,  1.7,  4.5,  8.4, 23. , 25.3, 32.1,\n",
       "         25.6, 20. , 12.9, 13.4, 10.7, 12.3, 11.6, 18.5, 11.5, 11.9, 17.9,\n",
       "         14.4, 12.2, 11.2, 11.1, 10.6, 11.5, 10.3, 12. , 10.2, 10.7, 12.1,\n",
       "         10.5, 11. , 11.4, 10.6, 10.6, 11.7, 10.6, 10.5, 11.5, 10.1, 10.7,\n",
       "         10.5, 12.1, 10.8, 10.2, 10.8, 10.7, 10.3, 10.9, 10.6, 10.9, 10.7,\n",
       "         10.3, 10.8, 11.3, 10.5,  9.8, 11.2, 11.1, 10.8, 10.1, 10.9, 12.3,\n",
       "         11. , 11. , 11.3, 10.4, 10.2, 11.1, 10.5, 10.2, 10.2, 10.6, 10.1,\n",
       "         10.6, 10.8,  9.9, 10.6, 10.7, 10.5, 10.9, 11.1, 10.3, 10.8, 11.6,\n",
       "         10.1, 10.4, 10.3, 10.3, 10.5, 10.5, 10. , 10.3, 10.6, 10.6, 10.5]),\n",
       "  'iowait': array([0. , 0. , 0. , 0. , 0. , 0. , 0.5, 0.8, 3.9, 1.6, 0.8, 0. , 0. ,\n",
       "         0. , 0. , 0. , 0. , 0. , 0. , 0. , 0. , 0. , 0. , 0. , 3. , 3. ,\n",
       "         0. , 0. , 0.2, 0. , 0. , 0. , 0. , 0. , 0. , 0. , 0. , 0. , 0. ,\n",
       "         0. , 0. , 0. , 0. , 0. , 0. , 0. , 0. , 0. , 0. , 0. , 0. , 0. ,\n",
       "         0. , 0. , 0. , 0. , 0. , 0. , 0. , 0. , 0. , 0. , 0. , 0. , 0. ,\n",
       "         0. , 0. , 0. , 0. , 0. , 0. , 0. , 0. , 0. , 0. , 0. , 0. , 0. ,\n",
       "         0. , 0. , 0. , 0. , 0. , 0. , 0. , 0. , 0. , 0. , 0. , 0. , 0. ,\n",
       "         0. , 0. , 0. , 0. , 0. , 0. , 0. , 0. ])},\n",
       " 'cpu8-batch512-njobs5': {'cpu': array([ 0. ,  0. ,  0. , 33.3, 90.2, 70.4,  8.8, 18.3, 18.8, 26.8,  5.5,\n",
       "          2.3,  0.6,  0.5,  0.5,  0.5,  5.1, 10. , 10. ,  0.5, 13. , 13.5,\n",
       "         19.6, 73.6, 22.7, 23.2, 32.9, 26. ,  0.2, 14.1,  1.3,  0.3,  0.3,\n",
       "          7.1, 18.6, 45. , 49.6, 39.6, 47.7, 37.4, 32.2, 30.5, 28.9, 26.6,\n",
       "         24.3, 23.5, 27.9, 22.8, 22.3, 26.7, 24.1, 24.7, 21.6, 25.6, 19.8]),\n",
       "  'iowait': array([ 0. ,  0. ,  0. ,  0. ,  0. ,  0. ,  0.2, 12.1, 28.7, 37.7, 62.6,\n",
       "         61.2, 59.6, 63.3, 58. , 61.5, 59.3, 61. , 57.8, 63.8, 59.8, 39.1,\n",
       "         43.9, 14.5, 31.7, 32.6, 18. , 11.9, 15.4, 11.5, 15.1, 15.3, 13.6,\n",
       "         11.8,  3.9,  2.4,  0. ,  0.1,  5.4,  1.3,  0. ,  0.1,  0. ,  0. ,\n",
       "          1.9,  0. ,  0. ,  0. ,  0. ,  0. ,  0. ,  0. ,  0.1,  0. ,  0. ])}}"
      ]
     },
     "execution_count": 46,
     "metadata": {},
     "output_type": "execute_result"
    }
   ],
   "source": [
    "root_folder_slaves = './experiments/'\n",
    "\n",
    "dirs = os.listdir(root_folder_slaves)\n",
    "slave_dirs = [f for f in dirs if 'slave' in f]\n",
    "\n",
    "\n",
    "loads = defaultdict(dict)\n",
    "# The shape of the results is\n",
    "# name of the file:\n",
    "#     - slave 1:\n",
    "#         - cpu: list\n",
    "#         - iowait: list\n",
    "#     - slave 2:\n",
    "#         ...\n",
    "\n",
    "# Do the same in all the folders\n",
    "for folder in slave_dirs:\n",
    "    print('Processing files for the', folder)\n",
    "    # get just the pickle files\n",
    "    files = glob.glob(os.path.join(root_folder_slaves, folder, '*.pkl'))\n",
    "\n",
    "    # Extract the dictionary from each file\n",
    "    for f in files:\n",
    "\n",
    "        # Get the name of the experiment to index the other dict\n",
    "        variables = f.split('-')[1:]\n",
    "        exp_name = '-'.join(variables).replace('.pkl', '')\n",
    "        # print(exp_name)\n",
    "\n",
    "        with open(f, 'rb') as pickle_file:\n",
    "            metrics = pickle.load(pickle_file)\n",
    "\n",
    "        # Now we need to check to just get the metrics concerning the experiment\n",
    "        # And not the following. We leave a margin of 10 seconds or 5 list positions just in case\n",
    "        # to not cut too tightly\n",
    "        exp_length = results_df.loc[exp_name, 'time']\n",
    "        if exp_length > 300:\n",
    "             loads[exp_name][folder] = metrics\n",
    "        else:\n",
    "            max_list_length = math.ceil(exp_length/2) + 5\n",
    "            print(f'Exp length was {exp_length}, so max list positions are {max_list_length}')\n",
    "            if max_list_length < len(metrics['cpu']):\n",
    "                loads[exp_name][folder] = dict()\n",
    "                loads[exp_name][folder]['cpu'] = metrics['cpu'][:max_list_length]\n",
    "                loads[exp_name][folder]['iowait'] = metrics['iowait'][:max_list_length]\n",
    "                continue\n",
    "\n",
    "# Get the average usage of the experiments\n",
    "# The resulting dict will just map each\n",
    "# pf the experiments to its avg cpu load and\n",
    "# iowait across all slaves\n",
    "avg_loads = coalesce_metrics(loads)\n",
    "\n"
   ]
  },
  {
   "cell_type": "markdown",
   "metadata": {
    "pycharm": {
     "name": "#%% md\n"
    }
   },
   "source": [
    "## Plot the loads for each of the slaves for each of the experiments\n",
    "\n",
    "In some experiments some of the slaves have zero load cause they are not used, in those cases\n",
    "we should filter out the lists whose average is too close to zero. In other cases, we can just average the\n",
    "load among all of the slaves."
   ]
  },
  {
   "cell_type": "code",
   "execution_count": 86,
   "metadata": {
    "pycharm": {
     "name": "#%%\n"
    }
   },
   "outputs": [],
   "source": [
    "# Functions to plot results\n",
    "\n",
    "import seaborn as sns\n",
    "import matplotlib.pyplot as plt\n",
    "\n",
    "# TODO finish this\n",
    "def plot_accuracies(df: pd.DataFrame,  final_value=False, by = None):\n",
    "    \"\"\"Plot the accuracies as a time series using 'by' as the X axis\"\"\"\n",
    "\n",
    "    if not final_value:\n",
    "        # Get the max time of the experiments to set as x axis\n",
    "        max_time = df['time'].max()\n",
    "\n",
    "        for exp, row in df.iterrows():\n",
    "            times = np.linspace(0, row.time, 10)\n",
    "            plt.plot(times, row.accuracies, label=exp)\n",
    "\n",
    "        plt.legend()\n",
    "        plt.show()\n",
    "\n",
    "    else:\n",
    "\n",
    "        if by is not None:\n",
    "            _df = df.groupby(by)['final accuracy'].mean()\n",
    "            if isinstance(by, list):\n",
    "                names = _df.index.names\n",
    "                x = [f'{names[0]}-{names[1]}']\n",
    "\n",
    "            plt.bar(_df.index, _df.values)\n",
    "            plt.show()\n",
    "        else:\n",
    "            # use the names as x-axis and the accuracy as the y\n",
    "            plt.bar(df.index,df['final accuracy'])\n",
    "            plt.show()\n",
    "\n",
    "\n"
   ]
  },
  {
   "cell_type": "markdown",
   "metadata": {
    "pycharm": {
     "name": "#%% md\n"
    }
   },
   "source": [
    "### Regress the datapoints we have to get an idea of the performance"
   ]
  },
  {
   "cell_type": "code",
   "execution_count": 127,
   "metadata": {
    "pycharm": {
     "name": "#%%\n"
    }
   },
   "outputs": [],
   "source": [
    "# Import the 3 regressors\n",
    "from sklearn.tree import  DecisionTreeRegressor\n",
    "from sklearn.ensemble import RandomForestRegressor\n",
    "from sklearn.linear_model import LinearRegression, Lasso, Ridge\n",
    "\n",
    "from sklearn.preprocessing import StandardScaler\n",
    "\n",
    "from sklearn.model_selection import cross_val_score, LeaveOneOut, cross_validate"
   ]
  },
  {
   "cell_type": "code",
   "execution_count": 109,
   "metadata": {
    "pycharm": {
     "name": "#%%\n"
    }
   },
   "outputs": [
    {
     "name": "stderr",
     "output_type": "stream",
     "text": [
      "c:\\users\\diego\\cs\\qpe\\venv\\lib\\site-packages\\ipykernel_launcher.py:5: SettingWithCopyWarning: \n",
      "A value is trying to be set on a copy of a slice from a DataFrame.\n",
      "Try using .loc[row_indexer,col_indexer] = value instead\n",
      "\n",
      "See the caveats in the documentation: https://pandas.pydata.org/pandas-docs/stable/user_guide/indexing.html#returning-a-view-versus-a-copy\n",
      "  \"\"\"\n"
     ]
    },
    {
     "data": {
      "text/plain": [
       "0    494.060797\n",
       "1    508.237879\n",
       "2    178.124532\n",
       "3     89.603111\n",
       "4    552.377511\n",
       "5    905.821336\n",
       "6    187.054357\n",
       "7     98.480282\n",
       "Name: time, dtype: float64"
      ]
     },
     "execution_count": 109,
     "metadata": {},
     "output_type": "execute_result"
    }
   ],
   "source": [
    "# We want to fit the response time based on the number of processes (cpu * jobs) and the batch size\n",
    "\n",
    "# 1) Transform the dataset\n",
    "df_regr = results_df[['cpu', 'batch', 'njobs', 'time']]\n",
    "df_regr['processes'] = df_regr['cpu'] * df_regr['njobs']\n",
    "df_regr = df_regr[['processes', 'batch', 'time']]\n",
    "\n",
    "X = df_regr[['processes', 'batch']].reset_index(drop=True)\n",
    "y = df_regr['time'].reset_index(drop=True)\n",
    "\n",
    "\n"
   ]
  },
  {
   "cell_type": "code",
   "execution_count": 152,
   "metadata": {
    "pycharm": {
     "name": "#%%\n"
    }
   },
   "outputs": [
    {
     "name": "stdout",
     "output_type": "stream",
     "text": [
      "(8, 2) (8,)\n",
      "LinearRegression() -67676.42728110083\n",
      "Lasso() -67089.66228510928\n",
      "Ridge() -61845.79007154719\n",
      "DecisionTreeRegressor() -19409.76442881924\n",
      "RandomForestRegressor() -34659.326956500474\n"
     ]
    },
    {
     "data": {
      "text/plain": "<Figure size 432x288 with 1 Axes>",
      "image/png": "[encoded data removed]"
     },
     "metadata": {
      "needs_background": "light"
     },
     "output_type": "display_data"
    }
   ],
   "source": [
    "# Scale the data\n",
    "\n",
    "%matplotlib inline\n",
    "\n",
    "scaler = StandardScaler()\n",
    "xtrain = scaler.fit_transform(X)\n",
    "xtrain\n",
    "\n",
    "# PLot the datapoints\n",
    "from mpl_toolkits.mplot3d import Axes3D\n",
    "\n",
    "# plot the train examples\n",
    "f = plt.figure()\n",
    "ax = Axes3D(f)\n",
    "print(xtrain.shape, y.ravel().shape)\n",
    "ax.scatter(xtrain[:,0], xtrain[:,1], y)\n",
    "\n",
    "# Fit a simple linear regression\n",
    "regressors = [LinearRegression(), Lasso(), Ridge(), DecisionTreeRegressor(), RandomForestRegressor()]\n",
    "\n",
    "for r in regressors:\n",
    "    loo = LeaveOneOut()\n",
    "\n",
    "    scores = cross_validate(r, xtrain, y, cv=5, scoring='neg_mean_squared_error')\n",
    "\n",
    "    print(r, np.mean(scores['test_score']))\n",
    "\n",
    "\n",
    "x1,x2 = np.meshgrid(np.linspace(-2,2), np.linspace(-2,2))\n",
    "\n",
    "lr = regressors[0].fit(xtrain, y)\n",
    "inter = lr.intercept_\n",
    "coefs = lr.coef_\n",
    "\n",
    "y_out = coefs[0]*x1+coefs[1]*x2 + inter\n",
    "ax.plot_wireframe(x1,x2,y_out);"
   ]
  },
  {
   "cell_type": "markdown",
   "metadata": {
    "pycharm": {
     "name": "#%% md\n"
    }
   },
   "source": [
    "## Run the ANOVA test with all of the results\n"
   ]
  },
  {
   "cell_type": "code",
   "execution_count": 46,
   "metadata": {
    "pycharm": {
     "name": "#%%\n"
    }
   },
   "outputs": [
    {
     "data": {
      "text/html": [
       "<div>\n",
       "<style scoped>\n",
       "    .dataframe tbody tr th:only-of-type {\n",
       "        vertical-align: middle;\n",
       "    }\n",
       "\n",
       "    .dataframe tbody tr th {\n",
       "        vertical-align: top;\n",
       "    }\n",
       "\n",
       "    .dataframe thead th {\n",
       "        text-align: right;\n",
       "    }\n",
       "</style>\n",
       "<table border=\"1\" class=\"dataframe\">\n",
       "  <thead>\n",
       "    <tr style=\"text-align: right;\">\n",
       "      <th></th>\n",
       "      <th>cpu1-batch64-njobs1</th>\n",
       "      <th>cpu8-batch64-njobs1</th>\n",
       "      <th>cpu1-batch512-njobs1</th>\n",
       "      <th>cpu8-batch512-njobs1</th>\n",
       "      <th>cpu1-batch64-njobs5</th>\n",
       "      <th>cpu8-batch64-njobs5</th>\n",
       "      <th>cpu1-batch512-njobs5</th>\n",
       "      <th>cpu8-batch512-njobs5</th>\n",
       "    </tr>\n",
       "  </thead>\n",
       "  <tbody>\n",
       "    <tr>\n",
       "      <th>time</th>\n",
       "      <td>494.060797</td>\n",
       "      <td>508.237879</td>\n",
       "      <td>178.124532</td>\n",
       "      <td>89.603111</td>\n",
       "      <td>552.377511</td>\n",
       "      <td>905.821336</td>\n",
       "      <td>187.054357</td>\n",
       "      <td>98.480282</td>\n",
       "    </tr>\n",
       "    <tr>\n",
       "      <th>accuracy</th>\n",
       "      <td>0.958800</td>\n",
       "      <td>0.960100</td>\n",
       "      <td>0.884300</td>\n",
       "      <td>0.890300</td>\n",
       "      <td>0.964800</td>\n",
       "      <td>0.959600</td>\n",
       "      <td>0.890800</td>\n",
       "      <td>0.893400</td>\n",
       "    </tr>\n",
       "  </tbody>\n",
       "</table>\n",
       "</div>"
      ],
      "text/plain": [
       "          cpu1-batch64-njobs1  cpu8-batch64-njobs1  cpu1-batch512-njobs1  \\\n",
       "time               494.060797           508.237879            178.124532   \n",
       "accuracy             0.958800             0.960100              0.884300   \n",
       "\n",
       "          cpu8-batch512-njobs1  cpu1-batch64-njobs5  cpu8-batch64-njobs5  \\\n",
       "time                 89.603111           552.377511           905.821336   \n",
       "accuracy              0.890300             0.964800             0.959600   \n",
       "\n",
       "          cpu1-batch512-njobs5  cpu8-batch512-njobs5  \n",
       "time                187.054357             98.480282  \n",
       "accuracy              0.890800              0.893400  "
      ]
     },
     "execution_count": 46,
     "metadata": {},
     "output_type": "execute_result"
    }
   ],
   "source": [
    "\n",
    "\n",
    "\n",
    "# Get the last accuracy instead of the list for the accuracy of each of the experiments\n",
    "\n",
    "df = pd.DataFrame(res_final)\n",
    "\n",
    "df"
   ]
  }
 ],
 "metadata": {
  "kernelspec": {
   "display_name": "Python 3",
   "language": "python",
   "name": "python3"
  },
  "language_info": {
   "codemirror_mode": {
    "name": "ipython",
    "version": 3
   },
   "file_extension": ".py",
   "mimetype": "text/x-python",
   "name": "python",
   "nbconvert_exporter": "python",
   "pygments_lexer": "ipython3",
   "version": "3.6.8"
  }
 },
 "nbformat": 4,
 "nbformat_minor": 1
}