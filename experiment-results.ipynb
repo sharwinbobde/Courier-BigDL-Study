{
 "cells": [
  {
   "cell_type": "markdown",
   "metadata": {
    "collapsed": true,
    "pycharm": {
     "name": "#%% md\n"
    }
   },
   "source": [
    "# Interpret the results obtained from each of the experiments\n",
    "\n",
    "The results from the experiments involve interpreting and plotting several quantities\n",
    "- CPU Utilization of the slaves during the experiments\n",
    "- IO Wait of the slaves during the experiments\n",
    "- Accuracy of the final model after 10 epochs\n",
    "- Response time of the model after 10 epochs\n",
    "\n",
    "(Possible other result to see)\n",
    "- Throughput of the model"
   ]
  },
  {
   "cell_type": "code",
   "execution_count": null,
   "metadata": {
    "pycharm": {
     "is_executing": false,
     "name": "#%%\n"
    }
   },
   "outputs": [],
   "source": [
    "%matplotlib inline\n",
    "\n",
    "import math\n",
    "import numpy as np\n",
    "import pandas as pd\n",
    "from collections import defaultdict\n",
    "import glob\n",
    "import os\n",
    "import pickle\n",
    "import matplotlib.pyplot as plt\n",
    "import seaborn as sns\n",
    "\n",
    "# For the ANOVA test\n",
    "import researchpy as rp\n",
    "import statsmodels.api as sm\n",
    "from statsmodels.formula.api import ols\n",
    "\n",
    "# For the regression model and evaluation\n",
    "# Import the 3 regressors\n",
    "from sklearn.tree import  DecisionTreeRegressor\n",
    "from sklearn.ensemble import RandomForestRegressor\n",
    "from sklearn.linear_model import LinearRegression, Lasso, Ridge\n",
    "from sklearn.preprocessing import StandardScaler\n",
    "from sklearn.model_selection import GridSearchCV, cross_val_score, LeaveOneOut, cross_validate, train_test_split\n",
    "from sklearn.metrics import mean_squared_error, r2_score\n",
    "\n",
    "\n",
    "from typing import Tuple, Optional\n",
    "from dataclasses import dataclass\n",
    "\n",
    "from courier import Job, Courier\n",
    "\n",
    "plt.rc('font', size=15)"
   ]
  },
  {
   "cell_type": "markdown",
   "metadata": {
    "pycharm": {
     "name": "#%% md\n"
    }
   },
   "source": [
    "## Extract from the log files the Accuracy and the Response Time\n",
    "\n",
    "The files are in the folder from the master server, and we get a final line in the files with\n",
    "the total wall clock time and the final accuracy\n",
    "\n",
    "The folder structure taken into consideration is the following, from the root folder for the set\n",
    "of experiments in question (2k or full) we get 4 folders, 1 for the master and 1 for each slave,\n",
    "and inside these folders we get 1 folder for each of the replications. Inside we should find the\n",
    "pickle files and the log files in case of the master\n"
   ]
  },
  {
   "cell_type": "code",
   "execution_count": null,
   "metadata": {
    "pycharm": {
     "is_executing": false,
     "name": "#%%\n"
    },
    "scrolled": false
   },
   "outputs": [],
   "source": [
    "\n",
    "def split_name(exp_name: str) -> (int, int, int):\n",
    "    \"\"\"Given the name of the file give back the settings of the experiment\"\"\"\n",
    "    parts = exp_name.split('-')\n",
    "    cpu = int(parts[0].replace('cpu', '').strip())\n",
    "    batch = int(parts[1].replace('batch', '').strip())\n",
    "    njobs = int(parts[2].replace('njobs', '').strip())\n",
    "    network = str(parts[3])[3:] if len(parts) > 3 else 'lenet'\n",
    "\n",
    "    return cpu, batch, njobs, network\n",
    "\n",
    "# Read the folder os the master and search for the accuracy to build the dictionary\n",
    "# Right now for testing it just has one replication\n",
    "\n",
    "\n",
    "\n",
    "# Get a dict ready to transform into a dataframe for training of the\n",
    "# model and representation\n",
    "results = {\n",
    "    'exp_name': [],\n",
    "    'replication': [],\n",
    "    'cpu': [],\n",
    "    'batch': [],\n",
    "    'njobs': [],\n",
    "    'network': [],\n",
    "    'time': [],\n",
    "    'accuracies':[],\n",
    "    'final_accuracy': []\n",
    "}\n",
    "# Just take the final valuie for the ANOVA test\n",
    "# res_final = defaultdict(dict)\n",
    "\n",
    "\n",
    "replications = 3\n",
    "\n",
    "for r in range(1, 1+replications):\n",
    "    # This is the path we should change to either analyze the 2k or the full factorial\n",
    "    path_root_master = f'./experiments/2k/{r}/master/'\n",
    "    \n",
    "    # get the log files\n",
    "    logs = glob.glob(os.path.join(path_root_master, '*.log'))\n",
    "    \n",
    "    \n",
    "    print(f'Extracting the data from {len(logs)} files')\n",
    "    for log in logs:\n",
    "        acc = []\n",
    "        with open(log, 'r') as f:\n",
    "            for line in f:\n",
    "                if 'Top1Accuracy is Accuracy' in line:\n",
    "                    try:\n",
    "                        _accuracy = line.strip().split(']')[-1].split(',')[-1].split(':')[-1].replace(')', '')\n",
    "                        acc.append(float(_accuracy.strip()))\n",
    "                    except Exception as e:\n",
    "                        print('Error while reading accuracy',e)\n",
    "                    if len(acc) == 10:\n",
    "                        # Then save the time here\n",
    "                        time = float(line.strip().split(']')[-2].split('[')[-1].split(' ')[-1].replace('s', ''))\n",
    "                        break\n",
    "        # Add the results to the dictionary\n",
    "        variables = log.split('-')[1:]\n",
    "        if len(variables) < 4:\n",
    "            variables[-1] = variables[-1].split('.')[0]\n",
    "            variables.append('netlenet5')\n",
    "        name = '-'.join(variables).replace('.log', '')\n",
    "        cpu, batch, njobs , network= split_name(name)\n",
    "        # set all the columns\n",
    "        results['cpu'].append(cpu)\n",
    "        results['batch'].append(batch)\n",
    "        results['njobs'].append(njobs)\n",
    "        results['network'].append(network)\n",
    "        results['accuracies'].append(acc)\n",
    "        results['time'].append(time)\n",
    "        results['final_accuracy'].append(acc[-1])\n",
    "        results['exp_name'].append(name)\n",
    "        results['replication'].append(r)\n",
    "\n",
    "\n",
    "results_df = pd.DataFrame(results)\n",
    "# results_df = results_df.set_index('exp_name')\n",
    "\n",
    "# We should get the last accuracy to run ANOVA but to plot this is better\n",
    "results_df\n"
   ]
  },
  {
   "cell_type": "markdown",
   "metadata": {
    "pycharm": {
     "name": "#%% md\n"
    }
   },
   "source": [
    "# Extract the CPU and IO wait from the pickle files\n",
    "\n",
    "In this case we need the slave folders (we will check that the folder contains the word slave to analyze the files)\n",
    "and we will extract the pickle files from where we will get the CPU load and the IO wait percentage\n",
    "\n",
    "There is a thing to take in mind. The experiment runs for a default of 5 minutes, so if the experiment lasted\n",
    "less than 300 seconds, which we can get from the results dictionary from before, we should trim the vectors taking\n",
    "into account that each measurement is taken every 2 seconds so it just comprises that experiment and doesn't\n",
    "introduce noise from the next"
   ]
  },
  {
   "cell_type": "code",
   "execution_count": null,
   "metadata": {
    "pycharm": {
     "is_executing": false,
     "name": "#%%\n"
    }
   },
   "outputs": [],
   "source": [
    "def coalesce_metrics(loads, replication, threshold = 1):\n",
    "    \"\"\"We have three slaves, and sometimes not all of them are working\n",
    "    if the numnber of cpus and jobs is just one\n",
    "\n",
    "    In these cases,  discard the lists with an average too close to zero,\n",
    "    if not, add the slaves together and calculate the mean at each point to\n",
    "    get the final vector.\"\n",
    "\n",
    "    :param: threshold: the threshold of utilization under which we conside\n",
    "                        that the server was not used in the experiment\"\"\"\n",
    "    # Dict to build the dataframe\n",
    "    avg_loads = {\n",
    "        'exp_name': [],\n",
    "        'replication': [],\n",
    "        'cpu_load': [],\n",
    "        'iowait': [],\n",
    "        'cpu_mean': [],\n",
    "        'iowait_mean':[]\n",
    "    }\n",
    "\n",
    "    for exp, slaves in loads.items():\n",
    "        # print(f'\\n{exp}')\n",
    "        count = 0\n",
    "        list_length = len(list(slaves['slave1'].values())[0])\n",
    "        c = np.zeros(list_length)\n",
    "        io = np.zeros(list_length)\n",
    "        for slave, metrics in slaves.items():\n",
    "\n",
    "            # if the mean is too slow discard\n",
    "            cpu_mean = np.mean(metrics['cpu'])\n",
    "            if  cpu_mean <threshold:\n",
    "                # print(f'Discarding {slave} with cpu mean =',cpu_mean)\n",
    "                pass\n",
    "            else:\n",
    "                c += metrics['cpu']\n",
    "                io += metrics['iowait']\n",
    "                count += 1\n",
    "                # print(slave, np.mean(metrics['cpu']), np.mean(metrics['iowait']))\n",
    "                # print(metrics['cpu'])\n",
    "\n",
    "        # print('dividing by ',count)\n",
    "        avg_loads['exp_name'].append(exp)\n",
    "        avg_loads['replication'].append(replication)\n",
    "        avg_loads['cpu_load'].append(c / count)\n",
    "        avg_loads['iowait'].append(io/count)\n",
    "        avg_loads['cpu_mean'].append(np.mean(c/count))\n",
    "        avg_loads['iowait_mean'].append(np.mean(io/count))\n",
    "\n",
    "    return avg_loads"
   ]
  },
  {
   "cell_type": "code",
   "execution_count": null,
   "metadata": {
    "pycharm": {
     "is_executing": false,
     "name": "#%%\n"
    },
    "scrolled": true
   },
   "outputs": [],
   "source": [
    "dfs = []\n",
    "\n",
    "for replication in [1, 2, 3]:\n",
    "    print('Starting with replication ',replication)\n",
    "    root_folder_slaves = f'./experiments/2k/{replication}'\n",
    "\n",
    "    dirs = os.listdir(root_folder_slaves)\n",
    "    slave_dirs = [f for f in dirs if 'slave' in f]\n",
    "    print(slave_dirs)\n",
    "\n",
    "\n",
    "    loads = defaultdict(dict)\n",
    "    # The shape of the results is\n",
    "    # name of the file:\n",
    "    #     - slave 1:\n",
    "    #         - cpu: list\n",
    "    #         - iowait: list\n",
    "    #     - slave 2:\n",
    "    #         ...\n",
    "\n",
    "    # Do the same in all the folders\n",
    "    for folder in slave_dirs:\n",
    "        print('Processing files for the', folder)\n",
    "        # get just the pickle files\n",
    "        files = glob.glob(os.path.join(root_folder_slaves, folder, '*.pkl'))\n",
    "\n",
    "        # Extract the dictionary from each file\n",
    "        for f in files:\n",
    "\n",
    "            # Get the name of the experiment to index the other dict\n",
    "            variables = f.split('-')[1:]\n",
    "            if len(variables) < 4:\n",
    "                variables.append('netlenet5')\n",
    "            exp_name = '-'.join(variables).replace('.pkl', '')\n",
    "#             print(exp_name)\n",
    "#             print(f)\n",
    "\n",
    "            with open(f, 'rb') as pickle_file:\n",
    "                metrics = pickle.load(pickle_file)\n",
    "\n",
    "            # Now we need to check to just get the metrics concerning the experiment\n",
    "            # And not the following. We leave a margin of 10 seconds or 5 list positions just in case\n",
    "            # to not cut too tightly\n",
    "            exp_length = results_df.loc[(results_df.exp_name == exp_name) & (results_df.replication == replication), 'time'].array[0]\n",
    "            if exp_length > 300:\n",
    "                loads[exp_name][folder] = metrics\n",
    "\n",
    "            else:\n",
    "                max_list_length = math.ceil(exp_length/2) + 5\n",
    "                # print(f'Exp length was {exp_length}, so max list positions are {max_list_length}')\n",
    "                if max_list_length < len(metrics['cpu']):\n",
    "                    loads[exp_name][folder] = dict()\n",
    "                    loads[exp_name][folder]['cpu'] = metrics['cpu'][:max_list_length]\n",
    "                    loads[exp_name][folder]['iowait'] = metrics['iowait'][:max_list_length]\n",
    "                else:\n",
    "                    # Add the whole of it\n",
    "                    loads[exp_name][folder] = metrics\n",
    "\n",
    "    # Get the average usage of the experiments\n",
    "    # The resulting dict will just map each\n",
    "    # pf the experiments to its avg cpu load and\n",
    "    # iowait across all slaves\n",
    "\n",
    "    avg_loads = coalesce_metrics(loads, replication)\n",
    "    loads_df = pd.DataFrame(avg_loads)\n",
    "    print('build dataframe')\n",
    "    dfs.append(loads_df)\n",
    "\n",
    "# Concat all of the dataframes into one\n",
    "load_df = None\n",
    "\n",
    "for df in dfs:\n",
    "    load_df = df if results_df is None else pd.concat([load_df, df], ignore_index=True)"
   ]
  },
  {
   "cell_type": "markdown",
   "metadata": {
    "pycharm": {
     "name": "#%% md\n"
    }
   },
   "source": [
    "### Merge the dataframes together so we get a common dataframe for all results\n"
   ]
  },
  {
   "cell_type": "code",
   "execution_count": null,
   "metadata": {
    "pycharm": {
     "is_executing": false,
     "name": "#%%\n"
    }
   },
   "outputs": [],
   "source": [
    "# Merge the two dataframes so we get all the data grouped by experiment number\n",
    "final_df = results_df.merge(load_df, on=['exp_name', 'replication'])"
   ]
  },
  {
   "cell_type": "markdown",
   "metadata": {
    "pycharm": {
     "name": "#%% md\n"
    }
   },
   "source": [
    "***\n",
    "# If everything is already done load the data from the file"
   ]
  },
  {
   "cell_type": "code",
   "execution_count": null,
   "metadata": {},
   "outputs": [],
   "source": [
    "final_df = pd.read_pickle('./experiments/fullfact/complete_data.pkl')"
   ]
  },
  {
   "cell_type": "markdown",
   "metadata": {
    "pycharm": {
     "name": "#%% md\n"
    }
   },
   "source": [
    "## Plot the loads for each of the slaves for each of the experiments\n",
    "\n",
    "In some experiments some of the slaves have zero load cause they are not used, in those cases\n",
    "we should filter out the lists whose average is too close to zero. In other cases, we can just average the\n",
    "load among all of the slaves."
   ]
  },
  {
   "cell_type": "markdown",
   "metadata": {
    "pycharm": {
     "name": "#%% md\n"
    }
   },
   "source": [
    "### See the relationship with time"
   ]
  },
  {
   "cell_type": "code",
   "execution_count": null,
   "metadata": {
    "pycharm": {
     "name": "#%%\n"
    },
    "scrolled": false
   },
   "outputs": [],
   "source": [
    "fig, (ax1, ax2, ax3, ax4) = plt.subplots(4, figsize=(15,15))\n",
    "\n",
    "sns.barplot(x='njobs', y='time', hue='batch', data=final_df, ax=ax1)\n",
    "sns.barplot(x='cpu', y='time', hue='batch', data=final_df, ax=ax2)\n",
    "\n",
    "final_df['processes'] = final_df['cpu'] * final_df['njobs']\n",
    "sns.barplot(x='processes', y='time', hue='network',data=final_df, ax=ax3)\n",
    "sns.barplot(x='batch', y='time', hue='network', data=final_df, ax=ax4);\n"
   ]
  },
  {
   "cell_type": "markdown",
   "metadata": {
    "pycharm": {
     "name": "#%% md\n"
    }
   },
   "source": [
    "### See the relationships with the accuracy\n"
   ]
  },
  {
   "cell_type": "code",
   "execution_count": null,
   "metadata": {
    "pycharm": {
     "name": "#%%\n"
    }
   },
   "outputs": [],
   "source": [
    "# fig, (ax1, ax2, ax3, ax4) = plt.subplots(4, figsize=(15,15))\n",
    "\n",
    "# sns.violinplot(x='njobs', y='final_accuracy', data=final_df, ax=ax1)\n",
    "# sns.violinplot(x='cpu', y='final_accuracy', data=final_df, ax=ax2)\n",
    "\n",
    "# final_df['processes'] = final_df['cpu'] * final_df['njobs']\n",
    "# sns.violinplot(x='processes', y='final_accuracy', data=final_df, ax=ax3)\n",
    "# sns.barplot(x='batch', y='final_accuracy', hue='network', data=final_df, ax=ax4)\n",
    "\n",
    "\n",
    "plt.figure(figsize=(15,6))\n",
    "# sns.barplot(x='batch', y='final_accuracy', hue='network', data=final_df)\n",
    "# plt.ylim([0.87,1])\n",
    "sns.violinplot(x='processes', y='final_accuracy', data=final_df)\n",
    "plt.savefig('./figures/accuracy_only_batch.pdf')\n"
   ]
  },
  {
   "cell_type": "markdown",
   "metadata": {
    "pycharm": {
     "name": "#%% md\n"
    }
   },
   "source": [
    "### See the relationship with the cpu load and iowait"
   ]
  },
  {
   "cell_type": "code",
   "execution_count": null,
   "metadata": {
    "pycharm": {
     "name": "#%%\n"
    },
    "scrolled": false
   },
   "outputs": [],
   "source": [
    "# fig, (ax1, ax2, ax3, ax4) = plt.subplots(4, figsize=(15,15))\n",
    "\n",
    "# sns.violinplot(x='njobs', y='cpu_mean', data=final_df, ax=ax1)\n",
    "# sns.violinplot(x='cpu', y='cpu_mean', data=final_df, ax=ax2)\n",
    "\n",
    "# final_df['processes'] = final_df['cpu'] * final_df['njobs']\n",
    "# sns.barplot(x='processes', y='cpu_mean', hue='network', data=final_df, ax=ax3)\n",
    "# sns.barplot(x='batch', y='cpu_mean', hue = 'cpu', data=final_df, ax=ax4);\n",
    "\n",
    "\n",
    "\n",
    "plt.figure(figsize=(15,6))\n",
    "sns.violinplot(x='njobs', y='cpu_mean', data=final_df)\n",
    "plt.savefig('./figures/njobs-vs-cpu_mean.pdf')\n"
   ]
  },
  {
   "cell_type": "code",
   "execution_count": null,
   "metadata": {
    "pycharm": {
     "name": "#%%\n"
    }
   },
   "outputs": [],
   "source": [
    "fig, (ax1, ax2, ax3, ax4) = plt.subplots(4, figsize=(15,15))\n",
    "\n",
    "sns.barplot(x='njobs', y='iowait_mean', data=final_df, ax=ax1)\n",
    "sns.barplot(x='cpu', y='iowait_mean', data=final_df, ax=ax2)\n",
    "\n",
    "final_df['processes'] = final_df['cpu'] * final_df['njobs']\n",
    "sns.lineplot(x='processes', y='iowait_mean', data=final_df, ax=ax3)\n",
    "sns.barplot(x='batch', y='iowait_mean', data=final_df, ax=ax4);\n",
    "\n",
    "\n",
    "final_df.groupby('njobs').mean()"
   ]
  },
  {
   "cell_type": "markdown",
   "metadata": {
    "pycharm": {
     "name": "#%% md\n"
    }
   },
   "source": [
    "## Run some statistical tests to see if the batch influences any of the outputs"
   ]
  },
  {
   "cell_type": "code",
   "execution_count": null,
   "metadata": {
    "pycharm": {
     "name": "#%%\n"
    },
    "scrolled": false
   },
   "outputs": [],
   "source": [
    "# run for batch with the IO, CPU...\n",
    "\n",
    "from scipy.stats import mannwhitneyu\n",
    "import itertools\n",
    "\n",
    "def njobs_significance_test(column: str):\n",
    "\n",
    "    print('Starting jobs significance test for column', column)\n",
    "\n",
    "    # Divide in batches\n",
    "    n0 = final_df[final_df.njobs == 1][column]\n",
    "    n1 = final_df[final_df.njobs == 3][column]\n",
    "    n2 = final_df[final_df.njobs == 5][column]\n",
    "\n",
    "    jobs = {1: n0,\n",
    "               3:n1,\n",
    "               5:n2\n",
    "    }\n",
    "\n",
    "    # Calculate p-values\n",
    "    combinations = itertools.combinations(list(jobs.keys()), 2)\n",
    "    for i, j in combinations:\n",
    "        # Calculate the test for those two values\n",
    "        _, p_val = mannwhitneyu(jobs[i], jobs[j])\n",
    "        print(f'P-value of {i} and {j} is {p_val} --> {\"RELEVANT\" if p_val < 0.05 else \"NON_RELEVANT\"}')\n",
    "    print()\n",
    "\n",
    "def cpu_significance_test(column: str):\n",
    "\n",
    "    print('Starting cpu significance test for column', column)\n",
    "\n",
    "    # Divide in batches\n",
    "    c0 = final_df[final_df.cpu == 1][column]\n",
    "    c1 = final_df[final_df.cpu == 2][column]\n",
    "    c2 = final_df[final_df.cpu == 4][column]\n",
    "    c3 = final_df[final_df.cpu == 8][column]\n",
    "\n",
    "    cpus = {1: c0,\n",
    "               2:c1,\n",
    "               4:c2,\n",
    "               8:c3\n",
    "    }\n",
    "\n",
    "    # Calculate p-values\n",
    "    combinations = itertools.combinations(list(cpus.keys()), 2)\n",
    "    for i, j in combinations:\n",
    "        # Calculate the test for those two values\n",
    "        _, p_val = mannwhitneyu(cpus[i], cpus[j])\n",
    "        print(f'P-value of {i} and {j} is {p_val} --> {\"RELEVANT\" if p_val < 0.05 else \"NON_RELEVANT\"}')\n",
    "    print()\n",
    "\n",
    "\n",
    "def batch_significance_test(column: str):\n",
    "\n",
    "    print('Starting batch significance test for column', column)\n",
    "\n",
    "    # Divide in batches\n",
    "    b0 = final_df[final_df.batch == 64][column]\n",
    "    b1 = final_df[final_df.batch == 128][column]\n",
    "    b2 = final_df[final_df.batch == 256][column]\n",
    "    b3 = final_df[final_df.batch == 512][column]\n",
    "\n",
    "    batches = {64: b0,\n",
    "               128:b1,\n",
    "               256:b2,\n",
    "               512:b3\n",
    "    }\n",
    "\n",
    "    # Calculate p-values\n",
    "    combinations = itertools.combinations([64,128,256,512], 2)\n",
    "    for i, j in combinations:\n",
    "        # Calculate the test for those two values\n",
    "        _, p_val = mannwhitneyu(batches[i], batches[j])\n",
    "        print(f'P-value of {i} and {j} is {p_val} --> {\"RELEVANT\" if p_val < 0.05 else \"NON_RELEVANT\"}')\n",
    "    print()\n",
    "\n",
    "for col in ['time', 'final_accuracy', 'cpu_mean', 'iowait_mean']:\n",
    "    print(f'--------- {col.upper()} ------------')\n",
    "    batch_significance_test(col)\n",
    "    njobs_significance_test(col)\n",
    "    cpu_significance_test(col)"
   ]
  },
  {
   "cell_type": "markdown",
   "metadata": {
    "pycharm": {
     "name": "#%% md\n"
    }
   },
   "source": [
    "## Try to calculate the service rate of the disk based on the number of jobs and the batch"
   ]
  },
  {
   "cell_type": "code",
   "execution_count": null,
   "metadata": {
    "pycharm": {
     "name": "#%%\n"
    },
    "scrolled": false
   },
   "outputs": [],
   "source": [
    "Tcpu = 0.045\n",
    "mu_cpu = 1/Tcpu\n",
    "num_examples = 60000\n",
    "num_epochs = 10\n",
    "\n",
    "mus = {\n",
    "    'batch':[],\n",
    "    'cpu':[],\n",
    "    'processes':[],\n",
    "    'njobs':[],\n",
    "    'mu':[],\n",
    "    'time':[]\n",
    "}\n",
    "\n",
    "for i, row in final_df.iterrows():\n",
    "    # Calculate the new numbers\n",
    "    l_disk = max(1, (row.njobs * row.cpu)/3) * mu_cpu\n",
    "    T = row.time\n",
    "    Nt = (num_examples/row.batch) * num_epochs\n",
    "    mu_disk = (1/((T/Nt) - Tcpu)) + l_disk\n",
    "    \n",
    "    mus['batch'].append(row.batch)\n",
    "    mus['cpu'].append(row.cpu)\n",
    "    mus['processes'].append(row.njobs * row.cpu)\n",
    "    mus['njobs'].append(row.njobs)\n",
    "    mus['mu'].append(mu_disk)\n",
    "    mus['time'].append(row.time)\n",
    "\n",
    "    \n",
    "df_mu = pd.DataFrame(mus)\n",
    "\n",
    "df_mu.groupby(['batch', 'njobs']).mean()"
   ]
  },
  {
   "cell_type": "code",
   "execution_count": null,
   "metadata": {
    "pycharm": {
     "name": "#%%\n"
    },
    "scrolled": false
   },
   "outputs": [],
   "source": [
    "f, (ax1, ax2, ax3) = plt.subplots(3, figsize=(15, 10))\n",
    "\n",
    "sns.lineplot(x='batch', y='mu', data=df_mu, ax=ax1)\n",
    "sns.lineplot(x='processes', y='mu', data=df_mu, ax=ax2)\n",
    "sns.lineplot(x='cpu', y='mu', data=df_mu, ax=ax3)\n"
   ]
  },
  {
   "cell_type": "code",
   "execution_count": null,
   "metadata": {},
   "outputs": [],
   "source": [
    "Tcpu = 0.045\n",
    "mu_cpu = 1/Tcpu\n",
    "num_examples = 60000\n",
    "num_epochs = 10\n",
    "\n",
    "\n",
    "# See how well it does just on the training dataframe\n",
    "labels_time = final_df['time']\n",
    "\n",
    "# Divide into train and test set\n",
    "train_df = final_df\n",
    "x_train, x_test, y_train_mu, y_test_mu = train_test_split(df_mu, df_mu['mu'], test_size=0.2, random_state = 42)\n",
    "\n",
    "res = {\n",
    "    'expected':[],\n",
    "    'actual':[]\n",
    "}\n",
    "\n",
    "lr = LinearRegression()\n",
    "lr.fit(x_train[['batch', 'processes']], y_train_mu)\n",
    "\n",
    "\n",
    "# Time for all the rows in the test set \n",
    "for _, row in x_test.iterrows():\n",
    "    # Measured time\n",
    "    T_true = row.time\n",
    "    \n",
    "    # Apply the formula\n",
    "    l_disk = max(1, row.processes/3) * mu_cpu\n",
    "    mu_disk = lr.predict([[row.batch,row.processes]])[0]\n",
    "    Nt = (num_examples/row.batch) * num_epochs\n",
    "    Tdisk = 1/(mu_disk - l_disk)\n",
    "    \n",
    "    T = Nt * (Tcpu + Tdisk)\n",
    "    res['expected'].append(T)\n",
    "    res['actual'].append(T_true)\n",
    "    \n",
    "res_df = pd.DataFrame(res)\n",
    "\n",
    "# display(res_df)\n",
    "    \n",
    "# Get the MSE and the R2 score of the model\n",
    "# 2) Get the predictions for the accuracy\n",
    "mse_t = mean_squared_error(res_df['actual'], res_df['expected'])\n",
    "r2_t = r2_score(res_df['actual'], res_df['expected'])\n",
    "\n",
    "print(f'TIME: MSE = {mse_t}, R2: {r2_t}')\n"
   ]
  },
  {
   "cell_type": "code",
   "execution_count": null,
   "metadata": {},
   "outputs": [],
   "source": [
    "plt.figure(figsize=(15,10))\n",
    "\n",
    "plt.scatter(x_test['processes'], res_df['actual'], label=\"True values\")\n",
    "plt.scatter(x_test['processes'], res_df['expected'], label=\"Predicted values\")\n",
    "\n",
    "plt.xlabel('Processes')\n",
    "plt.ylabel('Time(s)')\n",
    "\n",
    "plt.legend()"
   ]
  },
  {
   "cell_type": "markdown",
   "metadata": {
    "pycharm": {
     "name": "#%% md\n"
    }
   },
   "source": [
    "## Run the ANOVA tests on this data \n",
    "\n",
    "We want to see how factors like number of CPUs, Jobs, and Batch influence all the others\n",
    "- Accuracy\n",
    "- E(T)\n",
    "- CPU Usage\n",
    "- IO Wait"
   ]
  },
  {
   "cell_type": "code",
   "execution_count": null,
   "metadata": {
    "pycharm": {
     "name": "#%%\n"
    }
   },
   "outputs": [],
   "source": [
    "def ANOVA(df: pd.DataFrame, y: str, use_all = False,verbose=False):\n",
    "    \"\"\"Run the ANOVA analysis with the cpu, batch and njobs columns for the \n",
    "    given output variable\"\"\"\n",
    "    \n",
    "    # If use all is true we use all the variables to check either accuracy and time\n",
    "    # including also the iowait and the cpu to see what fully influences the stuff\n",
    "    \n",
    "    \n",
    "    if not use_all:\n",
    "        # Plot the summary dataframe\n",
    "        if verbose:\n",
    "            display(rp.summary_cont(df.groupby(['cpu', 'batch', 'njobs', 'network']))[y])\n",
    "\n",
    "        model = ols(f'{y} ~ cpu*batch*njobs*C(network)', df).fit()\n",
    "        \n",
    "    else:\n",
    "        if y not in ['final_accuracy', 'time']:\n",
    "            raise ValueError('When use_all = True we predict either final_accuracy or time, not', y)\n",
    "        if verbose:\n",
    "            display(rp.summary_cont(df.groupby(['cpu', 'batch', 'njobs', 'cpu_mean', 'iowait_mean']))[y])\n",
    "\n",
    "        model = ols(f'{y} ~ cpu*batch*njobs*cpu_mean*iowait_mean', df).fit()\n",
    "        \n",
    "\n",
    "    if verbose:\n",
    "        print(f\"Overall model F({model.df_model: .0f},{model.df_resid: .0f}) = {model.fvalue: .3f}, p = {model.f_pvalue: .4f}\")\n",
    "        display(model.summary())\n",
    "    \n",
    "    res = sm.stats.anova_lm(model, typ=2)\n",
    "    \n",
    "    return res, model"
   ]
  },
  {
   "cell_type": "code",
   "execution_count": null,
   "metadata": {
    "pycharm": {
     "name": "#%%\n"
    },
    "scrolled": false
   },
   "outputs": [],
   "source": [
    "# Simply change the output value for the y to the variable that you want to study\n",
    "# - iowait_mean\n",
    "# - final_accuracy\n",
    "# - time\n",
    "# - cpu_mean\n",
    "res, model = ANOVA(final_df, y='time', verbose=True)\n",
    "res"
   ]
  },
  {
   "cell_type": "markdown",
   "metadata": {
    "pycharm": {
     "name": "#%% md\n"
    }
   },
   "source": [
    "### See how well the model can fit the test set"
   ]
  },
  {
   "cell_type": "code",
   "execution_count": null,
   "metadata": {},
   "outputs": [],
   "source": [
    "# After we get the model we can try to fit in on the x_train\n",
    "labels_time = final_df['time']\n",
    "labels_acc = final_df['final_accuracy']\n",
    "\n",
    "train_df = final_df\n",
    "train_df['network'] = train_df['network'].apply(lambda net: 1 if net == 'lenet5' else -1)\n",
    "x_train, x_test, y_train_time, y_test_time = train_test_split(train_df, labels_time, test_size=0.2, random_state = 42)\n",
    "x_train, x_test, y_train_acc, y_test_acc = train_test_split(train_df, labels_acc, test_size=0.2, random_state = 42)\n",
    "\n",
    "_, model_time = ANOVA(x_train, y='time')\n",
    "_, model_acc = ANOVA(x_train, y='final_accuracy')"
   ]
  },
  {
   "cell_type": "code",
   "execution_count": null,
   "metadata": {
    "pycharm": {
     "name": "#%%\n"
    }
   },
   "outputs": [],
   "source": [
    "# Get the MSE and the R2 score\n",
    "y_pred_time_anova = model_time.predict(x_test)\n",
    "y_pred_acc_anova = model_acc.predict(x_test)\n",
    "\n",
    "# 1) Get the predictions for the time\n",
    "mse_t = mean_squared_error(y_pred_time_anova, y_test_time)\n",
    "r2_t = r2_score(y_pred_time_anova, y_test_time)\n",
    "\n",
    "print(f'TIME: MSE = {mse_t}, R2: {r2_t}')\n",
    "\n",
    "\n",
    "# 2) Get the predictions for the accuracy\n",
    "mse_acc = mean_squared_error(y_pred_acc_anova, y_test_acc)\n",
    "r2_acc = r2_score(y_pred_acc_anova, y_test_acc)\n",
    "\n",
    "print(f'ACC: MSE = {mse_acc}, R2: {r2_acc}')"
   ]
  },
  {
   "cell_type": "code",
   "execution_count": null,
   "metadata": {},
   "outputs": [],
   "source": [
    "# Pritn the predictions and the true values\n",
    "\n",
    "f, (ax1, ax2) = plt.subplots(2, figsize=(15, 10))\n",
    "\n",
    "ax1.scatter(x_test.processes, y_test_time, 'ro', label='True labels')\n",
    "ax1.scatter(x_test.processes, y_pred_time_anova, label='Predicted values')\n",
    "\n",
    "ax1.set_xlabel('Number of processes')\n",
    "ax1.set_ylabel('Time (s)')\n",
    "\n",
    "ax2.scatter(x_test.processes, y_test_acc, label='True labels')\n",
    "ax2.scatter(x_test.processes, y_pred_acc_anova, label='Predicted values')\n",
    "\n",
    "ax2.set_xlabel('Number of processes')\n",
    "ax2.set_ylabel('Accuracy')\n",
    "\n",
    "ax1.legend()\n",
    "ax2.legend()"
   ]
  },
  {
   "cell_type": "markdown",
   "metadata": {
    "pycharm": {
     "name": "#%% md\n"
    }
   },
   "source": [
    "## Fit the Data with the Random Forest Classifier"
   ]
  },
  {
   "cell_type": "code",
   "execution_count": null,
   "metadata": {
    "scrolled": false
   },
   "outputs": [],
   "source": [
    "scaler = StandardScaler()\n",
    "\n",
    "# Create the interaction column\n",
    "final_df['processes'] = final_df['cpu'] * final_df['njobs']\n",
    "\n",
    "# Get the data split into train and test\n",
    "train_df = final_df[['processes', 'cpu', 'njobs', 'batch', 'network']]\n",
    "train_df['network'] = train_df['network'].apply(lambda net: 1 if net == 'lenet5' else -1)\n",
    "\n",
    "labels_time = final_df['time']\n",
    "labels_acc = final_df['final_accuracy']\n",
    "\n",
    "train_df = scaler.fit_transform(train_df)\n",
    "train_df\n",
    "\n",
    "# Fit just the Random Forest regressor with a GridSearch crossval to find the best hyperparams\n",
    "x_train, x_test, y_train_acc, y_test_acc = train_test_split(train_df, labels_acc, test_size=0.2, random_state = 42)\n",
    "x_train, x_test, y_train_time, y_test_time = train_test_split(train_df, labels_time, test_size=0.2, random_state = 42)"
   ]
  },
  {
   "cell_type": "code",
   "execution_count": null,
   "metadata": {
    "scrolled": false
   },
   "outputs": [],
   "source": [
    "reg_acc = RandomForestRegressor(random_state=42)\n",
    "reg_time = RandomForestRegressor(random_state=42)\n",
    "\n",
    "params_rf = {\n",
    "    'n_estimators': [50, 100, 150, 200, 500, 1000, 2000],\n",
    "    'max_features': ['auto', 'log2', 'sqrt'],\n",
    "    'max_depth': range(4,10),\n",
    "    'criterion': ['mse', 'mae']\n",
    "    \n",
    "}\n",
    "\n",
    "# First cross validation\n",
    "print('Fitting the time...')\n",
    "cv_time = GridSearchCV(estimator=reg_time, param_grid=params_rf, n_jobs=8, cv=5, verbose=3)\n",
    "cv_time.fit(x_train, y_train_time)\n",
    "\n",
    "\n",
    "# Second cross val\n",
    "print('Fitting the accuracy')\n",
    "cv_acc = GridSearchCV(estimator=reg_acc, param_grid=params_rf, n_jobs=8, cv=5, verbose=3)\n",
    "cv_acc.fit(x_train, y_train_acc)"
   ]
  },
  {
   "cell_type": "markdown",
   "metadata": {
    "pycharm": {
     "name": "#%% md\n"
    }
   },
   "source": [
    "### Fit the regressors on the accuracy and time"
   ]
  },
  {
   "cell_type": "code",
   "execution_count": null,
   "metadata": {},
   "outputs": [],
   "source": [
    "cv_acc.best_params_"
   ]
  },
  {
   "cell_type": "code",
   "execution_count": null,
   "metadata": {
    "scrolled": false
   },
   "outputs": [],
   "source": [
    "cv_time.best_params_"
   ]
  },
  {
   "cell_type": "code",
   "execution_count": null,
   "metadata": {
    "pycharm": {
     "name": "#%%\n"
    }
   },
   "outputs": [],
   "source": [
    "\n",
    "\n",
    "# 1) Fit on the time\n",
    "r_t = cv_time.best_estimator_.fit(x_train, y_train_time)\n",
    "\n",
    "# test the performance on the train and the test set\n",
    "y_pred = r_t.predict(x_test)\n",
    "\n",
    "err = mean_squared_error(y_pred, y_test_time)\n",
    "\n",
    "print('Mean Squared Error with the test set is for TIME', err)\n",
    "\n",
    "\n",
    "# 2) Fit on the acc\n",
    "r_acc = cv_acc.best_estimator_.fit(x_train, y_train_acc)\n",
    "\n",
    "# test the performance on the train and the test set\n",
    "y_pred = r_acc.predict(x_test)\n",
    "err = mean_squared_error(y_pred, y_test_acc)\n",
    "\n",
    "print('Mean Squared Error with the test set is for ACCURACY', err)"
   ]
  },
  {
   "cell_type": "markdown",
   "metadata": {},
   "source": [
    "***\n",
    "### Fit the data with the Gradient Boosting Classifier\n",
    "\n",
    "Fit the data with the best regressor and the same features that they used in the reference paper\n",
    "We will use the features that the authors use and that we add the batch and network"
   ]
  },
  {
   "cell_type": "code",
   "execution_count": null,
   "metadata": {
    "scrolled": true
   },
   "outputs": [],
   "source": [
    "scaler = StandardScaler()\n",
    "\n",
    "\n",
    "# Define the dataframe with the columns cores, \n",
    "comp_df = final_df[['cpu', 'batch', 'network']]\n",
    "comp_df['network'] = comp_df['network'].apply(lambda net: 1 if net == 'lenet5' else -1)\n",
    "labels_time = final_df['time']\n",
    "labels_acc = final_df['final_accuracy']\n",
    "\n",
    "# Standardize the data\n",
    "train_df = scaler.fit_transform(comp_df)\n",
    "train_df\n",
    "\n",
    "# Fit just the Random Forest regressor with a GridSearch crossval to find the best hyperparams\n",
    "x_train, x_test, y_train_acc, y_test_acc = train_test_split(train_df, labels_acc, test_size=0.2, random_state = 42)\n",
    "x_train, x_test, y_train_time, y_test_time = train_test_split(train_df, labels_time, test_size=0.2, random_state = 42)"
   ]
  },
  {
   "cell_type": "code",
   "execution_count": null,
   "metadata": {},
   "outputs": [],
   "source": [
    "from sklearn.ensemble import GradientBoostingRegressor\n",
    "\n",
    "reg_acc = GradientBoostingRegressor(random_state=42)\n",
    "reg_time = GradientBoostingRegressor(random_state=42)\n",
    "\n",
    "params = {\n",
    "    'n_estimators': [50, 100, 150, 200, 500, 1000, 2000],\n",
    "    'loss': ['ls', 'lad', 'huber'],\n",
    "    'max_depth': range(3,10),\n",
    "}\n",
    "\n",
    "\n",
    "# First cross validation\n",
    "print('Fitting the time...')\n",
    "cv_time = GridSearchCV(estimator=reg_time, param_grid=params, n_jobs=8, cv=5, verbose=3)\n",
    "cv_time.fit(x_train, y_train_time)\n",
    "\n",
    "\n",
    "# Second cross val\n",
    "print('Fitting the accuracy')\n",
    "cv_acc = GridSearchCV(estimator=reg_acc, param_grid=params, n_jobs=8, cv=5, verbose=3)\n",
    "cv_acc.fit(x_train, y_train_acc)"
   ]
  },
  {
   "cell_type": "code",
   "execution_count": null,
   "metadata": {},
   "outputs": [],
   "source": [
    "print(cv_time.best_params_)\n",
    "print(cv_acc.best_params_)"
   ]
  },
  {
   "cell_type": "code",
   "execution_count": null,
   "metadata": {},
   "outputs": [],
   "source": [
    "# fit the gradient boosters with the best parameters\n",
    "gb_t = GradientBoostingRegressor(n_estimators=50,\n",
    "                                max_depth=3,\n",
    "                                loss='lad',\n",
    "                                random_state=42).fit(x_train, y_train_time)\n",
    "\n",
    "gb_acc = GradientBoostingRegressor(n_estimators=50,\n",
    "                                  max_depth=3,\n",
    "                                  loss='ls',\n",
    "                                  random_state=42).fit(x_train, y_train_acc)\n",
    "\n",
    "# Get the predictions from the models\n",
    "\n",
    "# 1) Get the performance from time\n",
    "y_pred_time = gb_t.predict(x_test)\n",
    "mse_t = mean_squared_error(y_test_time, y_pred_time)\n",
    "r2_t = r2_score(y_test_time, y_pred_time)\n",
    "print(f'TIME: MSE = {mse_t}, R2: {r2_t}')\n",
    "\n",
    "# 2) Get the performance for the accuracy\n",
    "y_pred_acc = gb_acc.predict(x_test)\n",
    "mse_acc = mean_squared_error(y_test_acc, y_pred_acc)\n",
    "r2_acc = r2_score(y_test_acc, y_pred_acc)\n",
    "print(f'ACC: MSE = {mse_acc}, R2: {r2_acc}')"
   ]
  },
  {
   "cell_type": "code",
   "execution_count": null,
   "metadata": {},
   "outputs": [],
   "source": [
    "gb_t.feature_importances_"
   ]
  },
  {
   "cell_type": "code",
   "execution_count": null,
   "metadata": {},
   "outputs": [],
   "source": [
    "models = {'accuracy':gb_acc, 'time':gb_t}\n",
    "c = Courier(models, scaler)\n",
    "with open('courier_boost.pkl', 'wb') as f:\n",
    "    pickle.dump(c, f)"
   ]
  },
  {
   "cell_type": "markdown",
   "metadata": {
    "pycharm": {
     "name": "#%% md\n"
    }
   },
   "source": [
    "### Fit the resulting best hyperparams from the GridSearch "
   ]
  },
  {
   "cell_type": "code",
   "execution_count": null,
   "metadata": {},
   "outputs": [],
   "source": [
    "# Fit the regressor for time with the best params\n",
    "r_t = RandomForestRegressor(n_estimators=2000, \n",
    "                            criterion='mae', \n",
    "                            max_features='auto', \n",
    "                            max_depth=6, \n",
    "                            random_state=42, n_jobs=6).fit(x_train, y_train_time)\n",
    "\n",
    "# Fit the regressor for Accuracy with the best params\n",
    "r_acc= RandomForestRegressor(n_estimators=150, \n",
    "                             criterion='mae', \n",
    "                             max_features='auto', \n",
    "                             max_depth=9, \n",
    "                             random_state=42, n_jobs=6).fit(x_train, y_train_acc)"
   ]
  },
  {
   "cell_type": "code",
   "execution_count": null,
   "metadata": {},
   "outputs": [],
   "source": [
    "# Get the predictions from the models\n",
    "\n",
    "# 1) Get the performance from time\n",
    "y_pred_time = r_t.predict(x_test)\n",
    "\n",
    "mse_t = mean_squared_error(y_test_time, y_pred_time)\n",
    "r2_t = r2_score(y_test_time, y_pred_time)\n",
    "print(f'TIME: MSE = {mse_t}, R2: {r2_t}')\n",
    "\n",
    "# 2) Get the performance for the accuracy\n",
    "y_pred_acc = r_acc.predict(x_test)\n",
    "\n",
    "mse_acc = mean_squared_error(y_test_acc, y_pred_acc)\n",
    "r2_acc = r2_score(y_test_acc, y_pred_acc)\n",
    "print(f'ACC: MSE = {mse_acc}, R2: {r2_acc}')"
   ]
  },
  {
   "cell_type": "code",
   "execution_count": null,
   "metadata": {
    "pycharm": {
     "name": "#%%\n"
    }
   },
   "outputs": [],
   "source": [
    "# Pritn the predictions and the true values\n",
    "f, (ax1, ax2) = plt.subplots(2, figsize=(10, 10))\n",
    "\n",
    "ax1.scatter(x_test[:,0], y_test_time, label='True labels')\n",
    "ax1.errorbar(x_test[:,0], y_pred_time, yerr=y_test_time-y_pred_time, fmt='o', marker='^', c='r', label='Predicted values')\n",
    "\n",
    "ax1.set_xlabel('Normalized number of processes', fontsize=17)\n",
    "ax1.set_ylabel('Time (s)', fontsize=17)\n",
    "\n",
    "ax2.scatter(x_test[:,0], y_test_acc,label='True labels')\n",
    "ax2.errorbar(x_test[:,0], y_pred_acc, yerr=y_test_acc-y_pred_acc, fmt='o', marker='^', c='r', label='Predicted values')\n",
    "\n",
    "ax2.set_xlabel('Normalized number of processes', fontsize=15)\n",
    "ax2.set_ylabel('Accuracy', fontsize=17)\n",
    "\n",
    "ax1.legend(fontsize=17)\n",
    "ax2.legend(fontsize=17)\n",
    "\n",
    "plt.savefig('./figures/random_forest_plot.pdf')"
   ]
  },
  {
   "cell_type": "code",
   "execution_count": null,
   "metadata": {},
   "outputs": [],
   "source": [
    "for f, imp in zip(['processes', 'cpu', 'njobs', 'batch', 'network'],r_t.feature_importances_ ):\n",
    "    print(f, imp)\n",
    "    \n",
    "f, (ax1, ax2) = plt.subplots(1,2, sharey=True, figsize=(10,7))\n",
    "ax1.bar(['processes', 'cpu', 'njobs', 'batch', 'network'], r_t.feature_importances_)\n",
    "ax2.bar(['processes', 'cpu', 'njobs', 'batch', 'network'], r_acc.feature_importances_)\n",
    "ax1.tick_params(axis='x',rotation=40)\n",
    "ax1.tick_params(axis='both',labelsize=13)\n",
    "\n",
    "ax2.tick_params(axis='x',rotation=40)\n",
    "ax2.tick_params(axis='both',labelsize=13)\n",
    "\n",
    "\n",
    "ax1.set_ylabel('Importance', fontsize=17)\n",
    "ax1.set_xlabel('Features Resp. Time', fontsize=17)\n",
    "ax2.set_xlabel('Features Accuracy', fontsize=17)\n",
    "\n",
    "plt.tight_layout()\n",
    "\n",
    "plt.savefig('./figures/importance.pdf')"
   ]
  },
  {
   "cell_type": "markdown",
   "metadata": {
    "pycharm": {
     "name": "#%% md\n"
    }
   },
   "source": [
    "# Courier experiments"
   ]
  },
  {
   "cell_type": "code",
   "execution_count": null,
   "metadata": {},
   "outputs": [],
   "source": [
    "# Create the Courier\n",
    "from courier import Courier\n",
    "with open('./courier.pkl', 'rb') as f:\n",
    "    courier = pickle.load(f)\n",
    "    \n",
    "courier   \n",
    "\n",
    "with open('./courier_boost.pkl', 'rb') as f:\n",
    "    courier_boost = pickle.load(f)"
   ]
  },
  {
   "cell_type": "code",
   "execution_count": 70,
   "metadata": {
    "pycharm": {
     "name": "#%%\n"
    }
   },
   "outputs": [],
   "source": [
    "results_root_path = './experiments/courier'\n",
    "exp_path = './experiment_designs/courier_exp.csv'\n",
    "\n",
    "# Load the experiments\n",
    "exps = pd.read_csv(exp_path)\n",
    "\n",
    "def split_name(exp_name: str) -> (int, int, int):\n",
    "    \"\"\"Given the name of the file give back the settings of the experiment\"\"\"\n",
    "    parts = exp_name.split('-')\n",
    "    cpu = int(parts[1].replace('cpu', '').strip())\n",
    "    batch = int(parts[2].replace('batch', '').strip())\n",
    "    njobs = int(parts[3].replace('njobs', '').strip())\n",
    "    network = str(parts[4])[4:] if len(parts) > 4 else 'lenet'\n",
    "    \n",
    "    return cpu, batch, njobs, network\n",
    "    \n",
    "\n",
    "\n",
    "def read_logs(folder:str):\n",
    "    results = {\n",
    "        'exp_name': [],\n",
    "        'replication': [],\n",
    "        'cpu': [],\n",
    "        'batch': [],\n",
    "        'njobs': [],\n",
    "        'network': [],\n",
    "        'time': [],\n",
    "        'accuracies':[],\n",
    "        'final_accuracy': []\n",
    "    }\n",
    "\n",
    "\n",
    "    # 1) Load the results from the courier part of the experiments\n",
    "    # We need to do as with the normal experiments for the ANOVA and extract the accuracies and time\n",
    "    for replication in [1,2,3]:\n",
    "        logs = glob.glob(os.path.join(results_root_path, folder, str(replication), '*.log'))\n",
    "        \n",
    "\n",
    "        print(f'Extracting the data from {len(logs)} files')\n",
    "        for log in logs:\n",
    "            acc = []\n",
    "            with open(log, 'r') as f:\n",
    "                time = 0\n",
    "                for line in f:\n",
    "                    if 'Top1Accuracy is Accuracy' in line:\n",
    "                        try:\n",
    "                            _accuracy = line.strip().split(']')[-1].split(',')[-1].split(':')[-1].replace(')', '')\n",
    "                            acc.append(float(_accuracy.strip()))\n",
    "                        except Exception as e:\n",
    "                            print('Error while reading accuracy',e,log)\n",
    "                        if len(acc) == 10:\n",
    "                            # Then save the time here\n",
    "                            time = float(line.strip().split(']')[-2].split('[')[-1].split(' ')[-1].replace('s', ''))\n",
    "                            break\n",
    "            # Add the results to the dictionary\n",
    "            variables = log.split('-')[:-1]\n",
    "            variables[0] = variables[0][-1]\n",
    "            if len(variables) < 4:\n",
    "                variables[-1] = variables[-1].split('.')[0]\n",
    "                variables.append('netlenet5')\n",
    "            name = '-'.join(variables).replace('.log', '')\n",
    "            cpu, batch, njobs , network= split_name(name)\n",
    "            if time == 0:\n",
    "                print(log, \"time not found\")\n",
    "            # set all the columns\n",
    "            results['cpu'].append(cpu)\n",
    "            results['batch'].append(batch)\n",
    "            results['njobs'].append(njobs)\n",
    "            results['network'].append(network)\n",
    "            results['accuracies'].append(acc)\n",
    "            results['time'].append(time)\n",
    "            results['final_accuracy'].append(acc[-1])\n",
    "            results['exp_name'].append(name)\n",
    "            results['replication'].append(replication)\n",
    "            \n",
    "    return pd.DataFrame(results)\n",
    "\n",
    "def get_courier_predictions(df: pd.DataFrame, c: Courier, test= False) -> pd.DataFrame:\n",
    "    \"\"\"Gets the predictions for what courier predicts based on the jobs, cpu for a dataframe\"\"\"\n",
    "    preds = {\n",
    "        'exp_name':[],\n",
    "        'best_batch':[],\n",
    "        'predicted_time':[],\n",
    "        'predicted_accuracy':[],\n",
    "        'cpu':[],\n",
    "        'njobs':[],\n",
    "        'latency':[]\n",
    "    }\n",
    "    \n",
    "    df['network'] = df['network'].apply(lambda n: 1 if n == 'lenet5' else -1)\n",
    "    \n",
    "    for i, row in df[df.index<5].iterrows():\n",
    "        # Get the prediction from courier\n",
    "        latency = exps.iloc[i].latency\n",
    "        j = Job(cpu=row.cpu, njobs=row.njobs, network=row.network)\n",
    "        print(f'Row {i}, job = {j}')\n",
    "        if test:\n",
    "            best_batch, (acc, t) = c.optimize(j, latency, test=True)\n",
    "        else:\n",
    "            best_batch, (acc, t) = c.optimize(j, latency, test=False)\n",
    "        preds['exp_name'].append(row.exp_name)\n",
    "        preds['best_batch'].append(best_batch)\n",
    "        preds['predicted_time'].append(t)\n",
    "        preds['predicted_accuracy'].append(acc)\n",
    "        preds['cpu'].append(row.cpu)\n",
    "        preds['njobs'].append(row.njobs)\n",
    "        preds['latency'].append(latency)\n",
    "    \n",
    "    return pd.DataFrame(preds)\n"
   ]
  },
  {
   "cell_type": "code",
   "execution_count": null,
   "metadata": {},
   "outputs": [],
   "source": [
    "preds_boost"
   ]
  },
  {
   "cell_type": "markdown",
   "metadata": {
    "pycharm": {
     "name": "#%% md\n"
    }
   },
   "source": [
    "### Get the results from the courier model and the random model "
   ]
  },
  {
   "cell_type": "code",
   "execution_count": 83,
   "metadata": {
    "pycharm": {
     "name": "#%%\n"
    },
    "scrolled": false
   },
   "outputs": [
    {
     "name": "stdout",
     "output_type": "stream",
     "text": [
      "Extracting the data from 5 files\n",
      "Extracting the data from 5 files\n",
      "Extracting the data from 5 files\n",
      "./experiments/courier\\courier\\3\\3-cpu8-batch512-njobs3-netlenet5-courier.log time not found\n",
      "Row 0, job = Job(cpu=2, njobs=1, network=-1)\n"
     ]
    },
    {
     "name": "stderr",
     "output_type": "stream",
     "text": [
      "<string>:6: VisibleDeprecationWarning: Creating an ndarray from ragged nested sequences (which is a list-or-tuple of lists-or-tuples-or ndarrays with different lengths or shapes) is deprecated. If you meant to do this, you must specify 'dtype=object' when creating the ndarray\n",
      "<string>:6: VisibleDeprecationWarning: Creating an ndarray from ragged nested sequences (which is a list-or-tuple of lists-or-tuples-or ndarrays with different lengths or shapes) is deprecated. If you meant to do this, you must specify 'dtype=object' when creating the ndarray\n",
      "<string>:6: VisibleDeprecationWarning: Creating an ndarray from ragged nested sequences (which is a list-or-tuple of lists-or-tuples-or ndarrays with different lengths or shapes) is deprecated. If you meant to do this, you must specify 'dtype=object' when creating the ndarray\n",
      "<string>:6: VisibleDeprecationWarning: Creating an ndarray from ragged nested sequences (which is a list-or-tuple of lists-or-tuples-or ndarrays with different lengths or shapes) is deprecated. If you meant to do this, you must specify 'dtype=object' when creating the ndarray\n"
     ]
    },
    {
     "name": "stdout",
     "output_type": "stream",
     "text": [
      "Row 1, job = Job(cpu=4, njobs=1, network=-1)\n"
     ]
    },
    {
     "name": "stderr",
     "output_type": "stream",
     "text": [
      "<string>:6: VisibleDeprecationWarning: Creating an ndarray from ragged nested sequences (which is a list-or-tuple of lists-or-tuples-or ndarrays with different lengths or shapes) is deprecated. If you meant to do this, you must specify 'dtype=object' when creating the ndarray\n",
      "<string>:6: VisibleDeprecationWarning: Creating an ndarray from ragged nested sequences (which is a list-or-tuple of lists-or-tuples-or ndarrays with different lengths or shapes) is deprecated. If you meant to do this, you must specify 'dtype=object' when creating the ndarray\n",
      "<string>:6: VisibleDeprecationWarning: Creating an ndarray from ragged nested sequences (which is a list-or-tuple of lists-or-tuples-or ndarrays with different lengths or shapes) is deprecated. If you meant to do this, you must specify 'dtype=object' when creating the ndarray\n",
      "<string>:6: VisibleDeprecationWarning: Creating an ndarray from ragged nested sequences (which is a list-or-tuple of lists-or-tuples-or ndarrays with different lengths or shapes) is deprecated. If you meant to do this, you must specify 'dtype=object' when creating the ndarray\n"
     ]
    },
    {
     "name": "stdout",
     "output_type": "stream",
     "text": [
      "Row 2, job = Job(cpu=1, njobs=5, network=-1)\n"
     ]
    },
    {
     "name": "stderr",
     "output_type": "stream",
     "text": [
      "<string>:6: VisibleDeprecationWarning: Creating an ndarray from ragged nested sequences (which is a list-or-tuple of lists-or-tuples-or ndarrays with different lengths or shapes) is deprecated. If you meant to do this, you must specify 'dtype=object' when creating the ndarray\n",
      "<string>:6: VisibleDeprecationWarning: Creating an ndarray from ragged nested sequences (which is a list-or-tuple of lists-or-tuples-or ndarrays with different lengths or shapes) is deprecated. If you meant to do this, you must specify 'dtype=object' when creating the ndarray\n",
      "<string>:6: VisibleDeprecationWarning: Creating an ndarray from ragged nested sequences (which is a list-or-tuple of lists-or-tuples-or ndarrays with different lengths or shapes) is deprecated. If you meant to do this, you must specify 'dtype=object' when creating the ndarray\n",
      "<string>:6: VisibleDeprecationWarning: Creating an ndarray from ragged nested sequences (which is a list-or-tuple of lists-or-tuples-or ndarrays with different lengths or shapes) is deprecated. If you meant to do this, you must specify 'dtype=object' when creating the ndarray\n"
     ]
    },
    {
     "name": "stdout",
     "output_type": "stream",
     "text": [
      "Row 3, job = Job(cpu=8, njobs=3, network=-1)\n"
     ]
    },
    {
     "name": "stderr",
     "output_type": "stream",
     "text": [
      "<string>:6: VisibleDeprecationWarning: Creating an ndarray from ragged nested sequences (which is a list-or-tuple of lists-or-tuples-or ndarrays with different lengths or shapes) is deprecated. If you meant to do this, you must specify 'dtype=object' when creating the ndarray\n",
      "<string>:6: VisibleDeprecationWarning: Creating an ndarray from ragged nested sequences (which is a list-or-tuple of lists-or-tuples-or ndarrays with different lengths or shapes) is deprecated. If you meant to do this, you must specify 'dtype=object' when creating the ndarray\n",
      "<string>:6: VisibleDeprecationWarning: Creating an ndarray from ragged nested sequences (which is a list-or-tuple of lists-or-tuples-or ndarrays with different lengths or shapes) is deprecated. If you meant to do this, you must specify 'dtype=object' when creating the ndarray\n",
      "<string>:6: VisibleDeprecationWarning: Creating an ndarray from ragged nested sequences (which is a list-or-tuple of lists-or-tuples-or ndarrays with different lengths or shapes) is deprecated. If you meant to do this, you must specify 'dtype=object' when creating the ndarray\n"
     ]
    },
    {
     "name": "stdout",
     "output_type": "stream",
     "text": [
      "Row 4, job = Job(cpu=4, njobs=2, network=-1)\n"
     ]
    },
    {
     "name": "stderr",
     "output_type": "stream",
     "text": [
      "<string>:6: VisibleDeprecationWarning: Creating an ndarray from ragged nested sequences (which is a list-or-tuple of lists-or-tuples-or ndarrays with different lengths or shapes) is deprecated. If you meant to do this, you must specify 'dtype=object' when creating the ndarray\n",
      "<string>:6: VisibleDeprecationWarning: Creating an ndarray from ragged nested sequences (which is a list-or-tuple of lists-or-tuples-or ndarrays with different lengths or shapes) is deprecated. If you meant to do this, you must specify 'dtype=object' when creating the ndarray\n",
      "<string>:6: VisibleDeprecationWarning: Creating an ndarray from ragged nested sequences (which is a list-or-tuple of lists-or-tuples-or ndarrays with different lengths or shapes) is deprecated. If you meant to do this, you must specify 'dtype=object' when creating the ndarray\n",
      "<string>:6: VisibleDeprecationWarning: Creating an ndarray from ragged nested sequences (which is a list-or-tuple of lists-or-tuples-or ndarrays with different lengths or shapes) is deprecated. If you meant to do this, you must specify 'dtype=object' when creating the ndarray\n"
     ]
    },
    {
     "name": "stdout",
     "output_type": "stream",
     "text": [
      "Row 0, job = Job(cpu=2, njobs=1, network=-1)\n",
      "Row 1, job = Job(cpu=4, njobs=1, network=-1)\n",
      "Row 2, job = Job(cpu=1, njobs=5, network=-1)\n",
      "Row 3, job = Job(cpu=8, njobs=3, network=-1)\n",
      "Row 4, job = Job(cpu=4, njobs=2, network=-1)\n"
     ]
    },
    {
     "name": "stderr",
     "output_type": "stream",
     "text": [
      "<string>:6: VisibleDeprecationWarning: Creating an ndarray from ragged nested sequences (which is a list-or-tuple of lists-or-tuples-or ndarrays with different lengths or shapes) is deprecated. If you meant to do this, you must specify 'dtype=object' when creating the ndarray\n",
      "<string>:6: VisibleDeprecationWarning: Creating an ndarray from ragged nested sequences (which is a list-or-tuple of lists-or-tuples-or ndarrays with different lengths or shapes) is deprecated. If you meant to do this, you must specify 'dtype=object' when creating the ndarray\n",
      "<string>:6: VisibleDeprecationWarning: Creating an ndarray from ragged nested sequences (which is a list-or-tuple of lists-or-tuples-or ndarrays with different lengths or shapes) is deprecated. If you meant to do this, you must specify 'dtype=object' when creating the ndarray\n",
      "<string>:6: VisibleDeprecationWarning: Creating an ndarray from ragged nested sequences (which is a list-or-tuple of lists-or-tuples-or ndarrays with different lengths or shapes) is deprecated. If you meant to do this, you must specify 'dtype=object' when creating the ndarray\n",
      "<string>:6: VisibleDeprecationWarning: Creating an ndarray from ragged nested sequences (which is a list-or-tuple of lists-or-tuples-or ndarrays with different lengths or shapes) is deprecated. If you meant to do this, you must specify 'dtype=object' when creating the ndarray\n",
      "<string>:6: VisibleDeprecationWarning: Creating an ndarray from ragged nested sequences (which is a list-or-tuple of lists-or-tuples-or ndarrays with different lengths or shapes) is deprecated. If you meant to do this, you must specify 'dtype=object' when creating the ndarray\n",
      "<string>:6: VisibleDeprecationWarning: Creating an ndarray from ragged nested sequences (which is a list-or-tuple of lists-or-tuples-or ndarrays with different lengths or shapes) is deprecated. If you meant to do this, you must specify 'dtype=object' when creating the ndarray\n",
      "<string>:6: VisibleDeprecationWarning: Creating an ndarray from ragged nested sequences (which is a list-or-tuple of lists-or-tuples-or ndarrays with different lengths or shapes) is deprecated. If you meant to do this, you must specify 'dtype=object' when creating the ndarray\n",
      "<string>:6: VisibleDeprecationWarning: Creating an ndarray from ragged nested sequences (which is a list-or-tuple of lists-or-tuples-or ndarrays with different lengths or shapes) is deprecated. If you meant to do this, you must specify 'dtype=object' when creating the ndarray\n",
      "<string>:6: VisibleDeprecationWarning: Creating an ndarray from ragged nested sequences (which is a list-or-tuple of lists-or-tuples-or ndarrays with different lengths or shapes) is deprecated. If you meant to do this, you must specify 'dtype=object' when creating the ndarray\n",
      "<string>:6: VisibleDeprecationWarning: Creating an ndarray from ragged nested sequences (which is a list-or-tuple of lists-or-tuples-or ndarrays with different lengths or shapes) is deprecated. If you meant to do this, you must specify 'dtype=object' when creating the ndarray\n",
      "<string>:6: VisibleDeprecationWarning: Creating an ndarray from ragged nested sequences (which is a list-or-tuple of lists-or-tuples-or ndarrays with different lengths or shapes) is deprecated. If you meant to do this, you must specify 'dtype=object' when creating the ndarray\n",
      "<string>:6: VisibleDeprecationWarning: Creating an ndarray from ragged nested sequences (which is a list-or-tuple of lists-or-tuples-or ndarrays with different lengths or shapes) is deprecated. If you meant to do this, you must specify 'dtype=object' when creating the ndarray\n",
      "<string>:6: VisibleDeprecationWarning: Creating an ndarray from ragged nested sequences (which is a list-or-tuple of lists-or-tuples-or ndarrays with different lengths or shapes) is deprecated. If you meant to do this, you must specify 'dtype=object' when creating the ndarray\n",
      "<string>:6: VisibleDeprecationWarning: Creating an ndarray from ragged nested sequences (which is a list-or-tuple of lists-or-tuples-or ndarrays with different lengths or shapes) is deprecated. If you meant to do this, you must specify 'dtype=object' when creating the ndarray\n",
      "<string>:6: VisibleDeprecationWarning: Creating an ndarray from ragged nested sequences (which is a list-or-tuple of lists-or-tuples-or ndarrays with different lengths or shapes) is deprecated. If you meant to do this, you must specify 'dtype=object' when creating the ndarray\n",
      "<string>:6: VisibleDeprecationWarning: Creating an ndarray from ragged nested sequences (which is a list-or-tuple of lists-or-tuples-or ndarrays with different lengths or shapes) is deprecated. If you meant to do this, you must specify 'dtype=object' when creating the ndarray\n",
      "<string>:6: VisibleDeprecationWarning: Creating an ndarray from ragged nested sequences (which is a list-or-tuple of lists-or-tuples-or ndarrays with different lengths or shapes) is deprecated. If you meant to do this, you must specify 'dtype=object' when creating the ndarray\n",
      "<string>:6: VisibleDeprecationWarning: Creating an ndarray from ragged nested sequences (which is a list-or-tuple of lists-or-tuples-or ndarrays with different lengths or shapes) is deprecated. If you meant to do this, you must specify 'dtype=object' when creating the ndarray\n",
      "<string>:6: VisibleDeprecationWarning: Creating an ndarray from ragged nested sequences (which is a list-or-tuple of lists-or-tuples-or ndarrays with different lengths or shapes) is deprecated. If you meant to do this, you must specify 'dtype=object' when creating the ndarray\n"
     ]
    },
    {
     "data": {
      "text/html": [
       "<div>\n",
       "<style scoped>\n",
       "    .dataframe tbody tr th:only-of-type {\n",
       "        vertical-align: middle;\n",
       "    }\n",
       "\n",
       "    .dataframe tbody tr th {\n",
       "        vertical-align: top;\n",
       "    }\n",
       "\n",
       "    .dataframe thead th {\n",
       "        text-align: right;\n",
       "    }\n",
       "</style>\n",
       "<table border=\"1\" class=\"dataframe\">\n",
       "  <thead>\n",
       "    <tr style=\"text-align: right;\">\n",
       "      <th></th>\n",
       "      <th>exp_name</th>\n",
       "      <th>replication</th>\n",
       "      <th>cpu</th>\n",
       "      <th>batch</th>\n",
       "      <th>njobs</th>\n",
       "      <th>network</th>\n",
       "      <th>time</th>\n",
       "      <th>accuracies</th>\n",
       "      <th>final_accuracy</th>\n",
       "    </tr>\n",
       "  </thead>\n",
       "  <tbody>\n",
       "    <tr>\n",
       "      <th>0</th>\n",
       "      <td>0-cpu2-batch128-njobs1-netlenet5</td>\n",
       "      <td>1</td>\n",
       "      <td>2</td>\n",
       "      <td>128</td>\n",
       "      <td>1</td>\n",
       "      <td>-1</td>\n",
       "      <td>289.996720</td>\n",
       "      <td>[0.8112, 0.8747, 0.9005, 0.913, 0.9229, 0.9283...</td>\n",
       "      <td>0.9432</td>\n",
       "    </tr>\n",
       "    <tr>\n",
       "      <th>1</th>\n",
       "      <td>1-cpu4-batch128-njobs1-netsimplenet</td>\n",
       "      <td>1</td>\n",
       "      <td>4</td>\n",
       "      <td>128</td>\n",
       "      <td>1</td>\n",
       "      <td>-1</td>\n",
       "      <td>240.389723</td>\n",
       "      <td>[0.89, 0.9062, 0.9151, 0.9205, 0.925, 0.9284, ...</td>\n",
       "      <td>0.9373</td>\n",
       "    </tr>\n",
       "    <tr>\n",
       "      <th>2</th>\n",
       "      <td>2-cpu1-batch128-njobs5-netsimplenet</td>\n",
       "      <td>1</td>\n",
       "      <td>1</td>\n",
       "      <td>128</td>\n",
       "      <td>5</td>\n",
       "      <td>-1</td>\n",
       "      <td>250.781757</td>\n",
       "      <td>[0.8922, 0.9092, 0.9183, 0.9212, 0.9252, 0.928...</td>\n",
       "      <td>0.9381</td>\n",
       "    </tr>\n",
       "    <tr>\n",
       "      <th>3</th>\n",
       "      <td>3-cpu8-batch512-njobs3-netlenet5</td>\n",
       "      <td>1</td>\n",
       "      <td>8</td>\n",
       "      <td>512</td>\n",
       "      <td>3</td>\n",
       "      <td>-1</td>\n",
       "      <td>117.617714</td>\n",
       "      <td>[0.5545, 0.7195, 0.7654, 0.8057, 0.8319, 0.848...</td>\n",
       "      <td>0.8883</td>\n",
       "    </tr>\n",
       "    <tr>\n",
       "      <th>4</th>\n",
       "      <td>4-cpu4-batch128-njobs2-netlenet5</td>\n",
       "      <td>1</td>\n",
       "      <td>4</td>\n",
       "      <td>128</td>\n",
       "      <td>2</td>\n",
       "      <td>-1</td>\n",
       "      <td>282.385703</td>\n",
       "      <td>[0.8151, 0.8772, 0.9028, 0.915, 0.9225, 0.9278...</td>\n",
       "      <td>0.9431</td>\n",
       "    </tr>\n",
       "    <tr>\n",
       "      <th>5</th>\n",
       "      <td>0-cpu2-batch128-njobs1-netlenet5</td>\n",
       "      <td>2</td>\n",
       "      <td>2</td>\n",
       "      <td>128</td>\n",
       "      <td>1</td>\n",
       "      <td>-1</td>\n",
       "      <td>318.513774</td>\n",
       "      <td>[0.8143, 0.8775, 0.9023, 0.9152, 0.9246, 0.930...</td>\n",
       "      <td>0.9453</td>\n",
       "    </tr>\n",
       "    <tr>\n",
       "      <th>6</th>\n",
       "      <td>1-cpu4-batch128-njobs1-netsimplenet</td>\n",
       "      <td>2</td>\n",
       "      <td>4</td>\n",
       "      <td>128</td>\n",
       "      <td>1</td>\n",
       "      <td>-1</td>\n",
       "      <td>266.833128</td>\n",
       "      <td>[0.8899, 0.9074, 0.9163, 0.9223, 0.9268, 0.930...</td>\n",
       "      <td>0.9387</td>\n",
       "    </tr>\n",
       "    <tr>\n",
       "      <th>7</th>\n",
       "      <td>2-cpu1-batch128-njobs5-netsimplenet</td>\n",
       "      <td>2</td>\n",
       "      <td>1</td>\n",
       "      <td>128</td>\n",
       "      <td>5</td>\n",
       "      <td>-1</td>\n",
       "      <td>265.072316</td>\n",
       "      <td>[0.8915, 0.9092, 0.9172, 0.9216, 0.9276, 0.929...</td>\n",
       "      <td>0.9398</td>\n",
       "    </tr>\n",
       "    <tr>\n",
       "      <th>8</th>\n",
       "      <td>3-cpu8-batch512-njobs3-netlenet5</td>\n",
       "      <td>2</td>\n",
       "      <td>8</td>\n",
       "      <td>512</td>\n",
       "      <td>3</td>\n",
       "      <td>-1</td>\n",
       "      <td>125.159489</td>\n",
       "      <td>[0.4392, 0.6498, 0.7279, 0.7986, 0.8332, 0.852...</td>\n",
       "      <td>0.8897</td>\n",
       "    </tr>\n",
       "    <tr>\n",
       "      <th>9</th>\n",
       "      <td>4-cpu4-batch128-njobs2-netlenet5</td>\n",
       "      <td>2</td>\n",
       "      <td>4</td>\n",
       "      <td>128</td>\n",
       "      <td>2</td>\n",
       "      <td>-1</td>\n",
       "      <td>296.724133</td>\n",
       "      <td>[0.8051, 0.8746, 0.9011, 0.9153, 0.9315, 0.937...</td>\n",
       "      <td>0.9501</td>\n",
       "    </tr>\n",
       "    <tr>\n",
       "      <th>10</th>\n",
       "      <td>0-cpu2-batch128-njobs1-netlenet5</td>\n",
       "      <td>3</td>\n",
       "      <td>2</td>\n",
       "      <td>128</td>\n",
       "      <td>1</td>\n",
       "      <td>-1</td>\n",
       "      <td>324.817010</td>\n",
       "      <td>[0.7942, 0.8702, 0.8974, 0.9137, 0.9232, 0.928...</td>\n",
       "      <td>0.9426</td>\n",
       "    </tr>\n",
       "    <tr>\n",
       "      <th>11</th>\n",
       "      <td>1-cpu4-batch128-njobs1-netsimplenet</td>\n",
       "      <td>3</td>\n",
       "      <td>4</td>\n",
       "      <td>128</td>\n",
       "      <td>1</td>\n",
       "      <td>-1</td>\n",
       "      <td>279.535505</td>\n",
       "      <td>[0.8913, 0.9087, 0.9172, 0.9232, 0.927, 0.9302...</td>\n",
       "      <td>0.9385</td>\n",
       "    </tr>\n",
       "    <tr>\n",
       "      <th>12</th>\n",
       "      <td>2-cpu1-batch128-njobs5-netsimplenet</td>\n",
       "      <td>3</td>\n",
       "      <td>1</td>\n",
       "      <td>128</td>\n",
       "      <td>5</td>\n",
       "      <td>-1</td>\n",
       "      <td>283.245327</td>\n",
       "      <td>[0.8934, 0.9098, 0.9176, 0.923, 0.9262, 0.929,...</td>\n",
       "      <td>0.9381</td>\n",
       "    </tr>\n",
       "    <tr>\n",
       "      <th>13</th>\n",
       "      <td>3-cpu8-batch512-njobs3-netlenet5</td>\n",
       "      <td>3</td>\n",
       "      <td>8</td>\n",
       "      <td>512</td>\n",
       "      <td>3</td>\n",
       "      <td>-1</td>\n",
       "      <td>283.809125</td>\n",
       "      <td>[0.5525, 0.705, 0.7342, 0.8191, 0.8461, 0.8744...</td>\n",
       "      <td>0.8907</td>\n",
       "    </tr>\n",
       "    <tr>\n",
       "      <th>14</th>\n",
       "      <td>4-cpu4-batch128-njobs2-netlenet5</td>\n",
       "      <td>3</td>\n",
       "      <td>4</td>\n",
       "      <td>128</td>\n",
       "      <td>2</td>\n",
       "      <td>-1</td>\n",
       "      <td>302.014562</td>\n",
       "      <td>[0.7994, 0.8789, 0.9009, 0.9131, 0.9212, 0.927...</td>\n",
       "      <td>0.9493</td>\n",
       "    </tr>\n",
       "  </tbody>\n",
       "</table>\n",
       "</div>"
      ],
      "text/plain": [
       "                               exp_name  replication  cpu  batch  njobs  \\\n",
       "0      0-cpu2-batch128-njobs1-netlenet5            1    2    128      1   \n",
       "1   1-cpu4-batch128-njobs1-netsimplenet            1    4    128      1   \n",
       "2   2-cpu1-batch128-njobs5-netsimplenet            1    1    128      5   \n",
       "3      3-cpu8-batch512-njobs3-netlenet5            1    8    512      3   \n",
       "4      4-cpu4-batch128-njobs2-netlenet5            1    4    128      2   \n",
       "5      0-cpu2-batch128-njobs1-netlenet5            2    2    128      1   \n",
       "6   1-cpu4-batch128-njobs1-netsimplenet            2    4    128      1   \n",
       "7   2-cpu1-batch128-njobs5-netsimplenet            2    1    128      5   \n",
       "8      3-cpu8-batch512-njobs3-netlenet5            2    8    512      3   \n",
       "9      4-cpu4-batch128-njobs2-netlenet5            2    4    128      2   \n",
       "10     0-cpu2-batch128-njobs1-netlenet5            3    2    128      1   \n",
       "11  1-cpu4-batch128-njobs1-netsimplenet            3    4    128      1   \n",
       "12  2-cpu1-batch128-njobs5-netsimplenet            3    1    128      5   \n",
       "13     3-cpu8-batch512-njobs3-netlenet5            3    8    512      3   \n",
       "14     4-cpu4-batch128-njobs2-netlenet5            3    4    128      2   \n",
       "\n",
       "    network        time                                         accuracies  \\\n",
       "0        -1  289.996720  [0.8112, 0.8747, 0.9005, 0.913, 0.9229, 0.9283...   \n",
       "1        -1  240.389723  [0.89, 0.9062, 0.9151, 0.9205, 0.925, 0.9284, ...   \n",
       "2        -1  250.781757  [0.8922, 0.9092, 0.9183, 0.9212, 0.9252, 0.928...   \n",
       "3        -1  117.617714  [0.5545, 0.7195, 0.7654, 0.8057, 0.8319, 0.848...   \n",
       "4        -1  282.385703  [0.8151, 0.8772, 0.9028, 0.915, 0.9225, 0.9278...   \n",
       "5        -1  318.513774  [0.8143, 0.8775, 0.9023, 0.9152, 0.9246, 0.930...   \n",
       "6        -1  266.833128  [0.8899, 0.9074, 0.9163, 0.9223, 0.9268, 0.930...   \n",
       "7        -1  265.072316  [0.8915, 0.9092, 0.9172, 0.9216, 0.9276, 0.929...   \n",
       "8        -1  125.159489  [0.4392, 0.6498, 0.7279, 0.7986, 0.8332, 0.852...   \n",
       "9        -1  296.724133  [0.8051, 0.8746, 0.9011, 0.9153, 0.9315, 0.937...   \n",
       "10       -1  324.817010  [0.7942, 0.8702, 0.8974, 0.9137, 0.9232, 0.928...   \n",
       "11       -1  279.535505  [0.8913, 0.9087, 0.9172, 0.9232, 0.927, 0.9302...   \n",
       "12       -1  283.245327  [0.8934, 0.9098, 0.9176, 0.923, 0.9262, 0.929,...   \n",
       "13       -1  283.809125  [0.5525, 0.705, 0.7342, 0.8191, 0.8461, 0.8744...   \n",
       "14       -1  302.014562  [0.7994, 0.8789, 0.9009, 0.9131, 0.9212, 0.927...   \n",
       "\n",
       "    final_accuracy  \n",
       "0           0.9432  \n",
       "1           0.9373  \n",
       "2           0.9381  \n",
       "3           0.8883  \n",
       "4           0.9431  \n",
       "5           0.9453  \n",
       "6           0.9387  \n",
       "7           0.9398  \n",
       "8           0.8897  \n",
       "9           0.9501  \n",
       "10          0.9426  \n",
       "11          0.9385  \n",
       "12          0.9381  \n",
       "13          0.8907  \n",
       "14          0.9493  "
      ]
     },
     "execution_count": 83,
     "metadata": {},
     "output_type": "execute_result"
    }
   ],
   "source": [
    "results_courier = read_logs('courier')\n",
    "# results_other = read_logs('other')\n",
    "preds = get_courier_predictions(results_courier, courier)\n",
    "preds_boost = get_courier_predictions(results_courier, courier_boost, test=True)\n",
    "\n",
    "# fix error in reading experiment 4 in replication 3\n",
    "# results_courier.at[7, 'time'] =  99.247516804\n",
    "\n",
    "results_courier.at[13, 'time'] = 283.80912464\n",
    "\n",
    "# # fix errors reading other files\n",
    "# results_other.at[2, 'time'] = 425.409302788\n",
    "# results_other.at[6, 'time'] = 315.031166931\n",
    "# results_other.at[10, 'time'] = 526.367967449\n",
    "# results_other.at[11, 'time'] = 503.676117105\n",
    "# results_other.at[12, 'time'] = 454.128488997\n",
    "# results_other.at[22, 'time'] = 443.461306044\n",
    "# results_other.at[27, 'time'] = 89.615384517\n",
    "\n",
    "\n",
    "results_courier\n",
    "\n",
    "# results_courier.to_pickle('./experiments/courier/res.pkl')"
   ]
  },
  {
   "cell_type": "code",
   "execution_count": 84,
   "metadata": {},
   "outputs": [],
   "source": [
    "# Merge the dataframes by name\n",
    "df_c = results_courier.merge(preds, on='exp_name')\n",
    "df_other=results_courier.merge(preds_boost, on='exp_name');"
   ]
  },
  {
   "cell_type": "code",
   "execution_count": 85,
   "metadata": {
    "scrolled": false
   },
   "outputs": [
    {
     "data": {
      "text/html": [
       "<div>\n",
       "<style scoped>\n",
       "    .dataframe tbody tr th:only-of-type {\n",
       "        vertical-align: middle;\n",
       "    }\n",
       "\n",
       "    .dataframe tbody tr th {\n",
       "        vertical-align: top;\n",
       "    }\n",
       "\n",
       "    .dataframe thead th {\n",
       "        text-align: right;\n",
       "    }\n",
       "</style>\n",
       "<table border=\"1\" class=\"dataframe\">\n",
       "  <thead>\n",
       "    <tr style=\"text-align: right;\">\n",
       "      <th></th>\n",
       "      <th>exp_name</th>\n",
       "      <th>replication</th>\n",
       "      <th>cpu_x</th>\n",
       "      <th>batch</th>\n",
       "      <th>njobs_x</th>\n",
       "      <th>network</th>\n",
       "      <th>time</th>\n",
       "      <th>accuracies</th>\n",
       "      <th>final_accuracy</th>\n",
       "      <th>best_batch</th>\n",
       "      <th>predicted_time</th>\n",
       "      <th>predicted_accuracy</th>\n",
       "      <th>cpu_y</th>\n",
       "      <th>njobs_y</th>\n",
       "      <th>latency</th>\n",
       "    </tr>\n",
       "  </thead>\n",
       "  <tbody>\n",
       "    <tr>\n",
       "      <th>0</th>\n",
       "      <td>0-cpu2-batch128-njobs1-netlenet5</td>\n",
       "      <td>1</td>\n",
       "      <td>2</td>\n",
       "      <td>128</td>\n",
       "      <td>1</td>\n",
       "      <td>-1</td>\n",
       "      <td>289.996720</td>\n",
       "      <td>[0.8112, 0.8747, 0.9005, 0.913, 0.9229, 0.9283...</td>\n",
       "      <td>0.9432</td>\n",
       "      <td>128</td>\n",
       "      <td>263.513789</td>\n",
       "      <td>0.938543</td>\n",
       "      <td>2</td>\n",
       "      <td>1</td>\n",
       "      <td>412</td>\n",
       "    </tr>\n",
       "    <tr>\n",
       "      <th>1</th>\n",
       "      <td>0-cpu2-batch128-njobs1-netlenet5</td>\n",
       "      <td>2</td>\n",
       "      <td>2</td>\n",
       "      <td>128</td>\n",
       "      <td>1</td>\n",
       "      <td>-1</td>\n",
       "      <td>318.513774</td>\n",
       "      <td>[0.8143, 0.8775, 0.9023, 0.9152, 0.9246, 0.930...</td>\n",
       "      <td>0.9453</td>\n",
       "      <td>128</td>\n",
       "      <td>263.513789</td>\n",
       "      <td>0.938543</td>\n",
       "      <td>2</td>\n",
       "      <td>1</td>\n",
       "      <td>412</td>\n",
       "    </tr>\n",
       "    <tr>\n",
       "      <th>2</th>\n",
       "      <td>0-cpu2-batch128-njobs1-netlenet5</td>\n",
       "      <td>3</td>\n",
       "      <td>2</td>\n",
       "      <td>128</td>\n",
       "      <td>1</td>\n",
       "      <td>-1</td>\n",
       "      <td>324.817010</td>\n",
       "      <td>[0.7942, 0.8702, 0.8974, 0.9137, 0.9232, 0.928...</td>\n",
       "      <td>0.9426</td>\n",
       "      <td>128</td>\n",
       "      <td>263.513789</td>\n",
       "      <td>0.938543</td>\n",
       "      <td>2</td>\n",
       "      <td>1</td>\n",
       "      <td>412</td>\n",
       "    </tr>\n",
       "    <tr>\n",
       "      <th>3</th>\n",
       "      <td>1-cpu4-batch128-njobs1-netsimplenet</td>\n",
       "      <td>1</td>\n",
       "      <td>4</td>\n",
       "      <td>128</td>\n",
       "      <td>1</td>\n",
       "      <td>-1</td>\n",
       "      <td>240.389723</td>\n",
       "      <td>[0.89, 0.9062, 0.9151, 0.9205, 0.925, 0.9284, ...</td>\n",
       "      <td>0.9373</td>\n",
       "      <td>128</td>\n",
       "      <td>263.088877</td>\n",
       "      <td>0.939159</td>\n",
       "      <td>4</td>\n",
       "      <td>1</td>\n",
       "      <td>264</td>\n",
       "    </tr>\n",
       "    <tr>\n",
       "      <th>4</th>\n",
       "      <td>1-cpu4-batch128-njobs1-netsimplenet</td>\n",
       "      <td>2</td>\n",
       "      <td>4</td>\n",
       "      <td>128</td>\n",
       "      <td>1</td>\n",
       "      <td>-1</td>\n",
       "      <td>266.833128</td>\n",
       "      <td>[0.8899, 0.9074, 0.9163, 0.9223, 0.9268, 0.930...</td>\n",
       "      <td>0.9387</td>\n",
       "      <td>128</td>\n",
       "      <td>263.088877</td>\n",
       "      <td>0.939159</td>\n",
       "      <td>4</td>\n",
       "      <td>1</td>\n",
       "      <td>264</td>\n",
       "    </tr>\n",
       "    <tr>\n",
       "      <th>5</th>\n",
       "      <td>1-cpu4-batch128-njobs1-netsimplenet</td>\n",
       "      <td>3</td>\n",
       "      <td>4</td>\n",
       "      <td>128</td>\n",
       "      <td>1</td>\n",
       "      <td>-1</td>\n",
       "      <td>279.535505</td>\n",
       "      <td>[0.8913, 0.9087, 0.9172, 0.9232, 0.927, 0.9302...</td>\n",
       "      <td>0.9385</td>\n",
       "      <td>128</td>\n",
       "      <td>263.088877</td>\n",
       "      <td>0.939159</td>\n",
       "      <td>4</td>\n",
       "      <td>1</td>\n",
       "      <td>264</td>\n",
       "    </tr>\n",
       "    <tr>\n",
       "      <th>6</th>\n",
       "      <td>2-cpu1-batch128-njobs5-netsimplenet</td>\n",
       "      <td>1</td>\n",
       "      <td>1</td>\n",
       "      <td>128</td>\n",
       "      <td>5</td>\n",
       "      <td>-1</td>\n",
       "      <td>250.781757</td>\n",
       "      <td>[0.8922, 0.9092, 0.9183, 0.9212, 0.9252, 0.928...</td>\n",
       "      <td>0.9381</td>\n",
       "      <td>128</td>\n",
       "      <td>263.286811</td>\n",
       "      <td>0.938086</td>\n",
       "      <td>1</td>\n",
       "      <td>5</td>\n",
       "      <td>422</td>\n",
       "    </tr>\n",
       "    <tr>\n",
       "      <th>7</th>\n",
       "      <td>2-cpu1-batch128-njobs5-netsimplenet</td>\n",
       "      <td>2</td>\n",
       "      <td>1</td>\n",
       "      <td>128</td>\n",
       "      <td>5</td>\n",
       "      <td>-1</td>\n",
       "      <td>265.072316</td>\n",
       "      <td>[0.8915, 0.9092, 0.9172, 0.9216, 0.9276, 0.929...</td>\n",
       "      <td>0.9398</td>\n",
       "      <td>128</td>\n",
       "      <td>263.286811</td>\n",
       "      <td>0.938086</td>\n",
       "      <td>1</td>\n",
       "      <td>5</td>\n",
       "      <td>422</td>\n",
       "    </tr>\n",
       "    <tr>\n",
       "      <th>8</th>\n",
       "      <td>2-cpu1-batch128-njobs5-netsimplenet</td>\n",
       "      <td>3</td>\n",
       "      <td>1</td>\n",
       "      <td>128</td>\n",
       "      <td>5</td>\n",
       "      <td>-1</td>\n",
       "      <td>283.245327</td>\n",
       "      <td>[0.8934, 0.9098, 0.9176, 0.923, 0.9262, 0.929,...</td>\n",
       "      <td>0.9381</td>\n",
       "      <td>128</td>\n",
       "      <td>263.286811</td>\n",
       "      <td>0.938086</td>\n",
       "      <td>1</td>\n",
       "      <td>5</td>\n",
       "      <td>422</td>\n",
       "    </tr>\n",
       "    <tr>\n",
       "      <th>9</th>\n",
       "      <td>3-cpu8-batch512-njobs3-netlenet5</td>\n",
       "      <td>1</td>\n",
       "      <td>8</td>\n",
       "      <td>512</td>\n",
       "      <td>3</td>\n",
       "      <td>-1</td>\n",
       "      <td>117.617714</td>\n",
       "      <td>[0.5545, 0.7195, 0.7654, 0.8057, 0.8319, 0.848...</td>\n",
       "      <td>0.8883</td>\n",
       "      <td>512</td>\n",
       "      <td>116.243351</td>\n",
       "      <td>0.913678</td>\n",
       "      <td>8</td>\n",
       "      <td>3</td>\n",
       "      <td>166</td>\n",
       "    </tr>\n",
       "    <tr>\n",
       "      <th>10</th>\n",
       "      <td>3-cpu8-batch512-njobs3-netlenet5</td>\n",
       "      <td>2</td>\n",
       "      <td>8</td>\n",
       "      <td>512</td>\n",
       "      <td>3</td>\n",
       "      <td>-1</td>\n",
       "      <td>125.159489</td>\n",
       "      <td>[0.4392, 0.6498, 0.7279, 0.7986, 0.8332, 0.852...</td>\n",
       "      <td>0.8897</td>\n",
       "      <td>512</td>\n",
       "      <td>116.243351</td>\n",
       "      <td>0.913678</td>\n",
       "      <td>8</td>\n",
       "      <td>3</td>\n",
       "      <td>166</td>\n",
       "    </tr>\n",
       "    <tr>\n",
       "      <th>11</th>\n",
       "      <td>3-cpu8-batch512-njobs3-netlenet5</td>\n",
       "      <td>3</td>\n",
       "      <td>8</td>\n",
       "      <td>512</td>\n",
       "      <td>3</td>\n",
       "      <td>-1</td>\n",
       "      <td>283.809125</td>\n",
       "      <td>[0.5525, 0.705, 0.7342, 0.8191, 0.8461, 0.8744...</td>\n",
       "      <td>0.8907</td>\n",
       "      <td>512</td>\n",
       "      <td>116.243351</td>\n",
       "      <td>0.913678</td>\n",
       "      <td>8</td>\n",
       "      <td>3</td>\n",
       "      <td>166</td>\n",
       "    </tr>\n",
       "    <tr>\n",
       "      <th>12</th>\n",
       "      <td>4-cpu4-batch128-njobs2-netlenet5</td>\n",
       "      <td>1</td>\n",
       "      <td>4</td>\n",
       "      <td>128</td>\n",
       "      <td>2</td>\n",
       "      <td>-1</td>\n",
       "      <td>282.385703</td>\n",
       "      <td>[0.8151, 0.8772, 0.9028, 0.915, 0.9225, 0.9278...</td>\n",
       "      <td>0.9431</td>\n",
       "      <td>128</td>\n",
       "      <td>263.088877</td>\n",
       "      <td>0.939159</td>\n",
       "      <td>4</td>\n",
       "      <td>2</td>\n",
       "      <td>342</td>\n",
       "    </tr>\n",
       "    <tr>\n",
       "      <th>13</th>\n",
       "      <td>4-cpu4-batch128-njobs2-netlenet5</td>\n",
       "      <td>2</td>\n",
       "      <td>4</td>\n",
       "      <td>128</td>\n",
       "      <td>2</td>\n",
       "      <td>-1</td>\n",
       "      <td>296.724133</td>\n",
       "      <td>[0.8051, 0.8746, 0.9011, 0.9153, 0.9315, 0.937...</td>\n",
       "      <td>0.9501</td>\n",
       "      <td>128</td>\n",
       "      <td>263.088877</td>\n",
       "      <td>0.939159</td>\n",
       "      <td>4</td>\n",
       "      <td>2</td>\n",
       "      <td>342</td>\n",
       "    </tr>\n",
       "    <tr>\n",
       "      <th>14</th>\n",
       "      <td>4-cpu4-batch128-njobs2-netlenet5</td>\n",
       "      <td>3</td>\n",
       "      <td>4</td>\n",
       "      <td>128</td>\n",
       "      <td>2</td>\n",
       "      <td>-1</td>\n",
       "      <td>302.014562</td>\n",
       "      <td>[0.7994, 0.8789, 0.9009, 0.9131, 0.9212, 0.927...</td>\n",
       "      <td>0.9493</td>\n",
       "      <td>128</td>\n",
       "      <td>263.088877</td>\n",
       "      <td>0.939159</td>\n",
       "      <td>4</td>\n",
       "      <td>2</td>\n",
       "      <td>342</td>\n",
       "    </tr>\n",
       "  </tbody>\n",
       "</table>\n",
       "</div>"
      ],
      "text/plain": [
       "                               exp_name  replication  cpu_x  batch  njobs_x  \\\n",
       "0      0-cpu2-batch128-njobs1-netlenet5            1      2    128        1   \n",
       "1      0-cpu2-batch128-njobs1-netlenet5            2      2    128        1   \n",
       "2      0-cpu2-batch128-njobs1-netlenet5            3      2    128        1   \n",
       "3   1-cpu4-batch128-njobs1-netsimplenet            1      4    128        1   \n",
       "4   1-cpu4-batch128-njobs1-netsimplenet            2      4    128        1   \n",
       "5   1-cpu4-batch128-njobs1-netsimplenet            3      4    128        1   \n",
       "6   2-cpu1-batch128-njobs5-netsimplenet            1      1    128        5   \n",
       "7   2-cpu1-batch128-njobs5-netsimplenet            2      1    128        5   \n",
       "8   2-cpu1-batch128-njobs5-netsimplenet            3      1    128        5   \n",
       "9      3-cpu8-batch512-njobs3-netlenet5            1      8    512        3   \n",
       "10     3-cpu8-batch512-njobs3-netlenet5            2      8    512        3   \n",
       "11     3-cpu8-batch512-njobs3-netlenet5            3      8    512        3   \n",
       "12     4-cpu4-batch128-njobs2-netlenet5            1      4    128        2   \n",
       "13     4-cpu4-batch128-njobs2-netlenet5            2      4    128        2   \n",
       "14     4-cpu4-batch128-njobs2-netlenet5            3      4    128        2   \n",
       "\n",
       "    network        time                                         accuracies  \\\n",
       "0        -1  289.996720  [0.8112, 0.8747, 0.9005, 0.913, 0.9229, 0.9283...   \n",
       "1        -1  318.513774  [0.8143, 0.8775, 0.9023, 0.9152, 0.9246, 0.930...   \n",
       "2        -1  324.817010  [0.7942, 0.8702, 0.8974, 0.9137, 0.9232, 0.928...   \n",
       "3        -1  240.389723  [0.89, 0.9062, 0.9151, 0.9205, 0.925, 0.9284, ...   \n",
       "4        -1  266.833128  [0.8899, 0.9074, 0.9163, 0.9223, 0.9268, 0.930...   \n",
       "5        -1  279.535505  [0.8913, 0.9087, 0.9172, 0.9232, 0.927, 0.9302...   \n",
       "6        -1  250.781757  [0.8922, 0.9092, 0.9183, 0.9212, 0.9252, 0.928...   \n",
       "7        -1  265.072316  [0.8915, 0.9092, 0.9172, 0.9216, 0.9276, 0.929...   \n",
       "8        -1  283.245327  [0.8934, 0.9098, 0.9176, 0.923, 0.9262, 0.929,...   \n",
       "9        -1  117.617714  [0.5545, 0.7195, 0.7654, 0.8057, 0.8319, 0.848...   \n",
       "10       -1  125.159489  [0.4392, 0.6498, 0.7279, 0.7986, 0.8332, 0.852...   \n",
       "11       -1  283.809125  [0.5525, 0.705, 0.7342, 0.8191, 0.8461, 0.8744...   \n",
       "12       -1  282.385703  [0.8151, 0.8772, 0.9028, 0.915, 0.9225, 0.9278...   \n",
       "13       -1  296.724133  [0.8051, 0.8746, 0.9011, 0.9153, 0.9315, 0.937...   \n",
       "14       -1  302.014562  [0.7994, 0.8789, 0.9009, 0.9131, 0.9212, 0.927...   \n",
       "\n",
       "    final_accuracy  best_batch  predicted_time  predicted_accuracy  cpu_y  \\\n",
       "0           0.9432         128      263.513789            0.938543      2   \n",
       "1           0.9453         128      263.513789            0.938543      2   \n",
       "2           0.9426         128      263.513789            0.938543      2   \n",
       "3           0.9373         128      263.088877            0.939159      4   \n",
       "4           0.9387         128      263.088877            0.939159      4   \n",
       "5           0.9385         128      263.088877            0.939159      4   \n",
       "6           0.9381         128      263.286811            0.938086      1   \n",
       "7           0.9398         128      263.286811            0.938086      1   \n",
       "8           0.9381         128      263.286811            0.938086      1   \n",
       "9           0.8883         512      116.243351            0.913678      8   \n",
       "10          0.8897         512      116.243351            0.913678      8   \n",
       "11          0.8907         512      116.243351            0.913678      8   \n",
       "12          0.9431         128      263.088877            0.939159      4   \n",
       "13          0.9501         128      263.088877            0.939159      4   \n",
       "14          0.9493         128      263.088877            0.939159      4   \n",
       "\n",
       "    njobs_y  latency  \n",
       "0         1      412  \n",
       "1         1      412  \n",
       "2         1      412  \n",
       "3         1      264  \n",
       "4         1      264  \n",
       "5         1      264  \n",
       "6         5      422  \n",
       "7         5      422  \n",
       "8         5      422  \n",
       "9         3      166  \n",
       "10        3      166  \n",
       "11        3      166  \n",
       "12        2      342  \n",
       "13        2      342  \n",
       "14        2      342  "
      ]
     },
     "execution_count": 85,
     "metadata": {},
     "output_type": "execute_result"
    }
   ],
   "source": [
    "df_other"
   ]
  },
  {
   "cell_type": "markdown",
   "metadata": {
    "pycharm": {
     "name": "#%% md\n"
    }
   },
   "source": [
    "### Create extra columns for the MSE and the SLO difference\n",
    "\n",
    "The SLO difference is given by Response Time - Latency, it should be negative to indicate that the\n",
    "model adhered to the SLO"
   ]
  },
  {
   "cell_type": "code",
   "execution_count": 86,
   "metadata": {
    "pycharm": {
     "name": "#%%\n"
    }
   },
   "outputs": [],
   "source": [
    "# Get the error in time prediction and get the error in accuracy\n",
    "df_c['error_time'] = (df_c['time'] - df_c['predicted_time'])**2\n",
    "df_c['error_acc'] = (df_c['final_accuracy'] - df_c['predicted_accuracy'])**2\n",
    "\n",
    "df_other['error_time'] = (df_other['time'] - df_other['predicted_time'])**2\n",
    "df_other['error_acc'] = (df_other['final_accuracy'] - df_other['predicted_accuracy'])**2\n",
    "\n",
    "\n",
    "df_c['slo'] = df_c['time'] - df_c['latency']\n",
    "df_other['slo'] = df_other['time'] - df_other['latency']\n",
    "\n",
    "df_c['error_perc'] = (np.abs(df_c['time']-df_c['predicted_time'])/df_c['time'])\n",
    "df_other['error_perc'] = (np.abs(df_other['time']-df_other['predicted_time'])/df_other['time'])\n",
    "\n",
    "\n",
    "df_c_means = df_c.groupby(['exp_name']).mean().reset_index()\n",
    "df_other_means = df_other.groupby(['exp_name']).mean().reset_index()"
   ]
  },
  {
   "cell_type": "code",
   "execution_count": 91,
   "metadata": {
    "scrolled": false
   },
   "outputs": [
    {
     "data": {
      "text/html": [
       "<div>\n",
       "<style scoped>\n",
       "    .dataframe tbody tr th:only-of-type {\n",
       "        vertical-align: middle;\n",
       "    }\n",
       "\n",
       "    .dataframe tbody tr th {\n",
       "        vertical-align: top;\n",
       "    }\n",
       "\n",
       "    .dataframe thead th {\n",
       "        text-align: right;\n",
       "    }\n",
       "</style>\n",
       "<table border=\"1\" class=\"dataframe\">\n",
       "  <thead>\n",
       "    <tr style=\"text-align: right;\">\n",
       "      <th></th>\n",
       "      <th>exp_name</th>\n",
       "      <th>replication</th>\n",
       "      <th>cpu_x</th>\n",
       "      <th>batch</th>\n",
       "      <th>njobs_x</th>\n",
       "      <th>network</th>\n",
       "      <th>time</th>\n",
       "      <th>final_accuracy</th>\n",
       "      <th>best_batch</th>\n",
       "      <th>predicted_time</th>\n",
       "      <th>predicted_accuracy</th>\n",
       "      <th>cpu_y</th>\n",
       "      <th>njobs_y</th>\n",
       "      <th>latency</th>\n",
       "      <th>error_time</th>\n",
       "      <th>error_acc</th>\n",
       "      <th>slo</th>\n",
       "      <th>error_perc</th>\n",
       "    </tr>\n",
       "  </thead>\n",
       "  <tbody>\n",
       "    <tr>\n",
       "      <th>0</th>\n",
       "      <td>0-cpu2-batch128-njobs1-netlenet5</td>\n",
       "      <td>2</td>\n",
       "      <td>2</td>\n",
       "      <td>128</td>\n",
       "      <td>1</td>\n",
       "      <td>-1</td>\n",
       "      <td>311.109168</td>\n",
       "      <td>0.943700</td>\n",
       "      <td>128</td>\n",
       "      <td>241.785343</td>\n",
       "      <td>0.938160</td>\n",
       "      <td>2</td>\n",
       "      <td>1</td>\n",
       "      <td>412</td>\n",
       "      <td>5035.282155</td>\n",
       "      <td>3.202791e-05</td>\n",
       "      <td>-100.890832</td>\n",
       "      <td>0.220923</td>\n",
       "    </tr>\n",
       "    <tr>\n",
       "      <th>1</th>\n",
       "      <td>1-cpu4-batch128-njobs1-netsimplenet</td>\n",
       "      <td>2</td>\n",
       "      <td>4</td>\n",
       "      <td>128</td>\n",
       "      <td>1</td>\n",
       "      <td>-1</td>\n",
       "      <td>262.252785</td>\n",
       "      <td>0.938167</td>\n",
       "      <td>128</td>\n",
       "      <td>240.565043</td>\n",
       "      <td>0.938870</td>\n",
       "      <td>4</td>\n",
       "      <td>1</td>\n",
       "      <td>264</td>\n",
       "      <td>736.246620</td>\n",
       "      <td>8.764312e-07</td>\n",
       "      <td>-1.747215</td>\n",
       "      <td>0.079528</td>\n",
       "    </tr>\n",
       "    <tr>\n",
       "      <th>2</th>\n",
       "      <td>2-cpu1-batch128-njobs5-netsimplenet</td>\n",
       "      <td>2</td>\n",
       "      <td>1</td>\n",
       "      <td>128</td>\n",
       "      <td>5</td>\n",
       "      <td>-1</td>\n",
       "      <td>266.366467</td>\n",
       "      <td>0.938667</td>\n",
       "      <td>128</td>\n",
       "      <td>280.197714</td>\n",
       "      <td>0.938591</td>\n",
       "      <td>1</td>\n",
       "      <td>5</td>\n",
       "      <td>422</td>\n",
       "      <td>367.788057</td>\n",
       "      <td>6.479477e-07</td>\n",
       "      <td>-155.633533</td>\n",
       "      <td>0.061706</td>\n",
       "    </tr>\n",
       "    <tr>\n",
       "      <th>3</th>\n",
       "      <td>3-cpu8-batch512-njobs3-netlenet5</td>\n",
       "      <td>2</td>\n",
       "      <td>8</td>\n",
       "      <td>512</td>\n",
       "      <td>3</td>\n",
       "      <td>-1</td>\n",
       "      <td>175.528776</td>\n",
       "      <td>0.889567</td>\n",
       "      <td>512</td>\n",
       "      <td>101.977349</td>\n",
       "      <td>0.914322</td>\n",
       "      <td>8</td>\n",
       "      <td>3</td>\n",
       "      <td>166</td>\n",
       "      <td>11281.609118</td>\n",
       "      <td>6.137789e-04</td>\n",
       "      <td>9.528776</td>\n",
       "      <td>0.319627</td>\n",
       "    </tr>\n",
       "    <tr>\n",
       "      <th>4</th>\n",
       "      <td>4-cpu4-batch128-njobs2-netlenet5</td>\n",
       "      <td>2</td>\n",
       "      <td>4</td>\n",
       "      <td>128</td>\n",
       "      <td>2</td>\n",
       "      <td>-1</td>\n",
       "      <td>293.708133</td>\n",
       "      <td>0.947500</td>\n",
       "      <td>128</td>\n",
       "      <td>262.861112</td>\n",
       "      <td>0.939504</td>\n",
       "      <td>4</td>\n",
       "      <td>2</td>\n",
       "      <td>342</td>\n",
       "      <td>1020.302191</td>\n",
       "      <td>7.372801e-05</td>\n",
       "      <td>-48.291867</td>\n",
       "      <td>0.104302</td>\n",
       "    </tr>\n",
       "  </tbody>\n",
       "</table>\n",
       "</div>"
      ],
      "text/plain": [
       "                              exp_name  replication  cpu_x  batch  njobs_x  \\\n",
       "0     0-cpu2-batch128-njobs1-netlenet5            2      2    128        1   \n",
       "1  1-cpu4-batch128-njobs1-netsimplenet            2      4    128        1   \n",
       "2  2-cpu1-batch128-njobs5-netsimplenet            2      1    128        5   \n",
       "3     3-cpu8-batch512-njobs3-netlenet5            2      8    512        3   \n",
       "4     4-cpu4-batch128-njobs2-netlenet5            2      4    128        2   \n",
       "\n",
       "   network        time  final_accuracy  best_batch  predicted_time  \\\n",
       "0       -1  311.109168        0.943700         128      241.785343   \n",
       "1       -1  262.252785        0.938167         128      240.565043   \n",
       "2       -1  266.366467        0.938667         128      280.197714   \n",
       "3       -1  175.528776        0.889567         512      101.977349   \n",
       "4       -1  293.708133        0.947500         128      262.861112   \n",
       "\n",
       "   predicted_accuracy  cpu_y  njobs_y  latency    error_time     error_acc  \\\n",
       "0            0.938160      2        1      412   5035.282155  3.202791e-05   \n",
       "1            0.938870      4        1      264    736.246620  8.764312e-07   \n",
       "2            0.938591      1        5      422    367.788057  6.479477e-07   \n",
       "3            0.914322      8        3      166  11281.609118  6.137789e-04   \n",
       "4            0.939504      4        2      342   1020.302191  7.372801e-05   \n",
       "\n",
       "          slo  error_perc  \n",
       "0 -100.890832    0.220923  \n",
       "1   -1.747215    0.079528  \n",
       "2 -155.633533    0.061706  \n",
       "3    9.528776    0.319627  \n",
       "4  -48.291867    0.104302  "
      ]
     },
     "execution_count": 91,
     "metadata": {},
     "output_type": "execute_result"
    }
   ],
   "source": [
    "df_c_means"
   ]
  },
  {
   "cell_type": "markdown",
   "metadata": {},
   "source": [
    "### Represent the plots\n",
    "\n",
    "This plots are the ones used for the final section of the report"
   ]
  },
  {
   "cell_type": "code",
   "execution_count": 89,
   "metadata": {
    "pycharm": {
     "name": "#%%\n"
    },
    "scrolled": false
   },
   "outputs": [
    {
     "name": "stdout",
     "output_type": "stream",
     "text": [
      "Errors in time\n",
      "3688.245628028179\n",
      "2668.045326332628\n",
      "\n",
      "\n",
      "errors in accuracy\n",
      "0.00014421184260000267\n",
      "0.00013839506439627147\n"
     ]
    },
    {
     "ename": "NameError",
     "evalue": "name 'df_r' is not defined",
     "output_type": "error",
     "traceback": [
      "\u001b[1;31m---------------------------------------------------------------------------\u001b[0m",
      "\u001b[1;31mNameError\u001b[0m                                 Traceback (most recent call last)",
      "\u001b[1;32m<ipython-input-89-bc9fd2321e58>\u001b[0m in \u001b[0;36m<module>\u001b[1;34m\u001b[0m\n\u001b[0;32m     33\u001b[0m \u001b[1;32mfrom\u001b[0m \u001b[0mscipy\u001b[0m\u001b[1;33m.\u001b[0m\u001b[0mstats\u001b[0m \u001b[1;32mimport\u001b[0m \u001b[0mshapiro\u001b[0m\u001b[1;33m,\u001b[0m \u001b[0mmannwhitneyu\u001b[0m\u001b[1;33m\u001b[0m\u001b[1;33m\u001b[0m\u001b[0m\n\u001b[0;32m     34\u001b[0m \u001b[1;33m\u001b[0m\u001b[0m\n\u001b[1;32m---> 35\u001b[1;33m \u001b[0m_\u001b[0m\u001b[1;33m,\u001b[0m\u001b[0mp_t\u001b[0m \u001b[1;33m=\u001b[0m \u001b[0mmannwhitneyu\u001b[0m\u001b[1;33m(\u001b[0m\u001b[0mdf_c\u001b[0m\u001b[1;33m[\u001b[0m\u001b[1;34m'error_time'\u001b[0m\u001b[1;33m]\u001b[0m\u001b[1;33m,\u001b[0m \u001b[0mdf_r\u001b[0m\u001b[1;33m[\u001b[0m\u001b[1;34m'error_time'\u001b[0m\u001b[1;33m]\u001b[0m\u001b[1;33m)\u001b[0m\u001b[1;33m\u001b[0m\u001b[1;33m\u001b[0m\u001b[0m\n\u001b[0m\u001b[0;32m     36\u001b[0m \u001b[0m_\u001b[0m\u001b[1;33m,\u001b[0m\u001b[0mp_acc\u001b[0m \u001b[1;33m=\u001b[0m \u001b[0mmannwhitneyu\u001b[0m\u001b[1;33m(\u001b[0m\u001b[0mdf_c\u001b[0m\u001b[1;33m[\u001b[0m\u001b[1;34m'error_acc'\u001b[0m\u001b[1;33m]\u001b[0m\u001b[1;33m,\u001b[0m \u001b[0mdf_r\u001b[0m\u001b[1;33m[\u001b[0m\u001b[1;34m'error_acc'\u001b[0m\u001b[1;33m]\u001b[0m\u001b[1;33m)\u001b[0m\u001b[1;33m\u001b[0m\u001b[1;33m\u001b[0m\u001b[0m\n\u001b[0;32m     37\u001b[0m \u001b[0mprint\u001b[0m\u001b[1;33m(\u001b[0m\u001b[0mp_t\u001b[0m\u001b[1;33m,\u001b[0m \u001b[0mp_acc\u001b[0m\u001b[1;33m)\u001b[0m\u001b[1;33m\u001b[0m\u001b[1;33m\u001b[0m\u001b[0m\n",
      "\u001b[1;31mNameError\u001b[0m: name 'df_r' is not defined"
     ]
    },
    {
     "data": {
      "image/png": "[encoded data removed]",
      "text/plain": [
       "<Figure size 864x720 with 2 Axes>"
      ]
     },
     "metadata": {
      "needs_background": "light"
     },
     "output_type": "display_data"
    }
   ],
   "source": [
    "# Print the mean squared error between time and predicted\n",
    "print('Errors in time')\n",
    "print(mean_squared_error(df_c['time'], df_c['predicted_time']))\n",
    "print(mean_squared_error(df_other['time'], df_other['predicted_time']))\n",
    "\n",
    "# Print the mean squared error in accuracy\n",
    "print('\\n\\nerrors in accuracy')\n",
    "print(mean_squared_error(df_c['final_accuracy'], df_c['predicted_accuracy']))\n",
    "print(mean_squared_error(df_other['final_accuracy'], df_other['predicted_accuracy']))\n",
    "\n",
    "plt.rc('font', size=17)\n",
    "\n",
    "# sns.set_palette()\n",
    "f, (ax1, ax2) = plt.subplots(2, figsize=(12,10), sharex=True)\n",
    "\n",
    "sns.boxplot(x=df_c.index % 5, y=np.sqrt(df_c.error_time), data=df_c, ax=ax1, palette='muted')\n",
    "sns.boxenplot(x=df_c.index % 5, y=np.sqrt(df_c.error_acc), data=df_c, ax=ax2, palette='muted')\n",
    "\n",
    "\n",
    "\n",
    "\n",
    "ax2.set_xlabel('Experiment number')\n",
    "ax1.set_ylabel('AE Response Time')\n",
    "ax2.set_ylabel('AE Accuracy')\n",
    "\n",
    "\n",
    "plt.savefig('./figures/courier_performance.pdf')\n",
    "\n",
    "\n",
    "\n",
    "\n",
    "# get a significance test\n",
    "from scipy.stats import shapiro, mannwhitneyu\n",
    "\n",
    "_,p_t = mannwhitneyu(df_c['error_time'], df_r['error_time'])\n",
    "_,p_acc = mannwhitneyu(df_c['error_acc'], df_r['error_acc'])\n",
    "print(p_t, p_acc)\n",
    "\n",
    "f, (ax1, ax2) = plt.subplots(1,2, figsize=(12,6), sharey=True, sharex=True)\n",
    "sns.barplot(x=df_c.index % 5, y=df_c.slo, data=df_c, ax=ax1)\n",
    "sns.barplot(x=df_other.index % 5, y=df_r.slo, data=df_r, ax=ax2)\n",
    "ax1.set_xlabel('Experiment Number')\n",
    "ax2.set_xlabel('Experiment Number')\n",
    "ax1.set_ylabel('Response Time - Latency SLO (s)')\n",
    "\n",
    "plt.savefig('./figures/courier-vs-random_slo.pdf')\n",
    "\n",
    "\n",
    "f, (ax1, ax2) = plt.subplots(1,2, figsize=(12,6), sharey=True)\n",
    "sns.barplot(x=df_c.index % 5, y=df_c.final_accuracy, data=df_c, ax=ax1)\n",
    "sns.barplot(x=df_r.index % 5, y=df_r.final_accuracy, data=df_r, ax=ax2)\n",
    "ax1.set_ylim([0.88, 0.96])\n",
    "\n",
    "ax1.set_xlabel('Experiment Number')\n",
    "ax2.set_xlabel('Experiment Number')\n",
    "ax1.set_ylabel('Final Accuracy')\n",
    "\n",
    "plt.savefig('./figures/courier-vs-random_accuracy.pdf')"
   ]
  },
  {
   "cell_type": "code",
   "execution_count": null,
   "metadata": {
    "scrolled": false
   },
   "outputs": [],
   "source": [
    "df_c"
   ]
  },
  {
   "cell_type": "code",
   "execution_count": null,
   "metadata": {
    "scrolled": false
   },
   "outputs": [],
   "source": [
    "df_other"
   ]
  }
 ],
 "metadata": {
  "kernelspec": {
   "display_name": "Python 3",
   "language": "python",
   "name": "python3"
  },
  "language_info": {
   "codemirror_mode": {
    "name": "ipython",
    "version": 3
   },
   "file_extension": ".py",
   "mimetype": "text/x-python",
   "name": "python",
   "nbconvert_exporter": "python",
   "pygments_lexer": "ipython3",
   "version": "3.6.8"
  }
 },
 "nbformat": 4,
 "nbformat_minor": 1
}
